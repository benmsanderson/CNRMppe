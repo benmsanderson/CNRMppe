{
 "cells": [
  {
   "cell_type": "markdown",
   "metadata": {},
   "source": [
    "# Create emulator (neural network) "
   ]
  },
  {
   "cell_type": "markdown",
   "metadata": {},
   "source": [
    "## Import modules"
   ]
  },
  {
   "cell_type": "code",
   "execution_count": 1,
   "metadata": {},
   "outputs": [
    {
     "name": "stderr",
     "output_type": "stream",
     "text": [
      "Using TensorFlow backend.\n"
     ]
    }
   ],
   "source": [
    "# Computational modules \n",
    "%matplotlib inline\n",
    "import xarray as xr\n",
    "import glob\n",
    "import os\n",
    "import numpy as np\n",
    "import netCDF4\n",
    "from netCDF4 import Dataset\n",
    "import pandas as pd\n",
    "import re\n",
    "from array import array\n",
    "from pylab import *\n",
    "\n",
    "# Plotting modules \n",
    "import matplotlib.pyplot as plt\n",
    "from mpl_toolkits.basemap import Basemap\n",
    "import pandas.plotting\n",
    "import matplotlib.ticker as ticker\n",
    "\n",
    "# Keras modules \n",
    "from keras.models import Sequential\n",
    "from keras.layers import Dense\n",
    "from keras.optimizers import SGD, Adam\n",
    "from keras.regularizers import l2\n",
    "import keras.backend as K\n",
    "from scipy import stats\n",
    "from keras import layers\n",
    "from keras.optimizers import RMSprop"
   ]
  },
  {
   "cell_type": "markdown",
   "metadata": {},
   "source": [
    "## Read the simulations.csv file and create inputdata array"
   ]
  },
  {
   "cell_type": "code",
   "execution_count": 2,
   "metadata": {
    "scrolled": false
   },
   "outputs": [
    {
     "data": {
      "text/html": [
       "<div>\n",
       "<style scoped>\n",
       "    .dataframe tbody tr th:only-of-type {\n",
       "        vertical-align: middle;\n",
       "    }\n",
       "\n",
       "    .dataframe tbody tr th {\n",
       "        vertical-align: top;\n",
       "    }\n",
       "\n",
       "    .dataframe thead th {\n",
       "        text-align: right;\n",
       "    }\n",
       "</style>\n",
       "<table border=\"1\" class=\"dataframe\">\n",
       "  <thead>\n",
       "    <tr style=\"text-align: right;\">\n",
       "      <th></th>\n",
       "      <th>RKDN</th>\n",
       "      <th>RKDX</th>\n",
       "      <th>TENTR</th>\n",
       "      <th>TENTRX</th>\n",
       "      <th>VVX</th>\n",
       "      <th>RAUTEFR</th>\n",
       "      <th>RAUTEFS</th>\n",
       "      <th>RQICRMIN</th>\n",
       "      <th>RQICRMAX</th>\n",
       "      <th>RQLCR</th>\n",
       "      <th>...</th>\n",
       "      <th>TFVL</th>\n",
       "      <th>RACCEF</th>\n",
       "      <th>RRIMEF</th>\n",
       "      <th>RAGGEF</th>\n",
       "      <th>REVASX</th>\n",
       "      <th>RREVASXCS</th>\n",
       "      <th>RSWINHF_LIQ</th>\n",
       "      <th>RSWINHF_ICE</th>\n",
       "      <th>RLWINHF_LIQ</th>\n",
       "      <th>RLWINHF_ICE</th>\n",
       "    </tr>\n",
       "    <tr>\n",
       "      <th>ensemble</th>\n",
       "      <th></th>\n",
       "      <th></th>\n",
       "      <th></th>\n",
       "      <th></th>\n",
       "      <th></th>\n",
       "      <th></th>\n",
       "      <th></th>\n",
       "      <th></th>\n",
       "      <th></th>\n",
       "      <th></th>\n",
       "      <th></th>\n",
       "      <th></th>\n",
       "      <th></th>\n",
       "      <th></th>\n",
       "      <th></th>\n",
       "      <th></th>\n",
       "      <th></th>\n",
       "      <th></th>\n",
       "      <th></th>\n",
       "      <th></th>\n",
       "      <th></th>\n",
       "    </tr>\n",
       "  </thead>\n",
       "  <tbody>\n",
       "    <tr>\n",
       "      <th>0</th>\n",
       "      <td>0.000050</td>\n",
       "      <td>0.000587</td>\n",
       "      <td>0.000010</td>\n",
       "      <td>0.000058</td>\n",
       "      <td>-32.5</td>\n",
       "      <td>0.00206</td>\n",
       "      <td>0.00350</td>\n",
       "      <td>1.100000e-07</td>\n",
       "      <td>0.000011</td>\n",
       "      <td>0.000147</td>\n",
       "      <td>...</td>\n",
       "      <td>0.07010</td>\n",
       "      <td>1.130</td>\n",
       "      <td>0.991</td>\n",
       "      <td>0.288</td>\n",
       "      <td>1.050000e-07</td>\n",
       "      <td>0.5950</td>\n",
       "      <td>0.646</td>\n",
       "      <td>0.864</td>\n",
       "      <td>0.584</td>\n",
       "      <td>0.603</td>\n",
       "    </tr>\n",
       "    <tr>\n",
       "      <th>1</th>\n",
       "      <td>0.000020</td>\n",
       "      <td>0.000180</td>\n",
       "      <td>0.000019</td>\n",
       "      <td>0.000108</td>\n",
       "      <td>-47.1</td>\n",
       "      <td>0.00170</td>\n",
       "      <td>0.00152</td>\n",
       "      <td>1.030000e-07</td>\n",
       "      <td>0.000031</td>\n",
       "      <td>0.000779</td>\n",
       "      <td>...</td>\n",
       "      <td>0.19300</td>\n",
       "      <td>1.300</td>\n",
       "      <td>0.752</td>\n",
       "      <td>0.343</td>\n",
       "      <td>8.130000e-08</td>\n",
       "      <td>0.0236</td>\n",
       "      <td>0.655</td>\n",
       "      <td>0.792</td>\n",
       "      <td>0.502</td>\n",
       "      <td>0.781</td>\n",
       "    </tr>\n",
       "    <tr>\n",
       "      <th>2</th>\n",
       "      <td>0.000028</td>\n",
       "      <td>0.000138</td>\n",
       "      <td>0.000018</td>\n",
       "      <td>0.000071</td>\n",
       "      <td>-48.9</td>\n",
       "      <td>0.00384</td>\n",
       "      <td>0.00379</td>\n",
       "      <td>2.010000e-07</td>\n",
       "      <td>0.000023</td>\n",
       "      <td>0.000839</td>\n",
       "      <td>...</td>\n",
       "      <td>0.15300</td>\n",
       "      <td>0.570</td>\n",
       "      <td>1.230</td>\n",
       "      <td>0.168</td>\n",
       "      <td>5.810000e-07</td>\n",
       "      <td>0.8230</td>\n",
       "      <td>0.697</td>\n",
       "      <td>0.802</td>\n",
       "      <td>0.940</td>\n",
       "      <td>0.953</td>\n",
       "    </tr>\n",
       "    <tr>\n",
       "      <th>3</th>\n",
       "      <td>0.000038</td>\n",
       "      <td>0.000163</td>\n",
       "      <td>0.000017</td>\n",
       "      <td>0.000110</td>\n",
       "      <td>-44.5</td>\n",
       "      <td>0.00481</td>\n",
       "      <td>0.00221</td>\n",
       "      <td>9.700000e-08</td>\n",
       "      <td>0.000020</td>\n",
       "      <td>0.000057</td>\n",
       "      <td>...</td>\n",
       "      <td>0.00959</td>\n",
       "      <td>1.460</td>\n",
       "      <td>0.612</td>\n",
       "      <td>0.808</td>\n",
       "      <td>3.370000e-07</td>\n",
       "      <td>0.2230</td>\n",
       "      <td>0.745</td>\n",
       "      <td>0.633</td>\n",
       "      <td>0.927</td>\n",
       "      <td>0.672</td>\n",
       "    </tr>\n",
       "    <tr>\n",
       "      <th>4</th>\n",
       "      <td>0.000036</td>\n",
       "      <td>0.000787</td>\n",
       "      <td>0.000005</td>\n",
       "      <td>0.000056</td>\n",
       "      <td>-38.1</td>\n",
       "      <td>0.00195</td>\n",
       "      <td>0.00494</td>\n",
       "      <td>6.850000e-08</td>\n",
       "      <td>0.000029</td>\n",
       "      <td>0.000736</td>\n",
       "      <td>...</td>\n",
       "      <td>0.17000</td>\n",
       "      <td>1.410</td>\n",
       "      <td>1.580</td>\n",
       "      <td>0.596</td>\n",
       "      <td>4.370000e-07</td>\n",
       "      <td>0.8390</td>\n",
       "      <td>0.807</td>\n",
       "      <td>0.783</td>\n",
       "      <td>0.719</td>\n",
       "      <td>0.530</td>\n",
       "    </tr>\n",
       "    <tr>\n",
       "      <th>...</th>\n",
       "      <td>...</td>\n",
       "      <td>...</td>\n",
       "      <td>...</td>\n",
       "      <td>...</td>\n",
       "      <td>...</td>\n",
       "      <td>...</td>\n",
       "      <td>...</td>\n",
       "      <td>...</td>\n",
       "      <td>...</td>\n",
       "      <td>...</td>\n",
       "      <td>...</td>\n",
       "      <td>...</td>\n",
       "      <td>...</td>\n",
       "      <td>...</td>\n",
       "      <td>...</td>\n",
       "      <td>...</td>\n",
       "      <td>...</td>\n",
       "      <td>...</td>\n",
       "      <td>...</td>\n",
       "      <td>...</td>\n",
       "      <td>...</td>\n",
       "    </tr>\n",
       "    <tr>\n",
       "      <th>191</th>\n",
       "      <td>0.000048</td>\n",
       "      <td>0.000261</td>\n",
       "      <td>0.000017</td>\n",
       "      <td>0.000066</td>\n",
       "      <td>-25.9</td>\n",
       "      <td>0.00281</td>\n",
       "      <td>0.00358</td>\n",
       "      <td>2.500000e-07</td>\n",
       "      <td>0.000043</td>\n",
       "      <td>0.000239</td>\n",
       "      <td>...</td>\n",
       "      <td>0.16800</td>\n",
       "      <td>0.852</td>\n",
       "      <td>1.070</td>\n",
       "      <td>0.318</td>\n",
       "      <td>2.340000e-07</td>\n",
       "      <td>0.1230</td>\n",
       "      <td>0.703</td>\n",
       "      <td>0.663</td>\n",
       "      <td>0.765</td>\n",
       "      <td>0.857</td>\n",
       "    </tr>\n",
       "    <tr>\n",
       "      <th>192</th>\n",
       "      <td>0.000047</td>\n",
       "      <td>0.000530</td>\n",
       "      <td>0.000008</td>\n",
       "      <td>0.000049</td>\n",
       "      <td>-44.0</td>\n",
       "      <td>0.00361</td>\n",
       "      <td>0.00474</td>\n",
       "      <td>9.120000e-08</td>\n",
       "      <td>0.000041</td>\n",
       "      <td>0.000587</td>\n",
       "      <td>...</td>\n",
       "      <td>0.00176</td>\n",
       "      <td>0.592</td>\n",
       "      <td>1.640</td>\n",
       "      <td>1.120</td>\n",
       "      <td>9.050000e-07</td>\n",
       "      <td>0.5420</td>\n",
       "      <td>0.898</td>\n",
       "      <td>0.992</td>\n",
       "      <td>0.914</td>\n",
       "      <td>0.748</td>\n",
       "    </tr>\n",
       "    <tr>\n",
       "      <th>193</th>\n",
       "      <td>0.000021</td>\n",
       "      <td>0.000831</td>\n",
       "      <td>0.000010</td>\n",
       "      <td>0.000064</td>\n",
       "      <td>-20.1</td>\n",
       "      <td>0.00331</td>\n",
       "      <td>0.00445</td>\n",
       "      <td>1.630000e-07</td>\n",
       "      <td>0.000038</td>\n",
       "      <td>0.000748</td>\n",
       "      <td>...</td>\n",
       "      <td>0.08220</td>\n",
       "      <td>1.470</td>\n",
       "      <td>1.370</td>\n",
       "      <td>1.280</td>\n",
       "      <td>6.980000e-07</td>\n",
       "      <td>0.8420</td>\n",
       "      <td>0.549</td>\n",
       "      <td>0.941</td>\n",
       "      <td>0.531</td>\n",
       "      <td>0.754</td>\n",
       "    </tr>\n",
       "    <tr>\n",
       "      <th>194</th>\n",
       "      <td>0.000046</td>\n",
       "      <td>0.000482</td>\n",
       "      <td>0.000006</td>\n",
       "      <td>0.000099</td>\n",
       "      <td>-34.7</td>\n",
       "      <td>0.00271</td>\n",
       "      <td>0.00488</td>\n",
       "      <td>2.820000e-08</td>\n",
       "      <td>0.000041</td>\n",
       "      <td>0.000627</td>\n",
       "      <td>...</td>\n",
       "      <td>0.03220</td>\n",
       "      <td>1.460</td>\n",
       "      <td>1.580</td>\n",
       "      <td>0.327</td>\n",
       "      <td>8.730000e-07</td>\n",
       "      <td>0.9420</td>\n",
       "      <td>0.939</td>\n",
       "      <td>0.675</td>\n",
       "      <td>0.685</td>\n",
       "      <td>0.870</td>\n",
       "    </tr>\n",
       "    <tr>\n",
       "      <th>195</th>\n",
       "      <td>0.000040</td>\n",
       "      <td>0.000329</td>\n",
       "      <td>0.000013</td>\n",
       "      <td>0.000112</td>\n",
       "      <td>-42.0</td>\n",
       "      <td>0.00435</td>\n",
       "      <td>0.00324</td>\n",
       "      <td>2.600000e-07</td>\n",
       "      <td>0.000049</td>\n",
       "      <td>0.000382</td>\n",
       "      <td>...</td>\n",
       "      <td>0.17400</td>\n",
       "      <td>0.889</td>\n",
       "      <td>0.899</td>\n",
       "      <td>1.370</td>\n",
       "      <td>8.010000e-07</td>\n",
       "      <td>0.5070</td>\n",
       "      <td>0.761</td>\n",
       "      <td>0.527</td>\n",
       "      <td>0.892</td>\n",
       "      <td>0.927</td>\n",
       "    </tr>\n",
       "  </tbody>\n",
       "</table>\n",
       "<p>196 rows × 21 columns</p>\n",
       "</div>"
      ],
      "text/plain": [
       "              RKDN      RKDX     TENTR     TENTRX     VVX     RAUTEFR  \\\n",
       "ensemble                                                                \n",
       "0         0.000050  0.000587  0.000010   0.000058   -32.5     0.00206   \n",
       "1         0.000020  0.000180  0.000019   0.000108   -47.1     0.00170   \n",
       "2         0.000028  0.000138  0.000018   0.000071   -48.9     0.00384   \n",
       "3         0.000038  0.000163  0.000017   0.000110   -44.5     0.00481   \n",
       "4         0.000036  0.000787  0.000005   0.000056   -38.1     0.00195   \n",
       "...            ...       ...       ...        ...     ...         ...   \n",
       "191       0.000048  0.000261  0.000017   0.000066   -25.9     0.00281   \n",
       "192       0.000047  0.000530  0.000008   0.000049   -44.0     0.00361   \n",
       "193       0.000021  0.000831  0.000010   0.000064   -20.1     0.00331   \n",
       "194       0.000046  0.000482  0.000006   0.000099   -34.7     0.00271   \n",
       "195       0.000040  0.000329  0.000013   0.000112   -42.0     0.00435   \n",
       "\n",
       "             RAUTEFS      RQICRMIN     RQICRMAX     RQLCR  ...     TFVL  \\\n",
       "ensemble                                                   ...            \n",
       "0            0.00350  1.100000e-07     0.000011  0.000147  ...  0.07010   \n",
       "1            0.00152  1.030000e-07     0.000031  0.000779  ...  0.19300   \n",
       "2            0.00379  2.010000e-07     0.000023  0.000839  ...  0.15300   \n",
       "3            0.00221  9.700000e-08     0.000020  0.000057  ...  0.00959   \n",
       "4            0.00494  6.850000e-08     0.000029  0.000736  ...  0.17000   \n",
       "...              ...           ...          ...       ...  ...      ...   \n",
       "191          0.00358  2.500000e-07     0.000043  0.000239  ...  0.16800   \n",
       "192          0.00474  9.120000e-08     0.000041  0.000587  ...  0.00176   \n",
       "193          0.00445  1.630000e-07     0.000038  0.000748  ...  0.08220   \n",
       "194          0.00488  2.820000e-08     0.000041  0.000627  ...  0.03220   \n",
       "195          0.00324  2.600000e-07     0.000049  0.000382  ...  0.17400   \n",
       "\n",
       "             RACCEF     RRIMEF     RAGGEF        REVASX     RREVASXCS  \\\n",
       "ensemble                                                                \n",
       "0             1.130      0.991      0.288  1.050000e-07        0.5950   \n",
       "1             1.300      0.752      0.343  8.130000e-08        0.0236   \n",
       "2             0.570      1.230      0.168  5.810000e-07        0.8230   \n",
       "3             1.460      0.612      0.808  3.370000e-07        0.2230   \n",
       "4             1.410      1.580      0.596  4.370000e-07        0.8390   \n",
       "...             ...        ...        ...           ...           ...   \n",
       "191           0.852      1.070      0.318  2.340000e-07        0.1230   \n",
       "192           0.592      1.640      1.120  9.050000e-07        0.5420   \n",
       "193           1.470      1.370      1.280  6.980000e-07        0.8420   \n",
       "194           1.460      1.580      0.327  8.730000e-07        0.9420   \n",
       "195           0.889      0.899      1.370  8.010000e-07        0.5070   \n",
       "\n",
       "             RSWINHF_LIQ     RSWINHF_ICE     RLWINHF_LIQ     RLWINHF_ICE  \n",
       "ensemble                                                                  \n",
       "0                  0.646           0.864           0.584           0.603  \n",
       "1                  0.655           0.792           0.502           0.781  \n",
       "2                  0.697           0.802           0.940           0.953  \n",
       "3                  0.745           0.633           0.927           0.672  \n",
       "4                  0.807           0.783           0.719           0.530  \n",
       "...                  ...             ...             ...             ...  \n",
       "191                0.703           0.663           0.765           0.857  \n",
       "192                0.898           0.992           0.914           0.748  \n",
       "193                0.549           0.941           0.531           0.754  \n",
       "194                0.939           0.675           0.685           0.870  \n",
       "195                0.761           0.527           0.892           0.927  \n",
       "\n",
       "[196 rows x 21 columns]"
      ]
     },
     "execution_count": 2,
     "metadata": {},
     "output_type": "execute_result"
    }
   ],
   "source": [
    "# Read data from file 'simulations.csv' \n",
    "# Then arrange ncely the data in dataframe and change data type of the values\n",
    "data = pd.read_csv(\"./simulations.csv\", header=None)\n",
    "#d=data.reset_index()\n",
    "\n",
    "line0 = data.iloc[0,0]\n",
    "\n",
    "param_names=[21]\n",
    "\n",
    "param_names[0] = 'RKDN'\n",
    "param_names[1:] = re.findall( r'( .*?)=', line0)\n",
    "param_values = re.findall( r'=(.*?\\d.*?e.*?0\\d)', line0)\n",
    "[float(param_values[k]) for k in range(len(param_values)-1)]\n",
    "\n",
    "df_params = pd.DataFrame(param_values, index=param_names)\n",
    "df_params[0] = df_params[0].astype(float)\n",
    "\n",
    "L=len(data)\n",
    "i=1\n",
    "while i<L:\n",
    "    line = data.iloc[i,0]\n",
    "    param_values2 = re.findall( r'=(.*?\\d.*?e.*?0\\d)', line)\n",
    "    [float(param_values2[l]) for l in range(len(param_values2)-1)]\n",
    "    df_params[str(i)]=(param_values2)\n",
    "    df_params[str(i)] = df_params[str(i)].astype(float)\n",
    "    i = i+1\n",
    "\n",
    "tmp_inputdata = df_params \n",
    "\n",
    "#Delete lines corresponding to the missing simulations \n",
    "missing_lines=pd.read_csv('missing_lines_simulations.txt', sep=\" \", header = None)\n",
    "length=missing_lines.count(axis='columns').values\n",
    "l=length[0]\n",
    "list_line=[l]\n",
    "\n",
    "j=0\n",
    "while j<l:\n",
    "    line=missing_lines[j]-1\n",
    "    list_line[j:]=line.astype(str)   \n",
    "    j = j+1\n",
    "\n",
    "tmp=tmp_inputdata.drop(list_line,axis=1).transpose() \n",
    "\n",
    "# Add index 'ensemble' as in the output data\n",
    "a=len(tmp)\n",
    "ensemble = [k for k in range(a)]\n",
    "[str(ensemble[m]) for m in range(len(ensemble)-1)]\n",
    "tmp['ensemble']=ensemble\n",
    "inputdata=tmp.set_index('ensemble')\n",
    "inputdata"
   ]
  },
  {
   "cell_type": "code",
   "execution_count": 3,
   "metadata": {},
   "outputs": [],
   "source": [
    "# Save the numpy array in a file   \n",
    "inp=inputdata.values\n",
    "np.save('/data/home/globc/peatier/CNRMppe/inputdata_file.npy', inp)"
   ]
  },
  {
   "cell_type": "code",
   "execution_count": 5,
   "metadata": {
    "scrolled": true
   },
   "outputs": [
    {
     "data": {
      "image/png": "[encoded data removed]",
      "text/plain": [
       "<Figure size 432x288 with 1 Axes>"
      ]
     },
     "metadata": {
      "needs_background": "light"
     },
     "output_type": "display_data"
    },
    {
     "data": {
      "image/png": "[encoded data removed]",
      "text/plain": [
       "<Figure size 432x288 with 1 Axes>"
      ]
     },
     "metadata": {
      "needs_background": "light"
     },
     "output_type": "display_data"
    },
    {
     "data": {
      "image/png": "[encoded data removed]",
      "text/plain": [
       "<Figure size 432x288 with 1 Axes>"
      ]
     },
     "metadata": {
      "needs_background": "light"
     },
     "output_type": "display_data"
    },
    {
     "data": {
      "image/png": "[encoded data removed]",
      "text/plain": [
       "<Figure size 432x288 with 1 Axes>"
      ]
     },
     "metadata": {
      "needs_background": "light"
     },
     "output_type": "display_data"
    },
    {
     "data": {
      "image/png": "[encoded data removed]",
      "text/plain": [
       "<Figure size 432x288 with 1 Axes>"
      ]
     },
     "metadata": {
      "needs_background": "light"
     },
     "output_type": "display_data"
    },
    {
     "data": {
      "image/png": "[encoded data removed]",
      "text/plain": [
       "<Figure size 432x288 with 1 Axes>"
      ]
     },
     "metadata": {
      "needs_background": "light"
     },
     "output_type": "display_data"
    },
    {
     "data": {
      "image/png": "[encoded data removed]",
      "text/plain": [
       "<Figure size 432x288 with 1 Axes>"
      ]
     },
     "metadata": {
      "needs_background": "light"
     },
     "output_type": "display_data"
    },
    {
     "data": {
      "image/png": "[encoded data removed]",
      "text/plain": [
       "<Figure size 432x288 with 1 Axes>"
      ]
     },
     "metadata": {
      "needs_background": "light"
     },
     "output_type": "display_data"
    },
    {
     "data": {
      "image/png": "[encoded data removed]",
      "text/plain": [
       "<Figure size 432x288 with 1 Axes>"
      ]
     },
     "metadata": {
      "needs_background": "light"
     },
     "output_type": "display_data"
    },
    {
     "data": {
      "image/png": "[encoded data removed]",
      "text/plain": [
       "<Figure size 432x288 with 1 Axes>"
      ]
     },
     "metadata": {
      "needs_background": "light"
     },
     "output_type": "display_data"
    },
    {
     "data": {
      "image/png": "[encoded data removed]",
      "text/plain": [
       "<Figure size 432x288 with 1 Axes>"
      ]
     },
     "metadata": {
      "needs_background": "light"
     },
     "output_type": "display_data"
    },
    {
     "data": {
      "image/png": "[encoded data removed]",
      "text/plain": [
       "<Figure size 432x288 with 1 Axes>"
      ]
     },
     "metadata": {
      "needs_background": "light"
     },
     "output_type": "display_data"
    },
    {
     "data": {
      "image/png": "[encoded data removed]",
      "text/plain": [
       "<Figure size 432x288 with 1 Axes>"
      ]
     },
     "metadata": {
      "needs_background": "light"
     },
     "output_type": "display_data"
    },
    {
     "data": {
      "image/png": "[encoded data removed]",
      "text/plain": [
       "<Figure size 432x288 with 1 Axes>"
      ]
     },
     "metadata": {
      "needs_background": "light"
     },
     "output_type": "display_data"
    },
    {
     "data": {
      "image/png": "[encoded data removed]",
      "text/plain": [
       "<Figure size 432x288 with 1 Axes>"
      ]
     },
     "metadata": {
      "needs_background": "light"
     },
     "output_type": "display_data"
    },
    {
     "data": {
      "image/png": "[encoded data removed]",
      "text/plain": [
       "<Figure size 432x288 with 1 Axes>"
      ]
     },
     "metadata": {
      "needs_background": "light"
     },
     "output_type": "display_data"
    },
    {
     "data": {
      "image/png": "[encoded data removed]",
      "text/plain": [
       "<Figure size 432x288 with 1 Axes>"
      ]
     },
     "metadata": {
      "needs_background": "light"
     },
     "output_type": "display_data"
    },
    {
     "data": {
      "image/png": "[encoded data removed]",
      "text/plain": [
       "<Figure size 432x288 with 1 Axes>"
      ]
     },
     "metadata": {
      "needs_background": "light"
     },
     "output_type": "display_data"
    },
    {
     "data": {
      "image/png": "[encoded data removed]",
      "text/plain": [
       "<Figure size 432x288 with 1 Axes>"
      ]
     },
     "metadata": {
      "needs_background": "light"
     },
     "output_type": "display_data"
    },
    {
     "data": {
      "image/png": "[encoded data removed]",
      "text/plain": [
       "<Figure size 432x288 with 1 Axes>"
      ]
     },
     "metadata": {
      "needs_background": "light"
     },
     "output_type": "display_data"
    },
    {
     "data": {
      "image/png": "[encoded data removed]",
      "text/plain": [
       "<Figure size 432x288 with 1 Axes>"
      ]
     },
     "metadata": {
      "needs_background": "light"
     },
     "output_type": "display_data"
    }
   ],
   "source": [
    "#Create plot\n",
    "\n",
    "fig_params=plt.figure()\n",
    "#Xaxis=np.arange(0,210,10)\n",
    "#print(Xaxis)\n",
    "\n",
    "# boucle pour céer les figures:\n",
    "i=0\n",
    "p=1\n",
    "while i < 21:\n",
    "#    ax = fig_params.add_subplot(21,1,p)\n",
    "    param=param_names[i]\n",
    "#    ax.set_title(param, fontsize=18, fontweight='bold')\n",
    "#    inputdata.plot(kind='bar',y=param, ax=ax, fontsize=18, sharex=True)\n",
    "#    ax.xaxis.set_major_locator(ticker.LinearLocator(numticks=20))\n",
    "    plt.hist(inputdata.iloc[:,i], bins='auto', rwidth=0.5, color = \"gray\")\n",
    "    plt.ticklabel_format(axis='x',useOffset=True,style='scientific')\n",
    "    plt.ylim(ymin=18)\n",
    "    plt.title(param)\n",
    "    plt.show()\n",
    "    i = i+1\n",
    "    p = p+1\n",
    "\n",
    "fig_params.suptitle('Perturbed parameters', fontsize=25, fontweight = 'bold')\n",
    "fig_params.tight_layout()\n",
    "fig_params.subplots_adjust(top=0.97,hspace = 0.2)"
   ]
  },
  {
   "cell_type": "markdown",
   "metadata": {},
   "source": [
    "## Read /PRE623TUN*.nc and create outputdata array"
   ]
  },
  {
   "cell_type": "code",
   "execution_count": 3,
   "metadata": {
    "scrolled": false
   },
   "outputs": [
    {
     "name": "stderr",
     "output_type": "stream",
     "text": [
      "/scratch/globc/peatier/conda/lib/python3.7/site-packages/dask/array/numpy_compat.py:40: RuntimeWarning: divide by zero encountered in true_divide\n",
      "  x = np.divide(x1, x2, out)\n",
      "/scratch/globc/peatier/conda/lib/python3.7/site-packages/dask/array/numpy_compat.py:40: RuntimeWarning: invalid value encountered in true_divide\n",
      "  x = np.divide(x1, x2, out)\n"
     ]
    }
   ],
   "source": [
    "# -------------------------------------  Simulations :  -----------------------------------------------------\n",
    "path_simul = \"/scratch/globc/dcom/ARPEGE6_TUNE\"\n",
    "filename_simul = \"/PRE623TUN*.nc\"\n",
    "file_simul = xr.open_mfdataset(path_simul+filename_simul,concat_dim='ensemble',combine='nested')\n",
    "\n",
    "# TOA fluxes\n",
    "var = ['rlut']\n",
    "nc_simul = file_simul[var]\n",
    "# compute global mean... WARNING : no scale factors used here !\n",
    "xarray_simul = nc_simul.mean('lat').mean('lon')\n",
    "simul = xarray_simul.to_dataframe()\n",
    "#simul"
   ]
  },
  {
   "cell_type": "code",
   "execution_count": 5,
   "metadata": {},
   "outputs": [
    {
     "data": {
      "text/html": [
       "<div>\n",
       "<style scoped>\n",
       "    .dataframe tbody tr th:only-of-type {\n",
       "        vertical-align: middle;\n",
       "    }\n",
       "\n",
       "    .dataframe tbody tr th {\n",
       "        vertical-align: top;\n",
       "    }\n",
       "\n",
       "    .dataframe thead th {\n",
       "        text-align: right;\n",
       "    }\n",
       "</style>\n",
       "<table border=\"1\" class=\"dataframe\">\n",
       "  <thead>\n",
       "    <tr style=\"text-align: right;\">\n",
       "      <th></th>\n",
       "      <th>rlut</th>\n",
       "    </tr>\n",
       "    <tr>\n",
       "      <th>ensemble</th>\n",
       "      <th></th>\n",
       "    </tr>\n",
       "  </thead>\n",
       "  <tbody>\n",
       "    <tr>\n",
       "      <th>0</th>\n",
       "      <td>228.311859</td>\n",
       "    </tr>\n",
       "    <tr>\n",
       "      <th>1</th>\n",
       "      <td>222.054871</td>\n",
       "    </tr>\n",
       "    <tr>\n",
       "      <th>2</th>\n",
       "      <td>223.350296</td>\n",
       "    </tr>\n",
       "    <tr>\n",
       "      <th>3</th>\n",
       "      <td>226.556885</td>\n",
       "    </tr>\n",
       "    <tr>\n",
       "      <th>4</th>\n",
       "      <td>225.910217</td>\n",
       "    </tr>\n",
       "    <tr>\n",
       "      <th>...</th>\n",
       "      <td>...</td>\n",
       "    </tr>\n",
       "    <tr>\n",
       "      <th>191</th>\n",
       "      <td>222.314301</td>\n",
       "    </tr>\n",
       "    <tr>\n",
       "      <th>192</th>\n",
       "      <td>223.451294</td>\n",
       "    </tr>\n",
       "    <tr>\n",
       "      <th>193</th>\n",
       "      <td>222.339432</td>\n",
       "    </tr>\n",
       "    <tr>\n",
       "      <th>194</th>\n",
       "      <td>223.514648</td>\n",
       "    </tr>\n",
       "    <tr>\n",
       "      <th>195</th>\n",
       "      <td>222.014938</td>\n",
       "    </tr>\n",
       "  </tbody>\n",
       "</table>\n",
       "<p>196 rows × 1 columns</p>\n",
       "</div>"
      ],
      "text/plain": [
       "                rlut\n",
       "ensemble            \n",
       "0         228.311859\n",
       "1         222.054871\n",
       "2         223.350296\n",
       "3         226.556885\n",
       "4         225.910217\n",
       "...              ...\n",
       "191       222.314301\n",
       "192       223.451294\n",
       "193       222.339432\n",
       "194       223.514648\n",
       "195       222.014938\n",
       "\n",
       "[196 rows x 1 columns]"
      ]
     },
     "execution_count": 5,
     "metadata": {},
     "output_type": "execute_result"
    }
   ],
   "source": [
    "# Compute climatology\n",
    "sim = simul.reset_index(level=['time'])\n",
    "sim['month'] = pd.DatetimeIndex(sim['time']).month\n",
    "outputdata=sim.groupby(['ensemble','month']).mean()\n",
    "output=sim.groupby(['ensemble','month']).mean()\n",
    "outputdata=output.groupby(['ensemble']).mean()\n",
    "outputdata"
   ]
  },
  {
   "cell_type": "code",
   "execution_count": 6,
   "metadata": {},
   "outputs": [],
   "source": [
    "# Save the numpy array in a file   \n",
    "out=outputdata.values\n",
    "np.save('/data/home/globc/peatier/CNRMppe/outputdata_file.npy', out)"
   ]
  },
  {
   "cell_type": "code",
   "execution_count": 28,
   "metadata": {},
   "outputs": [
    {
     "data": {
      "image/png": "[encoded data removed]",
      "text/plain": [
       "<Figure size 432x288 with 1 Axes>"
      ]
     },
     "metadata": {
      "needs_background": "light"
     },
     "output_type": "display_data"
    }
   ],
   "source": [
    "#Create plot \n",
    "plt.hist(outputdata['rlut'], bins='auto', rwidth=0.5)\n",
    "#plt.title('rlut')\n",
    "plt.xlabel('rlut [W.m^2]')\n",
    "plt.ylabel('Ensemble')\n",
    "plt.show()"
   ]
  },
  {
   "cell_type": "markdown",
   "metadata": {},
   "source": [
    "## Create Emulator"
   ]
  },
  {
   "cell_type": "code",
   "execution_count": 6,
   "metadata": {
    "scrolled": false
   },
   "outputs": [
    {
     "name": "stdout",
     "output_type": "stream",
     "text": [
      "_________________________________________________________________\n",
      "Layer (type)                 Output Shape              Param #   \n",
      "=================================================================\n",
      "dense_5 (Dense)              (None, 20)                440       \n",
      "_________________________________________________________________\n",
      "dense_6 (Dense)              (None, 1)                 21        \n",
      "=================================================================\n",
      "Total params: 461\n",
      "Trainable params: 461\n",
      "Non-trainable params: 0\n",
      "_________________________________________________________________\n",
      "Train on 60 samples, validate on 136 samples\n",
      "Epoch 1/150\n",
      "60/60 [==============================] - 0s 8ms/step - loss: 9077665.0039 - mean_error: -1526.3978 - val_loss: 134646.2845 - val_mean_error: 250.9674\n",
      "Epoch 2/150\n",
      "60/60 [==============================] - 0s 127us/step - loss: 197802.7656 - mean_error: 258.2962 - val_loss: 352896.8511 - val_mean_error: 272.7915\n",
      "Epoch 3/150\n",
      "60/60 [==============================] - 0s 158us/step - loss: 457216.1146 - mean_error: 278.2607 - val_loss: 691928.4522 - val_mean_error: 289.0061\n",
      "Epoch 4/150\n",
      "60/60 [==============================] - 0s 172us/step - loss: 833386.6667 - mean_error: 292.5782 - val_loss: 1139896.5074 - val_mean_error: 299.5220\n",
      "Epoch 5/150\n",
      "60/60 [==============================] - 0s 165us/step - loss: 1314816.8333 - mean_error: 301.1955 - val_loss: 1685975.9706 - val_mean_error: 304.3575\n",
      "Epoch 6/150\n",
      "60/60 [==============================] - 0s 165us/step - loss: 1891011.0000 - mean_error: 304.1654 - val_loss: 2320320.8235 - val_mean_error: 303.6314\n",
      "Epoch 7/150\n",
      "60/60 [==============================] - 0s 170us/step - loss: 2552431.5833 - mean_error: 301.6325 - val_loss: 3034001.0515 - val_mean_error: 297.5504\n",
      "Epoch 8/150\n",
      "60/60 [==============================] - 0s 167us/step - loss: 3290438.9167 - mean_error: 293.8468 - val_loss: 3818946.3235 - val_mean_error: 286.4232\n",
      "Epoch 9/150\n",
      "60/60 [==============================] - 0s 180us/step - loss: 4097228.6667 - mean_error: 281.1289 - val_loss: 4667845.9412 - val_mean_error: 270.6200\n",
      "Epoch 10/150\n",
      "60/60 [==============================] - 0s 167us/step - loss: 4965721.1667 - mean_error: 263.8808 - val_loss: 5574075.9853 - val_mean_error: 250.5896\n",
      "Epoch 11/150\n",
      "60/60 [==============================] - 0s 169us/step - loss: 5889493.1667 - mean_error: 242.5718 - val_loss: 6531608.8382 - val_mean_error: 226.8403\n",
      "Epoch 12/150\n",
      "60/60 [==============================] - 0s 171us/step - loss: 6862687.8333 - mean_error: 217.7264 - val_loss: 7534914.1618 - val_mean_error: 199.9272\n",
      "Epoch 13/150\n",
      "60/60 [==============================] - 0s 178us/step - loss: 7879936.6667 - mean_error: 189.9087 - val_loss: 8578883.1176 - val_mean_error: 170.4362\n",
      "Epoch 14/150\n",
      "60/60 [==============================] - 0s 181us/step - loss: 8936237.3333 - mean_error: 159.7171 - val_loss: 9658752.9118 - val_mean_error: 138.9826\n",
      "Epoch 15/150\n",
      "60/60 [==============================] - 0s 189us/step - loss: 10026919.6667 - mean_error: 127.7727 - val_loss: 10770031.1176 - val_mean_error: 106.1946\n",
      "Epoch 16/150\n",
      "60/60 [==============================] - 0s 185us/step - loss: 11147584.6667 - mean_error: 94.7008 - val_loss: 11908458.5882 - val_mean_error: 72.6970\n",
      "Epoch 17/150\n",
      "60/60 [==============================] - 0s 190us/step - loss: 12294017.6667 - mean_error: 61.1300 - val_loss: 13069968.4706 - val_mean_error: 39.1115\n",
      "Epoch 18/150\n",
      "60/60 [==============================] - 0s 202us/step - loss: 13462220.6667 - mean_error: 27.6705 - val_loss: 14250636.3529 - val_mean_error: 6.0330\n",
      "Epoch 19/150\n",
      "60/60 [==============================] - 0s 189us/step - loss: 14648326.3333 - mean_error: -5.0916 - val_loss: 15446717.4412 - val_mean_error: -25.9728\n",
      "Epoch 20/150\n",
      "60/60 [==============================] - 0s 197us/step - loss: 15848620.3333 - mean_error: -36.6005 - val_loss: 16654598.2941 - val_mean_error: -56.3774\n",
      "Epoch 21/150\n",
      "60/60 [==============================] - 0s 193us/step - loss: 17059563.6667 - mean_error: -66.3467 - val_loss: 17870836.4706 - val_mean_error: -84.7033\n",
      "Epoch 22/150\n",
      "60/60 [==============================] - 0s 201us/step - loss: 18277747.3333 - mean_error: -93.8646 - val_loss: 19092166.4706 - val_mean_error: -110.5206\n",
      "Epoch 23/150\n",
      "60/60 [==============================] - 0s 198us/step - loss: 19499991.3333 - mean_error: -118.7503 - val_loss: 20315513.4706 - val_mean_error: -133.4673\n",
      "Epoch 24/150\n",
      "60/60 [==============================] - 0s 202us/step - loss: 20723275.3333 - mean_error: -140.6588 - val_loss: 21538022.2353 - val_mean_error: -153.2393\n",
      "Epoch 25/150\n",
      "60/60 [==============================] - 0s 193us/step - loss: 21944826.0000 - mean_error: -159.3079 - val_loss: 22757072.2353 - val_mean_error: -169.6005\n",
      "Epoch 26/150\n",
      "60/60 [==============================] - 0s 197us/step - loss: 23162109.3333 - mean_error: -174.4880 - val_loss: 23970288.6471 - val_mean_error: -182.3870\n",
      "Epoch 27/150\n",
      "60/60 [==============================] - 0s 198us/step - loss: 24372838.0000 - mean_error: -186.0539 - val_loss: 25175571.5294 - val_mean_error: -191.4985\n",
      "Epoch 28/150\n",
      "60/60 [==============================] - 0s 195us/step - loss: 25574994.0000 - mean_error: -193.9332 - val_loss: 26371075.3529 - val_mean_error: -196.9098\n",
      "Epoch 29/150\n",
      "60/60 [==============================] - 0s 207us/step - loss: 26766820.6667 - mean_error: -198.1161 - val_loss: 27555214.4118 - val_mean_error: -198.6533\n",
      "Epoch 30/150\n",
      "60/60 [==============================] - 0s 192us/step - loss: 27946822.6667 - mean_error: -198.6633 - val_loss: 28726661.3529 - val_mean_error: -196.8336\n",
      "Epoch 31/150\n",
      "60/60 [==============================] - 0s 193us/step - loss: 29113740.0000 - mean_error: -195.6926 - val_loss: 29884314.3529 - val_mean_error: -191.6054\n",
      "Epoch 32/150\n",
      "60/60 [==============================] - 0s 189us/step - loss: 30266548.0000 - mean_error: -189.3841 - val_loss: 31027277.5294 - val_mean_error: -183.1865\n",
      "Epoch 33/150\n",
      "60/60 [==============================] - 0s 195us/step - loss: 31404424.0000 - mean_error: -179.9659 - val_loss: 32154851.5882 - val_mean_error: -171.8358\n",
      "Epoch 34/150\n",
      "60/60 [==============================] - 0s 195us/step - loss: 32526707.3333 - mean_error: -167.7136 - val_loss: 33266458.9412 - val_mean_error: -157.8570\n",
      "Epoch 35/150\n",
      "60/60 [==============================] - 0s 195us/step - loss: 33632874.0000 - mean_error: -152.9461 - val_loss: 34361697.1765 - val_mean_error: -141.5918\n",
      "Epoch 36/150\n",
      "60/60 [==============================] - 0s 193us/step - loss: 34722542.6667 - mean_error: -136.0151 - val_loss: 35440179.5294 - val_mean_error: -123.4101\n",
      "Epoch 37/150\n",
      "60/60 [==============================] - 0s 194us/step - loss: 35795360.0000 - mean_error: -117.2945 - val_loss: 36501646.9412 - val_mean_error: -103.6991\n",
      "Epoch 38/150\n",
      "60/60 [==============================] - 0s 201us/step - loss: 36851065.3333 - mean_error: -97.1774 - val_loss: 37545820.2353 - val_mean_error: -82.8596\n",
      "Epoch 39/150\n",
      "60/60 [==============================] - 0s 203us/step - loss: 37889404.0000 - mean_error: -76.0665 - val_loss: 38572487.2941 - val_mean_error: -61.2972\n",
      "Epoch 40/150\n",
      "60/60 [==============================] - 0s 206us/step - loss: 38910157.3333 - mean_error: -54.3692 - val_loss: 39581427.4118 - val_mean_error: -39.4177\n",
      "Epoch 41/150\n",
      "60/60 [==============================] - 0s 191us/step - loss: 39913098.6667 - mean_error: -32.4870 - val_loss: 40572360.7059 - val_mean_error: -17.6160\n",
      "Epoch 42/150\n",
      "60/60 [==============================] - 0s 192us/step - loss: 40897958.6667 - mean_error: -10.8104 - val_loss: 41545067.1765 - val_mean_error: 3.7283\n",
      "Epoch 43/150\n",
      "60/60 [==============================] - 0s 193us/step - loss: 41864510.6667 - mean_error: 10.2890 - val_loss: 42499281.5294 - val_mean_error: 24.2586\n",
      "Epoch 44/150\n",
      "60/60 [==============================] - 0s 310us/step - loss: 42812473.3333 - mean_error: 30.4577 - val_loss: 43434750.2353 - val_mean_error: 43.6387\n",
      "Epoch 45/150\n",
      "60/60 [==============================] - 0s 191us/step - loss: 43741618.6667 - mean_error: 49.3791 - val_loss: 44351209.6471 - val_mean_error: 61.5764\n",
      "Epoch 46/150\n",
      "60/60 [==============================] - 0s 197us/step - loss: 44651653.3333 - mean_error: 66.7653 - val_loss: 45248391.8824 - val_mean_error: 77.8058\n"
     ]
    },
    {
     "name": "stdout",
     "output_type": "stream",
     "text": [
      "Epoch 47/150\n",
      "60/60 [==============================] - 0s 195us/step - loss: 45542348.0000 - mean_error: 82.3673 - val_loss: 46126097.5294 - val_mean_error: 92.1053\n",
      "Epoch 48/150\n",
      "60/60 [==============================] - 0s 204us/step - loss: 46413506.6667 - mean_error: 95.9727 - val_loss: 46984145.2941 - val_mean_error: 104.2898\n",
      "Epoch 49/150\n",
      "60/60 [==============================] - 0s 199us/step - loss: 47264964.0000 - mean_error: 107.4156 - val_loss: 47822416.4706 - val_mean_error: 114.2228\n",
      "Epoch 50/150\n",
      "60/60 [==============================] - 0s 311us/step - loss: 48096601.3333 - mean_error: 116.5734 - val_loss: 48640824.2353 - val_mean_error: 121.8124\n",
      "Epoch 51/150\n",
      "60/60 [==============================] - 0s 288us/step - loss: 48908381.3333 - mean_error: 123.3642 - val_loss: 49439372.3529 - val_mean_error: 127.0049\n",
      "Epoch 52/150\n",
      "60/60 [==============================] - 0s 198us/step - loss: 49700297.3333 - mean_error: 127.7571 - val_loss: 50218061.0588 - val_mean_error: 129.7998\n",
      "Epoch 53/150\n",
      "60/60 [==============================] - 0s 199us/step - loss: 50472438.6667 - mean_error: 129.7581 - val_loss: 50977105.0588 - val_mean_error: 130.2294\n",
      "Epoch 54/150\n",
      "60/60 [==============================] - 0s 306us/step - loss: 51224964.0000 - mean_error: 129.4215 - val_loss: 51716647.2941 - val_mean_error: 128.3773\n",
      "Epoch 55/150\n",
      "60/60 [==============================] - 0s 210us/step - loss: 51958073.3333 - mean_error: 126.8359 - val_loss: 52436961.4118 - val_mean_error: 124.3535\n",
      "Epoch 56/150\n",
      "60/60 [==============================] - 0s 193us/step - loss: 52672046.6667 - mean_error: 122.1246 - val_loss: 53138301.1765 - val_mean_error: 118.3050\n",
      "Epoch 57/150\n",
      "60/60 [==============================] - 0s 283us/step - loss: 53367168.0000 - mean_error: 115.4467 - val_loss: 53821052.9412 - val_mean_error: 110.4111\n",
      "Epoch 58/150\n",
      "60/60 [==============================] - 0s 194us/step - loss: 54043804.0000 - mean_error: 106.9873 - val_loss: 54485512.5882 - val_mean_error: 100.8719\n",
      "Epoch 59/150\n",
      "60/60 [==============================] - 0s 185us/step - loss: 54702288.0000 - mean_error: 96.9610 - val_loss: 55132127.1765 - val_mean_error: 89.9195\n",
      "Epoch 60/150\n",
      "60/60 [==============================] - 0s 338us/step - loss: 55343038.6667 - mean_error: 85.5985 - val_loss: 55761233.0588 - val_mean_error: 77.7920\n",
      "Epoch 61/150\n",
      "60/60 [==============================] - 0s 196us/step - loss: 55966436.0000 - mean_error: 73.1438 - val_loss: 56373233.7647 - val_mean_error: 64.7418\n",
      "Epoch 62/150\n",
      "60/60 [==============================] - 0s 197us/step - loss: 56572849.3333 - mean_error: 59.8528 - val_loss: 56968517.2941 - val_mean_error: 51.0295\n",
      "Epoch 63/150\n",
      "60/60 [==============================] - 0s 195us/step - loss: 57162656.0000 - mean_error: 45.9899 - val_loss: 57547444.2353 - val_mean_error: 36.9207\n",
      "Epoch 64/150\n",
      "60/60 [==============================] - 0s 190us/step - loss: 57736216.0000 - mean_error: 31.8155 - val_loss: 58110287.1765 - val_mean_error: 22.6736\n",
      "Epoch 65/150\n",
      "60/60 [==============================] - 0s 201us/step - loss: 58293785.3333 - mean_error: 17.5886 - val_loss: 58657370.7059 - val_mean_error: 8.5421\n",
      "Epoch 66/150\n",
      "60/60 [==============================] - 0s 305us/step - loss: 58835698.6667 - mean_error: 3.5609 - val_loss: 59188985.1765 - val_mean_error: -5.2294\n",
      "Epoch 67/150\n",
      "60/60 [==============================] - 0s 194us/step - loss: 59362229.3333 - mean_error: -10.0322 - val_loss: 59705369.8824 - val_mean_error: -18.4164\n",
      "Epoch 68/150\n",
      "60/60 [==============================] - 0s 199us/step - loss: 59873614.6667 - mean_error: -22.9693 - val_loss: 60206755.1765 - val_mean_error: -30.8098\n",
      "Epoch 69/150\n",
      "60/60 [==============================] - 0s 245us/step - loss: 60370080.0000 - mean_error: -35.0496 - val_loss: 60693405.0588 - val_mean_error: -42.2229\n",
      "Epoch 70/150\n",
      "60/60 [==============================] - 0s 210us/step - loss: 60851861.3333 - mean_error: -46.0932 - val_loss: 61165476.7059 - val_mean_error: -52.4924\n",
      "Epoch 71/150\n",
      "60/60 [==============================] - 0s 197us/step - loss: 61319154.6667 - mean_error: -55.9429 - val_loss: 61623233.5294 - val_mean_error: -61.4779\n",
      "Epoch 72/150\n",
      "60/60 [==============================] - 0s 205us/step - loss: 61772186.6667 - mean_error: -64.4731 - val_loss: 62066840.7059 - val_mean_error: -69.0720\n",
      "Epoch 73/150\n",
      "60/60 [==============================] - 0s 325us/step - loss: 62211140.0000 - mean_error: -71.5769 - val_loss: 62496538.8235 - val_mean_error: -75.1873\n",
      "Epoch 74/150\n",
      "60/60 [==============================] - 0s 198us/step - loss: 62636258.6667 - mean_error: -77.1874 - val_loss: 62912541.5294 - val_mean_error: -79.7750\n",
      "Epoch 75/150\n",
      "60/60 [==============================] - 0s 210us/step - loss: 63047780.0000 - mean_error: -81.2567 - val_loss: 63315126.5882 - val_mean_error: -82.8068\n",
      "Epoch 76/150\n",
      "60/60 [==============================] - 0s 198us/step - loss: 63445944.0000 - mean_error: -83.7708 - val_loss: 63704514.4706 - val_mean_error: -84.2880\n",
      "Epoch 77/150\n",
      "60/60 [==============================] - 0s 198us/step - loss: 63831010.6667 - mean_error: -84.7416 - val_loss: 64081003.0588 - val_mean_error: -84.2472\n",
      "Epoch 78/150\n",
      "60/60 [==============================] - 0s 218us/step - loss: 64203282.6667 - mean_error: -84.2038 - val_loss: 64444890.5882 - val_mean_error: -82.7360\n",
      "Epoch 79/150\n",
      "60/60 [==============================] - 0s 193us/step - loss: 64563048.0000 - mean_error: -82.2278 - val_loss: 64796488.9412 - val_mean_error: -79.8417\n",
      "Epoch 80/150\n",
      "60/60 [==============================] - 0s 194us/step - loss: 64910613.3333 - mean_error: -78.8939 - val_loss: 65136089.6471 - val_mean_error: -75.6560\n",
      "Epoch 81/150\n",
      "60/60 [==============================] - 0s 193us/step - loss: 65246304.0000 - mean_error: -74.3084 - val_loss: 65464016.1176 - val_mean_error: -70.2998\n",
      "Epoch 82/150\n",
      "60/60 [==============================] - 0s 197us/step - loss: 65570424.0000 - mean_error: -68.5990 - val_loss: 65780618.5882 - val_mean_error: -63.9110\n",
      "Epoch 83/150\n",
      "60/60 [==============================] - 0s 191us/step - loss: 65883340.0000 - mean_error: -61.8999 - val_loss: 66086228.5882 - val_mean_error: -56.6309\n",
      "Epoch 84/150\n",
      "60/60 [==============================] - 0s 195us/step - loss: 66185337.3333 - mean_error: -54.3662 - val_loss: 66381113.4118 - val_mean_error: -48.6230\n",
      "Epoch 85/150\n",
      "60/60 [==============================] - 0s 185us/step - loss: 66476748.0000 - mean_error: -46.1563 - val_loss: 66665650.2353 - val_mean_error: -40.0483\n",
      "Epoch 86/150\n",
      "60/60 [==============================] - 0s 193us/step - loss: 66757878.6667 - mean_error: -37.4396 - val_loss: 66940071.6471 - val_mean_error: -31.0805\n",
      "Epoch 87/150\n",
      "60/60 [==============================] - 0s 184us/step - loss: 67029010.6667 - mean_error: -28.3798 - val_loss: 67204688.4706 - val_mean_error: -21.8809\n",
      "Epoch 88/150\n",
      "60/60 [==============================] - 0s 194us/step - loss: 67290426.6667 - mean_error: -19.1470 - val_loss: 67459752.9412 - val_mean_error: -12.6206\n",
      "Epoch 89/150\n",
      "60/60 [==============================] - 0s 192us/step - loss: 67542362.6667 - mean_error: -9.9131 - val_loss: 67705534.8235 - val_mean_error: -3.4679\n",
      "Epoch 90/150\n",
      "60/60 [==============================] - 0s 308us/step - loss: 67785101.3333 - mean_error: -0.8351 - val_loss: 67942246.1176 - val_mean_error: 5.4273\n",
      "Epoch 91/150\n",
      "60/60 [==============================] - 0s 367us/step - loss: 68018837.3333 - mean_error: 7.9399 - val_loss: 68170108.0000 - val_mean_error: 13.9247\n",
      "Epoch 92/150\n",
      "60/60 [==============================] - 0s 196us/step - loss: 68243797.3333 - mean_error: 16.2677 - val_loss: 68389320.9412 - val_mean_error: 21.8861\n",
      "Epoch 93/150\n",
      "60/60 [==============================] - 0s 192us/step - loss: 68460173.3333 - mean_error: 24.0149 - val_loss: 68600093.6471 - val_mean_error: 29.1890\n",
      "Epoch 94/150\n",
      "60/60 [==============================] - 0s 200us/step - loss: 68668173.3333 - mean_error: 31.0765 - val_loss: 68802576.2353 - val_mean_error: 35.7400\n",
      "Epoch 95/150\n",
      "60/60 [==============================] - 0s 192us/step - loss: 68867938.6667 - mean_error: 37.3518 - val_loss: 68996975.2941 - val_mean_error: 41.4474\n",
      "Epoch 96/150\n"
     ]
    },
    {
     "name": "stdout",
     "output_type": "stream",
     "text": [
      "60/60 [==============================] - 0s 193us/step - loss: 69059690.6667 - mean_error: 42.7591 - val_loss: 69183474.8235 - val_mean_error: 46.2425\n",
      "Epoch 97/150\n",
      "60/60 [==============================] - 0s 180us/step - loss: 69243581.3333 - mean_error: 47.2365 - val_loss: 69362214.3529 - val_mean_error: 50.0760\n",
      "Epoch 98/150\n",
      "60/60 [==============================] - 0s 179us/step - loss: 69419792.0000 - mean_error: 50.7435 - val_loss: 69533393.8824 - val_mean_error: 52.9195\n",
      "Epoch 99/150\n",
      "60/60 [==============================] - 0s 181us/step - loss: 69588501.3333 - mean_error: 53.2471 - val_loss: 69697214.5882 - val_mean_error: 54.7505\n",
      "Epoch 100/150\n",
      "60/60 [==============================] - 0s 185us/step - loss: 69749912.0000 - mean_error: 54.7468 - val_loss: 69853827.0588 - val_mean_error: 55.5832\n",
      "Epoch 101/150\n",
      "60/60 [==============================] - 0s 184us/step - loss: 69904162.6667 - mean_error: 55.2501 - val_loss: 70003427.0588 - val_mean_error: 55.4340\n",
      "Epoch 102/150\n",
      "60/60 [==============================] - 0s 185us/step - loss: 70051480.0000 - mean_error: 54.7812 - val_loss: 70146219.0588 - val_mean_error: 54.3388\n",
      "Epoch 103/150\n",
      "60/60 [==============================] - 0s 185us/step - loss: 70192045.3333 - mean_error: 53.3830 - val_loss: 70282364.2353 - val_mean_error: 52.3504\n",
      "Epoch 104/150\n",
      "60/60 [==============================] - 0s 187us/step - loss: 70326048.0000 - mean_error: 51.1148 - val_loss: 70412111.5294 - val_mean_error: 49.5376\n",
      "Epoch 105/150\n",
      "60/60 [==============================] - 0s 203us/step - loss: 70453696.0000 - mean_error: 48.0478 - val_loss: 70535610.8235 - val_mean_error: 45.9784\n",
      "Epoch 106/150\n",
      "60/60 [==============================] - 0s 201us/step - loss: 70575160.0000 - mean_error: 44.2601 - val_loss: 70653064.4706 - val_mean_error: 41.7575\n",
      "Epoch 107/150\n",
      "60/60 [==============================] - 0s 195us/step - loss: 70690658.6667 - mean_error: 39.8442 - val_loss: 70764642.5882 - val_mean_error: 36.9734\n",
      "Epoch 108/150\n",
      "60/60 [==============================] - 0s 197us/step - loss: 70800341.3333 - mean_error: 34.9003 - val_loss: 70870584.0000 - val_mean_error: 31.7301\n",
      "Epoch 109/150\n",
      "60/60 [==============================] - 0s 211us/step - loss: 70904432.0000 - mean_error: 29.5275 - val_loss: 70971020.4706 - val_mean_error: 26.1283\n",
      "Epoch 110/150\n",
      "60/60 [==============================] - 0s 204us/step - loss: 71003093.3333 - mean_error: 23.8396 - val_loss: 71066141.4118 - val_mean_error: 20.2855\n",
      "Epoch 111/150\n",
      "60/60 [==============================] - 0s 198us/step - loss: 71096482.6667 - mean_error: 17.9418 - val_loss: 71156093.1765 - val_mean_error: 14.3048\n",
      "Epoch 112/150\n",
      "60/60 [==============================] - 0s 196us/step - loss: 71184760.0000 - mean_error: 11.9422 - val_loss: 71241023.2941 - val_mean_error: 8.2942\n",
      "Epoch 113/150\n",
      "60/60 [==============================] - 0s 203us/step - loss: 71268074.6667 - mean_error: 5.9514 - val_loss: 71321111.0588 - val_mean_error: 2.3619\n",
      "Epoch 114/150\n",
      "60/60 [==============================] - 0s 197us/step - loss: 71346576.0000 - mean_error: 0.0694 - val_loss: 71396469.8824 - val_mean_error: -3.3966\n",
      "Epoch 115/150\n",
      "60/60 [==============================] - 0s 196us/step - loss: 71420397.3333 - mean_error: -5.6070 - val_loss: 71467216.9412 - val_mean_error: -8.8881\n",
      "Epoch 116/150\n",
      "60/60 [==============================] - 0s 203us/step - loss: 71489648.0000 - mean_error: -10.9846 - val_loss: 71533510.5882 - val_mean_error: -14.0243\n",
      "Epoch 117/150\n",
      "60/60 [==============================] - 0s 201us/step - loss: 71554474.6667 - mean_error: -15.9858 - val_loss: 71595439.5294 - val_mean_error: -18.7351\n",
      "Epoch 118/150\n",
      "60/60 [==============================] - 0s 195us/step - loss: 71614984.0000 - mean_error: -20.5345 - val_loss: 71653089.6471 - val_mean_error: -22.9499\n",
      "Epoch 119/150\n",
      "60/60 [==============================] - 0s 202us/step - loss: 71671250.6667 - mean_error: -24.5693 - val_loss: 71706614.1176 - val_mean_error: -26.6151\n",
      "Epoch 120/150\n",
      "60/60 [==============================] - 0s 211us/step - loss: 71723410.6667 - mean_error: -28.0449 - val_loss: 71756051.7647 - val_mean_error: -29.6941\n",
      "Epoch 121/150\n",
      "60/60 [==============================] - 0s 201us/step - loss: 71771536.0000 - mean_error: -30.9152 - val_loss: 71801571.7647 - val_mean_error: -32.1460\n",
      "Epoch 122/150\n",
      "60/60 [==============================] - 0s 209us/step - loss: 71815765.3333 - mean_error: -33.1559 - val_loss: 71843234.3529 - val_mean_error: -33.9570\n",
      "Epoch 123/150\n",
      "60/60 [==============================] - 0s 203us/step - loss: 71856189.3333 - mean_error: -34.7484 - val_loss: 71881194.3529 - val_mean_error: -35.1148\n",
      "Epoch 124/150\n",
      "60/60 [==============================] - 0s 205us/step - loss: 71892917.3333 - mean_error: -35.6872 - val_loss: 71915488.2353 - val_mean_error: -35.6216\n",
      "Epoch 125/150\n",
      "60/60 [==============================] - 0s 220us/step - loss: 71926048.0000 - mean_error: -35.9823 - val_loss: 71946303.0588 - val_mean_error: -35.4954\n",
      "Epoch 126/150\n",
      "60/60 [==============================] - 0s 205us/step - loss: 71955709.3333 - mean_error: -35.6501 - val_loss: 71973697.1765 - val_mean_error: -34.7593\n",
      "Epoch 127/150\n",
      "60/60 [==============================] - 0s 211us/step - loss: 71981973.3333 - mean_error: -34.7206 - val_loss: 71997736.2353 - val_mean_error: -33.4495\n",
      "Epoch 128/150\n",
      "60/60 [==============================] - 0s 211us/step - loss: 72004952.0000 - mean_error: -33.2269 - val_loss: 72018593.4118 - val_mean_error: -31.6041\n",
      "Epoch 129/150\n",
      "60/60 [==============================] - 0s 203us/step - loss: 72024752.0000 - mean_error: -31.2177 - val_loss: 72036346.5882 - val_mean_error: -29.2777\n",
      "Epoch 130/150\n",
      "60/60 [==============================] - 0s 206us/step - loss: 72041485.3333 - mean_error: -28.7457 - val_loss: 72051064.4706 - val_mean_error: -26.5276\n",
      "Epoch 131/150\n",
      "60/60 [==============================] - 0s 198us/step - loss: 72055221.3333 - mean_error: -25.8741 - val_loss: 72062878.3529 - val_mean_error: -23.4196\n",
      "Epoch 132/150\n",
      "60/60 [==============================] - 0s 202us/step - loss: 72066090.6667 - mean_error: -22.6598 - val_loss: 72071856.7059 - val_mean_error: -20.0121\n",
      "Epoch 133/150\n",
      "60/60 [==============================] - 0s 204us/step - loss: 72074165.3333 - mean_error: -19.1701 - val_loss: 72078133.4118 - val_mean_error: -16.3757\n",
      "Epoch 134/150\n",
      "60/60 [==============================] - 0s 202us/step - loss: 72079552.0000 - mean_error: -15.4765 - val_loss: 72081768.9412 - val_mean_error: -12.5821\n",
      "Epoch 135/150\n",
      "60/60 [==============================] - 0s 205us/step - loss: 72082322.6667 - mean_error: -11.6504 - val_loss: 72082853.6471 - val_mean_error: -8.7032\n",
      "Epoch 136/150\n",
      "60/60 [==============================] - 0s 203us/step - loss: 72082573.3333 - mean_error: -7.7580 - val_loss: 72081462.8235 - val_mean_error: -4.8037\n",
      "Epoch 137/150\n",
      "60/60 [==============================] - 0s 201us/step - loss: 72080386.6667 - mean_error: -3.8717 - val_loss: 72077675.5294 - val_mean_error: -0.9557\n",
      "Epoch 138/150\n",
      "60/60 [==============================] - 0s 204us/step - loss: 72075802.6667 - mean_error: -0.0559 - val_loss: 72071544.2353 - val_mean_error: 2.7799\n",
      "Epoch 139/150\n",
      "60/60 [==============================] - 0s 207us/step - loss: 72068925.3333 - mean_error: 3.6263 - val_loss: 72063186.5882 - val_mean_error: 6.3425\n",
      "Epoch 140/150\n",
      "60/60 [==============================] - 0s 206us/step - loss: 72059808.0000 - mean_error: 7.1167 - val_loss: 72052606.1176 - val_mean_error: 9.6769\n",
      "Epoch 141/150\n",
      "60/60 [==============================] - 0s 204us/step - loss: 72048528.0000 - mean_error: 10.3597 - val_loss: 72039906.8235 - val_mean_error: 12.7319\n",
      "Epoch 142/150\n",
      "60/60 [==============================] - 0s 200us/step - loss: 72035130.6667 - mean_error: 13.3152 - val_loss: 72025131.0588 - val_mean_error: 15.4728\n",
      "Epoch 143/150\n",
      "60/60 [==============================] - 0s 206us/step - loss: 72019672.0000 - mean_error: 15.9391 - val_loss: 72008335.5294 - val_mean_error: 17.8581\n",
      "Epoch 144/150\n",
      "60/60 [==============================] - 0s 203us/step - loss: 72002213.3333 - mean_error: 18.1972 - val_loss: 71989589.4118 - val_mean_error: 19.8592\n",
      "Epoch 145/150\n"
     ]
    },
    {
     "name": "stdout",
     "output_type": "stream",
     "text": [
      "60/60 [==============================] - 0s 205us/step - loss: 71982821.3333 - mean_error: 20.0700 - val_loss: 71968933.4118 - val_mean_error: 21.4628\n",
      "Epoch 146/150\n",
      "60/60 [==============================] - 0s 207us/step - loss: 71961546.6667 - mean_error: 21.5328 - val_loss: 71946410.1176 - val_mean_error: 22.6476\n",
      "Epoch 147/150\n",
      "60/60 [==============================] - 0s 202us/step - loss: 71938418.6667 - mean_error: 22.5772 - val_loss: 71922102.5882 - val_mean_error: 23.4111\n",
      "Epoch 148/150\n",
      "60/60 [==============================] - 0s 205us/step - loss: 71913517.3333 - mean_error: 23.1970 - val_loss: 71896038.5882 - val_mean_error: 23.7512\n",
      "Epoch 149/150\n",
      "60/60 [==============================] - 0s 206us/step - loss: 71886890.6667 - mean_error: 23.4018 - val_loss: 71868282.1176 - val_mean_error: 23.6843\n",
      "Epoch 150/150\n",
      "60/60 [==============================] - 0s 202us/step - loss: 71858586.6667 - mean_error: 23.2029 - val_loss: 71838876.2353 - val_mean_error: 23.2245\n",
      "Training Mean Error: 23.202897389729817\n",
      "Validation Mean Error: 23.224504975711596\n"
     ]
    },
    {
     "data": {
      "image/png": "[encoded data removed]",
      "text/plain": [
       "<Figure size 432x288 with 1 Axes>"
      ]
     },
     "metadata": {
      "needs_background": "light"
     },
     "output_type": "display_data"
    },
    {
     "data": {
      "image/png": "[encoded data removed]",
      "text/plain": [
       "<Figure size 432x288 with 1 Axes>"
      ]
     },
     "metadata": {
      "needs_background": "light"
     },
     "output_type": "display_data"
    },
    {
     "data": {
      "image/png": "[encoded data removed]",
      "text/plain": [
       "<Figure size 432x288 with 1 Axes>"
      ]
     },
     "metadata": {
      "needs_background": "light"
     },
     "output_type": "display_data"
    },
    {
     "data": {
      "image/png": "[encoded data removed]",
      "text/plain": [
       "<Figure size 432x288 with 1 Axes>"
      ]
     },
     "metadata": {
      "needs_background": "light"
     },
     "output_type": "display_data"
    }
   ],
   "source": [
    "# Read in input array\n",
    "inputdata = np.load(file=\"inputdata_file.npy\")\n",
    "\n",
    "# List of input variables\n",
    "in_vars = param_names\n",
    "\n",
    "# Read in outputdata array\n",
    "outputdata = np.load(\"outputdata_file.npy\")\n",
    "\n",
    "# Create 2-layer simple model\n",
    "model = Sequential()\n",
    "# first layer with 20 nodes and rectified linear activation\n",
    "# specify input_dim as number of parameters, not number of simulations\n",
    "# l2 norm regularizer\n",
    "model.add(Dense(20, input_dim=inputdata.shape[1], activation='relu',\n",
    "    kernel_regularizer=l2(.001)))\n",
    "# output layer with linear activation\n",
    "model.add(Dense(1))\n",
    "\n",
    "# Define model metrics\n",
    "def mean_error(y_true,y_pred):\n",
    "    return K.mean((y_true-y_pred).^2)\n",
    "\n",
    "# Compile model\n",
    "#model.compile(optimizer='adam',loss='mse',metrics=[mean_error])\n",
    "#model.compile(optimizer='adam',loss='mse',metrics=[mean_pred])\n",
    "\n",
    "# using a stochastic gradient descent optimizer\n",
    "opt_dense = SGD(lr=0.001, momentum=0.99, decay=1e-4, nesterov=True)\n",
    "model.compile(opt_dense, \"mse\", metrics=[mean_error])\n",
    "model.summary()\n",
    "\n",
    "# Separate training/test data: 60/40 split\n",
    "# how does test split into validation/verification? try 20/20\n",
    "x_train = inputdata[0:60,:]\n",
    "x_test = inputdata[60:,:]\n",
    "#x_val = inputdata[80:,:]\n",
    "y_train = outputdata[0:60]\n",
    "y_test = outputdata[60:]\n",
    "#y_val = outputdata[80:]\n",
    "\n",
    "# Fit the model\n",
    "#model.fit(x_train, y_train, epochs=20, batch_size=10)\n",
    "#model.fit(x_train, y_train, epochs=40, batch_size=10)\n",
    "#print(model)\n",
    "results = model.fit(x_train, y_train, epochs=150, batch_size=20,\n",
    "        validation_data=(x_test,y_test))\n",
    "\n",
    "#print(results.history)\n",
    "print(\"Training Mean Error:\", results.history['mean_error'][-1])\n",
    "print(\"Validation Mean Error:\", results.history['val_mean_error'][-1])\n",
    "\n",
    "# Plot histogram of model mean error\n",
    "plt.hist(results.history['mean_error'], bins=20, rwidth=0.5)\n",
    "plt.xlabel('Training Mean Error')\n",
    "plt.ylabel('Counts')\n",
    "#plt.savefig(\"dist_train_me.eps\")\n",
    "plt.show()\n",
    "\n",
    "# Plot histogram of validation mean error\n",
    "plt.hist(results.history['val_mean_error'], bins=20, rwidth=0.5)\n",
    "plt.xlabel('Validation Mean Error')\n",
    "plt.ylabel('Counts')\n",
    "#plt.savefig(\"dist_val_me.eps\")\n",
    "plt.show()\n",
    "\n",
    "\n",
    "# Plot training history by epoch\n",
    "plt.plot(results.epoch, results.history['val_mean_error'], label='validation')\n",
    "plt.plot(results.epoch, results.history['mean_error'], label='train')\n",
    "#plt.xticks(results.epoch)\n",
    "plt.legend()\n",
    "plt.hlines(y=0,xmin=0,xmax=150)\n",
    "plt.ylabel('Mean Error')\n",
    "plt.xlabel('Epoch')\n",
    "plt.title('Neural Network Training History')\n",
    "#plt.savefig(\"train_history.eps\")\n",
    "plt.show()\n",
    "\n",
    "\n",
    "# Plot the loss function\n",
    "loss = results.history['loss']\n",
    "val_loss = results.history['val_loss']\n",
    "epochs = range(1, len(loss) + 1)\n",
    "plt.figure()\n",
    "plt.plot(epochs, loss, 'bo', label='Training loss')\n",
    "plt.plot(epochs, val_loss, 'b', label='Validation loss')\n",
    "plt.title('Training and validation loss')\n",
    "plt.legend()\n",
    "plt.show()"
   ]
  },
  {
   "cell_type": "code",
   "execution_count": 39,
   "metadata": {},
   "outputs": [],
   "source": [
    "# Evaluate the model using test data\n",
    "#score = model.evaluate(x_test, y_test, batch_size=10)\n",
    "#print(\"\\n%s: %.2f%%\" % (model.metrics_names[1], score[1]*100))\n",
    "#print(score)\n",
    "\n",
    "# Make predictions - using validation subsection?\n",
    "#predictions = model.predict(inputdata)\n",
    "#predictions = model.predict(x_val)\n",
    "#print(predictions)\n",
    "#model_preds = model.predict(x_test)[:,0]\n",
    "\n",
    "# model metric for predictions\n",
    "#def model_error_preds(y_true,y_pred):\n",
    "#    return np.mean(y_true-y_pred)\n",
    "\n",
    "# calculate model mean error with predictions\n",
    "#model_me = model_error_preds(y_test, model_preds)\n",
    "#print(\"Prediction Mean Error: \", model_me)\n",
    "\n",
    "# plot histogram of prediction error\n",
    "#plt.hist(y_test-model_preds, bins=10)\n",
    "#plt.xlabel('Prediction Error')\n",
    "#plt.ylabel('Counts')\n",
    "#plt.savefig(\"dist_preds.eps\")\n",
    "#plt.show()\n",
    "\n",
    "# scatterplot actual versus predicted (validation set)\n",
    "#plt.scatter(y_test, model_preds)\n",
    "#plt.xlabel('Model Output GPP')\n",
    "#plt.ylabel('Predicted GPP')\n",
    "#plt.xlim(1.7,2.7)\n",
    "#plt.ylim(1.7,2.7)\n",
    "# trying to get a 1:1 line to show up (doesn't work)\n",
    "#ax.plot(ax.get_xlim(), ax.get_ylim(), ls=\"--\", c=\".3\")\n",
    "#plt.savefig(\"validation_scatter.eps\")\n",
    "#plt.show()\n",
    "\n",
    "# linear regression of actual vs predicted\n",
    "#slope, intercept, r_value, p_value, std_err = stats.linregress(y_test,\n",
    "#                model_preds)\n",
    "#print(\"r-squared:\", r_value**2)\n",
    "\n",
    "# Model interpretation by permutation variable importance\n",
    "#def variable_importance(model, data, labels, input_vars, score_func, num_iters=10):\n",
    "#    preds = model.predict(data)[:, 0]\n",
    "#    score_val = score_func(labels, preds)\n",
    "#    indices = np.arange(data.shape[0])\n",
    "#    imp_scores = np.zeros((len(input_vars), num_iters))\n",
    "#    shuf_data = np.copy(data)\n",
    "#    for n in range(num_iters):\n",
    "#        print(n)\n",
    "#        np.random.shuffle(indices)\n",
    "#        for v, var in enumerate(input_vars):\n",
    "#            print(var)\n",
    "#            shuf_data[:, v] = shuf_data[indices, v]\n",
    "#            shuf_preds = model.predict(shuf_data)[:, 0]\n",
    "#            imp_scores[v, n] = score_func(labels, shuf_preds)\n",
    "#            shuf_data[:, v] = data[:, v]\n",
    "#    return score_val - imp_scores\n",
    "\n",
    "#model_imp_scores = variable_importance(model, x_test, y_test, in_vars,\n",
    "#        model_error_preds, num_iters=3)\n",
    "#model_mean_scores = model_imp_scores.mean(axis=1)\n",
    "#for v, var in enumerate(in_vars):\n",
    "#    print(var, model_mean_scores[v])\n",
    "\n",
    "# Visualize what input most activates the output layer through feature\n",
    "# optimization\n",
    "#out_diff = K.mean((model.layers[-1].output - 1) ** 2)\n",
    "#grad = K.gradients(out_diff, [model.input])[0]\n",
    "#grad /= K.maximum(K.sqrt(K.mean(grad ** 2)), K.epsilon())\n",
    "#iterate = K.function([model.input, K.learning_phase()],\n",
    "#        [out_diff, grad])\n",
    "#input_img_data = np.zeros(shape=(1, len(in_vars)))\n",
    "#print(input_img_data.shape)\n",
    "\n",
    "#for i in range(20):\n",
    "#    out_loss, out_grad = iterate([input_img_data, 0])\n",
    "#    input_img_data -= out_grad * 0.1\n",
    "#    print(out_loss, out_grad.max())\n",
    "\n",
    "# Plot the output layer feature optimization\n",
    "#not working right now - input data is wrong size \n",
    "#plt.pcolormesh(input_img_data[0,0] * scaling_values.loc[0,\"std\"] +\n",
    "#        scaling_values.loc[0,\"mean\"], vmin=-10, vmax=80,\n",
    "#        cmap=\"gist_ncar\")\n",
    "#plt.colorbar()\n",
    "#plt.quiver(input_img_data[0,-2]*scaling_values.loc[1,\"std\"] + \n",
    "#        scaling_values.loc[1,\"mean\"], \n",
    "#        input_img_data[0,-1]*scaling_values.loc[2,\"std\"] + \n",
    "#        scaling_values.loc[2,\"mean\"], scale=500)\n",
    "#plt.title(\"Neural Net Output Layer Feature Optimization\")\n",
    "#plt.show()\n",
    "\n",
    "#plt.pcolormesh(input_img_data[0,0], vmin=-5, vmax=5, cmap=\"RdBu_r\")\n",
    "#plt.quiver(input_img_data[0,1], input_img_data[0,2], scale=100)\n",
    "#plt.show()\n",
    "\n",
    "# Visualize the distribution of model weights in the output layer\n",
    "#plt.hist(model.layers[-2].get_weights()[0], bins=50)\n",
    "#plt.xlabel(\"Neural Net Output Layer Weights\")\n",
    "#plt.ylabel(\"Counts\")\n",
    "#plt.show()"
   ]
  },
  {
   "cell_type": "code",
   "execution_count": null,
   "metadata": {},
   "outputs": [],
   "source": []
  }
 ],
 "metadata": {
  "kernelspec": {
   "display_name": "Python 3",
   "language": "python",
   "name": "python3"
  },
  "language_info": {
   "codemirror_mode": {
    "name": "ipython",
    "version": 3
   },
   "file_extension": ".py",
   "mimetype": "text/x-python",
   "name": "python",
   "nbconvert_exporter": "python",
   "pygments_lexer": "ipython3",
   "version": "3.7.0"
  }
 },
 "nbformat": 4,
 "nbformat_minor": 2
}
