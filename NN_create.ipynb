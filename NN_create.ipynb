{
 "cells": [
  {
   "cell_type": "markdown",
   "metadata": {},
   "source": [
    "# Create emulator (neural network) "
   ]
  },
  {
   "cell_type": "markdown",
   "metadata": {},
   "source": [
    "## Import modules"
   ]
  },
  {
   "cell_type": "code",
   "execution_count": 2,
   "metadata": {},
   "outputs": [
    {
     "name": "stderr",
     "output_type": "stream",
     "text": [
      "Using TensorFlow backend.\n"
     ]
    }
   ],
   "source": [
    "# Computational modules \n",
    "%matplotlib inline\n",
    "import xarray as xr\n",
    "import glob\n",
    "import os\n",
    "import numpy as np\n",
    "import netCDF4\n",
    "from netCDF4 import Dataset\n",
    "import pandas as pd\n",
    "import re\n",
    "from array import array\n",
    "from pylab import *\n",
    "\n",
    "# Plotting modules \n",
    "import matplotlib.pyplot as plt\n",
    "from mpl_toolkits.basemap import Basemap\n",
    "import pandas.plotting\n",
    "import matplotlib.ticker as ticker\n",
    "\n",
    "# Keras modules \n",
    "from keras.models import Sequential\n",
    "from keras.layers import Dense\n",
    "from keras.optimizers import SGD, Adam\n",
    "from keras.regularizers import l2\n",
    "import keras.backend as K\n",
    "from scipy import stats\n",
    "from keras import layers\n",
    "from keras.optimizers import RMSprop"
   ]
  },
  {
   "cell_type": "markdown",
   "metadata": {},
   "source": [
    "## Read the simulations.csv file and create inputdata array"
   ]
  },
  {
   "cell_type": "code",
   "execution_count": 3,
   "metadata": {
    "scrolled": false
   },
   "outputs": [
    {
     "data": {
      "text/html": [
       "<div>\n",
       "<style scoped>\n",
       "    .dataframe tbody tr th:only-of-type {\n",
       "        vertical-align: middle;\n",
       "    }\n",
       "\n",
       "    .dataframe tbody tr th {\n",
       "        vertical-align: top;\n",
       "    }\n",
       "\n",
       "    .dataframe thead th {\n",
       "        text-align: right;\n",
       "    }\n",
       "</style>\n",
       "<table border=\"1\" class=\"dataframe\">\n",
       "  <thead>\n",
       "    <tr style=\"text-align: right;\">\n",
       "      <th></th>\n",
       "      <th>RKDN</th>\n",
       "      <th>RKDX</th>\n",
       "      <th>TENTR</th>\n",
       "      <th>TENTRX</th>\n",
       "      <th>VVX</th>\n",
       "      <th>RAUTEFR</th>\n",
       "      <th>RAUTEFS</th>\n",
       "      <th>RQICRMIN</th>\n",
       "      <th>RQICRMAX</th>\n",
       "      <th>RQLCR</th>\n",
       "      <th>...</th>\n",
       "      <th>TFVL</th>\n",
       "      <th>RACCEF</th>\n",
       "      <th>RRIMEF</th>\n",
       "      <th>RAGGEF</th>\n",
       "      <th>REVASX</th>\n",
       "      <th>RREVASXCS</th>\n",
       "      <th>RSWINHF_LIQ</th>\n",
       "      <th>RSWINHF_ICE</th>\n",
       "      <th>RLWINHF_LIQ</th>\n",
       "      <th>RLWINHF_ICE</th>\n",
       "    </tr>\n",
       "    <tr>\n",
       "      <th>ensemble</th>\n",
       "      <th></th>\n",
       "      <th></th>\n",
       "      <th></th>\n",
       "      <th></th>\n",
       "      <th></th>\n",
       "      <th></th>\n",
       "      <th></th>\n",
       "      <th></th>\n",
       "      <th></th>\n",
       "      <th></th>\n",
       "      <th></th>\n",
       "      <th></th>\n",
       "      <th></th>\n",
       "      <th></th>\n",
       "      <th></th>\n",
       "      <th></th>\n",
       "      <th></th>\n",
       "      <th></th>\n",
       "      <th></th>\n",
       "      <th></th>\n",
       "      <th></th>\n",
       "    </tr>\n",
       "  </thead>\n",
       "  <tbody>\n",
       "    <tr>\n",
       "      <th>0</th>\n",
       "      <td>0.000050</td>\n",
       "      <td>0.000587</td>\n",
       "      <td>0.000010</td>\n",
       "      <td>0.000058</td>\n",
       "      <td>-32.5</td>\n",
       "      <td>0.00206</td>\n",
       "      <td>0.00350</td>\n",
       "      <td>1.100000e-07</td>\n",
       "      <td>0.000011</td>\n",
       "      <td>0.000147</td>\n",
       "      <td>...</td>\n",
       "      <td>0.07010</td>\n",
       "      <td>1.130</td>\n",
       "      <td>0.991</td>\n",
       "      <td>0.288</td>\n",
       "      <td>1.050000e-07</td>\n",
       "      <td>0.5950</td>\n",
       "      <td>0.646</td>\n",
       "      <td>0.864</td>\n",
       "      <td>0.584</td>\n",
       "      <td>0.603</td>\n",
       "    </tr>\n",
       "    <tr>\n",
       "      <th>1</th>\n",
       "      <td>0.000020</td>\n",
       "      <td>0.000180</td>\n",
       "      <td>0.000019</td>\n",
       "      <td>0.000108</td>\n",
       "      <td>-47.1</td>\n",
       "      <td>0.00170</td>\n",
       "      <td>0.00152</td>\n",
       "      <td>1.030000e-07</td>\n",
       "      <td>0.000031</td>\n",
       "      <td>0.000779</td>\n",
       "      <td>...</td>\n",
       "      <td>0.19300</td>\n",
       "      <td>1.300</td>\n",
       "      <td>0.752</td>\n",
       "      <td>0.343</td>\n",
       "      <td>8.130000e-08</td>\n",
       "      <td>0.0236</td>\n",
       "      <td>0.655</td>\n",
       "      <td>0.792</td>\n",
       "      <td>0.502</td>\n",
       "      <td>0.781</td>\n",
       "    </tr>\n",
       "    <tr>\n",
       "      <th>2</th>\n",
       "      <td>0.000028</td>\n",
       "      <td>0.000138</td>\n",
       "      <td>0.000018</td>\n",
       "      <td>0.000071</td>\n",
       "      <td>-48.9</td>\n",
       "      <td>0.00384</td>\n",
       "      <td>0.00379</td>\n",
       "      <td>2.010000e-07</td>\n",
       "      <td>0.000023</td>\n",
       "      <td>0.000839</td>\n",
       "      <td>...</td>\n",
       "      <td>0.15300</td>\n",
       "      <td>0.570</td>\n",
       "      <td>1.230</td>\n",
       "      <td>0.168</td>\n",
       "      <td>5.810000e-07</td>\n",
       "      <td>0.8230</td>\n",
       "      <td>0.697</td>\n",
       "      <td>0.802</td>\n",
       "      <td>0.940</td>\n",
       "      <td>0.953</td>\n",
       "    </tr>\n",
       "    <tr>\n",
       "      <th>3</th>\n",
       "      <td>0.000038</td>\n",
       "      <td>0.000163</td>\n",
       "      <td>0.000017</td>\n",
       "      <td>0.000110</td>\n",
       "      <td>-44.5</td>\n",
       "      <td>0.00481</td>\n",
       "      <td>0.00221</td>\n",
       "      <td>9.700000e-08</td>\n",
       "      <td>0.000020</td>\n",
       "      <td>0.000057</td>\n",
       "      <td>...</td>\n",
       "      <td>0.00959</td>\n",
       "      <td>1.460</td>\n",
       "      <td>0.612</td>\n",
       "      <td>0.808</td>\n",
       "      <td>3.370000e-07</td>\n",
       "      <td>0.2230</td>\n",
       "      <td>0.745</td>\n",
       "      <td>0.633</td>\n",
       "      <td>0.927</td>\n",
       "      <td>0.672</td>\n",
       "    </tr>\n",
       "    <tr>\n",
       "      <th>4</th>\n",
       "      <td>0.000036</td>\n",
       "      <td>0.000787</td>\n",
       "      <td>0.000005</td>\n",
       "      <td>0.000056</td>\n",
       "      <td>-38.1</td>\n",
       "      <td>0.00195</td>\n",
       "      <td>0.00494</td>\n",
       "      <td>6.850000e-08</td>\n",
       "      <td>0.000029</td>\n",
       "      <td>0.000736</td>\n",
       "      <td>...</td>\n",
       "      <td>0.17000</td>\n",
       "      <td>1.410</td>\n",
       "      <td>1.580</td>\n",
       "      <td>0.596</td>\n",
       "      <td>4.370000e-07</td>\n",
       "      <td>0.8390</td>\n",
       "      <td>0.807</td>\n",
       "      <td>0.783</td>\n",
       "      <td>0.719</td>\n",
       "      <td>0.530</td>\n",
       "    </tr>\n",
       "    <tr>\n",
       "      <th>...</th>\n",
       "      <td>...</td>\n",
       "      <td>...</td>\n",
       "      <td>...</td>\n",
       "      <td>...</td>\n",
       "      <td>...</td>\n",
       "      <td>...</td>\n",
       "      <td>...</td>\n",
       "      <td>...</td>\n",
       "      <td>...</td>\n",
       "      <td>...</td>\n",
       "      <td>...</td>\n",
       "      <td>...</td>\n",
       "      <td>...</td>\n",
       "      <td>...</td>\n",
       "      <td>...</td>\n",
       "      <td>...</td>\n",
       "      <td>...</td>\n",
       "      <td>...</td>\n",
       "      <td>...</td>\n",
       "      <td>...</td>\n",
       "      <td>...</td>\n",
       "    </tr>\n",
       "    <tr>\n",
       "      <th>191</th>\n",
       "      <td>0.000048</td>\n",
       "      <td>0.000261</td>\n",
       "      <td>0.000017</td>\n",
       "      <td>0.000066</td>\n",
       "      <td>-25.9</td>\n",
       "      <td>0.00281</td>\n",
       "      <td>0.00358</td>\n",
       "      <td>2.500000e-07</td>\n",
       "      <td>0.000043</td>\n",
       "      <td>0.000239</td>\n",
       "      <td>...</td>\n",
       "      <td>0.16800</td>\n",
       "      <td>0.852</td>\n",
       "      <td>1.070</td>\n",
       "      <td>0.318</td>\n",
       "      <td>2.340000e-07</td>\n",
       "      <td>0.1230</td>\n",
       "      <td>0.703</td>\n",
       "      <td>0.663</td>\n",
       "      <td>0.765</td>\n",
       "      <td>0.857</td>\n",
       "    </tr>\n",
       "    <tr>\n",
       "      <th>192</th>\n",
       "      <td>0.000047</td>\n",
       "      <td>0.000530</td>\n",
       "      <td>0.000008</td>\n",
       "      <td>0.000049</td>\n",
       "      <td>-44.0</td>\n",
       "      <td>0.00361</td>\n",
       "      <td>0.00474</td>\n",
       "      <td>9.120000e-08</td>\n",
       "      <td>0.000041</td>\n",
       "      <td>0.000587</td>\n",
       "      <td>...</td>\n",
       "      <td>0.00176</td>\n",
       "      <td>0.592</td>\n",
       "      <td>1.640</td>\n",
       "      <td>1.120</td>\n",
       "      <td>9.050000e-07</td>\n",
       "      <td>0.5420</td>\n",
       "      <td>0.898</td>\n",
       "      <td>0.992</td>\n",
       "      <td>0.914</td>\n",
       "      <td>0.748</td>\n",
       "    </tr>\n",
       "    <tr>\n",
       "      <th>193</th>\n",
       "      <td>0.000021</td>\n",
       "      <td>0.000831</td>\n",
       "      <td>0.000010</td>\n",
       "      <td>0.000064</td>\n",
       "      <td>-20.1</td>\n",
       "      <td>0.00331</td>\n",
       "      <td>0.00445</td>\n",
       "      <td>1.630000e-07</td>\n",
       "      <td>0.000038</td>\n",
       "      <td>0.000748</td>\n",
       "      <td>...</td>\n",
       "      <td>0.08220</td>\n",
       "      <td>1.470</td>\n",
       "      <td>1.370</td>\n",
       "      <td>1.280</td>\n",
       "      <td>6.980000e-07</td>\n",
       "      <td>0.8420</td>\n",
       "      <td>0.549</td>\n",
       "      <td>0.941</td>\n",
       "      <td>0.531</td>\n",
       "      <td>0.754</td>\n",
       "    </tr>\n",
       "    <tr>\n",
       "      <th>194</th>\n",
       "      <td>0.000046</td>\n",
       "      <td>0.000482</td>\n",
       "      <td>0.000006</td>\n",
       "      <td>0.000099</td>\n",
       "      <td>-34.7</td>\n",
       "      <td>0.00271</td>\n",
       "      <td>0.00488</td>\n",
       "      <td>2.820000e-08</td>\n",
       "      <td>0.000041</td>\n",
       "      <td>0.000627</td>\n",
       "      <td>...</td>\n",
       "      <td>0.03220</td>\n",
       "      <td>1.460</td>\n",
       "      <td>1.580</td>\n",
       "      <td>0.327</td>\n",
       "      <td>8.730000e-07</td>\n",
       "      <td>0.9420</td>\n",
       "      <td>0.939</td>\n",
       "      <td>0.675</td>\n",
       "      <td>0.685</td>\n",
       "      <td>0.870</td>\n",
       "    </tr>\n",
       "    <tr>\n",
       "      <th>195</th>\n",
       "      <td>0.000040</td>\n",
       "      <td>0.000329</td>\n",
       "      <td>0.000013</td>\n",
       "      <td>0.000112</td>\n",
       "      <td>-42.0</td>\n",
       "      <td>0.00435</td>\n",
       "      <td>0.00324</td>\n",
       "      <td>2.600000e-07</td>\n",
       "      <td>0.000049</td>\n",
       "      <td>0.000382</td>\n",
       "      <td>...</td>\n",
       "      <td>0.17400</td>\n",
       "      <td>0.889</td>\n",
       "      <td>0.899</td>\n",
       "      <td>1.370</td>\n",
       "      <td>8.010000e-07</td>\n",
       "      <td>0.5070</td>\n",
       "      <td>0.761</td>\n",
       "      <td>0.527</td>\n",
       "      <td>0.892</td>\n",
       "      <td>0.927</td>\n",
       "    </tr>\n",
       "  </tbody>\n",
       "</table>\n",
       "<p>196 rows × 21 columns</p>\n",
       "</div>"
      ],
      "text/plain": [
       "              RKDN      RKDX     TENTR     TENTRX     VVX     RAUTEFR  \\\n",
       "ensemble                                                                \n",
       "0         0.000050  0.000587  0.000010   0.000058   -32.5     0.00206   \n",
       "1         0.000020  0.000180  0.000019   0.000108   -47.1     0.00170   \n",
       "2         0.000028  0.000138  0.000018   0.000071   -48.9     0.00384   \n",
       "3         0.000038  0.000163  0.000017   0.000110   -44.5     0.00481   \n",
       "4         0.000036  0.000787  0.000005   0.000056   -38.1     0.00195   \n",
       "...            ...       ...       ...        ...     ...         ...   \n",
       "191       0.000048  0.000261  0.000017   0.000066   -25.9     0.00281   \n",
       "192       0.000047  0.000530  0.000008   0.000049   -44.0     0.00361   \n",
       "193       0.000021  0.000831  0.000010   0.000064   -20.1     0.00331   \n",
       "194       0.000046  0.000482  0.000006   0.000099   -34.7     0.00271   \n",
       "195       0.000040  0.000329  0.000013   0.000112   -42.0     0.00435   \n",
       "\n",
       "             RAUTEFS      RQICRMIN     RQICRMAX     RQLCR  ...     TFVL  \\\n",
       "ensemble                                                   ...            \n",
       "0            0.00350  1.100000e-07     0.000011  0.000147  ...  0.07010   \n",
       "1            0.00152  1.030000e-07     0.000031  0.000779  ...  0.19300   \n",
       "2            0.00379  2.010000e-07     0.000023  0.000839  ...  0.15300   \n",
       "3            0.00221  9.700000e-08     0.000020  0.000057  ...  0.00959   \n",
       "4            0.00494  6.850000e-08     0.000029  0.000736  ...  0.17000   \n",
       "...              ...           ...          ...       ...  ...      ...   \n",
       "191          0.00358  2.500000e-07     0.000043  0.000239  ...  0.16800   \n",
       "192          0.00474  9.120000e-08     0.000041  0.000587  ...  0.00176   \n",
       "193          0.00445  1.630000e-07     0.000038  0.000748  ...  0.08220   \n",
       "194          0.00488  2.820000e-08     0.000041  0.000627  ...  0.03220   \n",
       "195          0.00324  2.600000e-07     0.000049  0.000382  ...  0.17400   \n",
       "\n",
       "             RACCEF     RRIMEF     RAGGEF        REVASX     RREVASXCS  \\\n",
       "ensemble                                                                \n",
       "0             1.130      0.991      0.288  1.050000e-07        0.5950   \n",
       "1             1.300      0.752      0.343  8.130000e-08        0.0236   \n",
       "2             0.570      1.230      0.168  5.810000e-07        0.8230   \n",
       "3             1.460      0.612      0.808  3.370000e-07        0.2230   \n",
       "4             1.410      1.580      0.596  4.370000e-07        0.8390   \n",
       "...             ...        ...        ...           ...           ...   \n",
       "191           0.852      1.070      0.318  2.340000e-07        0.1230   \n",
       "192           0.592      1.640      1.120  9.050000e-07        0.5420   \n",
       "193           1.470      1.370      1.280  6.980000e-07        0.8420   \n",
       "194           1.460      1.580      0.327  8.730000e-07        0.9420   \n",
       "195           0.889      0.899      1.370  8.010000e-07        0.5070   \n",
       "\n",
       "             RSWINHF_LIQ     RSWINHF_ICE     RLWINHF_LIQ     RLWINHF_ICE  \n",
       "ensemble                                                                  \n",
       "0                  0.646           0.864           0.584           0.603  \n",
       "1                  0.655           0.792           0.502           0.781  \n",
       "2                  0.697           0.802           0.940           0.953  \n",
       "3                  0.745           0.633           0.927           0.672  \n",
       "4                  0.807           0.783           0.719           0.530  \n",
       "...                  ...             ...             ...             ...  \n",
       "191                0.703           0.663           0.765           0.857  \n",
       "192                0.898           0.992           0.914           0.748  \n",
       "193                0.549           0.941           0.531           0.754  \n",
       "194                0.939           0.675           0.685           0.870  \n",
       "195                0.761           0.527           0.892           0.927  \n",
       "\n",
       "[196 rows x 21 columns]"
      ]
     },
     "execution_count": 3,
     "metadata": {},
     "output_type": "execute_result"
    }
   ],
   "source": [
    "# Read data from file 'simulations.csv' \n",
    "# Then arrange ncely the data in dataframe and change data type of the values\n",
    "data = pd.read_csv(\"./simulations.csv\", header=None)\n",
    "#d=data.reset_index()\n",
    "\n",
    "line0 = data.iloc[0,0]\n",
    "\n",
    "param_names=[21]\n",
    "\n",
    "param_names[0] = 'RKDN'\n",
    "param_names[1:] = re.findall( r'( .*?)=', line0)\n",
    "param_values = re.findall( r'=(.*?\\d.*?e.*?0\\d)', line0)\n",
    "[float(param_values[k]) for k in range(len(param_values)-1)]\n",
    "\n",
    "df_params = pd.DataFrame(param_values, index=param_names)\n",
    "df_params[0] = df_params[0].astype(float)\n",
    "\n",
    "L=len(data)\n",
    "i=1\n",
    "while i<L:\n",
    "    line = data.iloc[i,0]\n",
    "    param_values2 = re.findall( r'=(.*?\\d.*?e.*?0\\d)', line)\n",
    "    [float(param_values2[l]) for l in range(len(param_values2)-1)]\n",
    "    df_params[str(i)]=(param_values2)\n",
    "    df_params[str(i)] = df_params[str(i)].astype(float)\n",
    "    i = i+1\n",
    "\n",
    "tmp_inputdata = df_params \n",
    "\n",
    "#Delete lines corresponding to the missing simulations \n",
    "missing_lines=pd.read_csv('missing_lines_simulations.txt', sep=\" \", header = None)\n",
    "length=missing_lines.count(axis='columns').values\n",
    "l=length[0]\n",
    "list_line=[l]\n",
    "\n",
    "j=0\n",
    "while j<l:\n",
    "    line=missing_lines[j]-1\n",
    "    list_line[j:]=line.astype(str)   \n",
    "    j = j+1\n",
    "\n",
    "tmp=tmp_inputdata.drop(list_line,axis=1).transpose() \n",
    "\n",
    "# Add index 'ensemble' as in the output data\n",
    "a=len(tmp)\n",
    "ensemble = [k for k in range(a)]\n",
    "[str(ensemble[m]) for m in range(len(ensemble)-1)]\n",
    "tmp['ensemble']=ensemble\n",
    "inputdata=tmp.set_index('ensemble')\n",
    "inputdata"
   ]
  },
  {
   "cell_type": "code",
   "execution_count": 4,
   "metadata": {},
   "outputs": [],
   "source": [
    "# Save the numpy array in a file   \n",
    "inp=inputdata.values\n",
    "np.save('/data/home/globc/peatier/CNRMppe/inputdata_file.npy', inp)"
   ]
  },
  {
   "cell_type": "code",
   "execution_count": 5,
   "metadata": {
    "scrolled": true
   },
   "outputs": [
    {
     "data": {
      "image/png": "[encoded data removed]",
      "text/plain": [
       "<Figure size 432x288 with 1 Axes>"
      ]
     },
     "metadata": {
      "needs_background": "light"
     },
     "output_type": "display_data"
    },
    {
     "data": {
      "image/png": "[encoded data removed]",
      "text/plain": [
       "<Figure size 432x288 with 1 Axes>"
      ]
     },
     "metadata": {
      "needs_background": "light"
     },
     "output_type": "display_data"
    },
    {
     "data": {
      "image/png": "[encoded data removed]",
      "text/plain": [
       "<Figure size 432x288 with 1 Axes>"
      ]
     },
     "metadata": {
      "needs_background": "light"
     },
     "output_type": "display_data"
    },
    {
     "data": {
      "image/png": "[encoded data removed]",
      "text/plain": [
       "<Figure size 432x288 with 1 Axes>"
      ]
     },
     "metadata": {
      "needs_background": "light"
     },
     "output_type": "display_data"
    },
    {
     "data": {
      "image/png": "[encoded data removed]",
      "text/plain": [
       "<Figure size 432x288 with 1 Axes>"
      ]
     },
     "metadata": {
      "needs_background": "light"
     },
     "output_type": "display_data"
    },
    {
     "data": {
      "image/png": "[encoded data removed]",
      "text/plain": [
       "<Figure size 432x288 with 1 Axes>"
      ]
     },
     "metadata": {
      "needs_background": "light"
     },
     "output_type": "display_data"
    },
    {
     "data": {
      "image/png": "[encoded data removed]",
      "text/plain": [
       "<Figure size 432x288 with 1 Axes>"
      ]
     },
     "metadata": {
      "needs_background": "light"
     },
     "output_type": "display_data"
    },
    {
     "data": {
      "image/png": "[encoded data removed]",
      "text/plain": [
       "<Figure size 432x288 with 1 Axes>"
      ]
     },
     "metadata": {
      "needs_background": "light"
     },
     "output_type": "display_data"
    },
    {
     "data": {
      "image/png": "[encoded data removed]",
      "text/plain": [
       "<Figure size 432x288 with 1 Axes>"
      ]
     },
     "metadata": {
      "needs_background": "light"
     },
     "output_type": "display_data"
    },
    {
     "data": {
      "image/png": "[encoded data removed]",
      "text/plain": [
       "<Figure size 432x288 with 1 Axes>"
      ]
     },
     "metadata": {
      "needs_background": "light"
     },
     "output_type": "display_data"
    },
    {
     "data": {
      "image/png": "[encoded data removed]",
      "text/plain": [
       "<Figure size 432x288 with 1 Axes>"
      ]
     },
     "metadata": {
      "needs_background": "light"
     },
     "output_type": "display_data"
    },
    {
     "data": {
      "image/png": "[encoded data removed]",
      "text/plain": [
       "<Figure size 432x288 with 1 Axes>"
      ]
     },
     "metadata": {
      "needs_background": "light"
     },
     "output_type": "display_data"
    },
    {
     "data": {
      "image/png": "[encoded data removed]",
      "text/plain": [
       "<Figure size 432x288 with 1 Axes>"
      ]
     },
     "metadata": {
      "needs_background": "light"
     },
     "output_type": "display_data"
    },
    {
     "data": {
      "image/png": "[encoded data removed]",
      "text/plain": [
       "<Figure size 432x288 with 1 Axes>"
      ]
     },
     "metadata": {
      "needs_background": "light"
     },
     "output_type": "display_data"
    },
    {
     "data": {
      "image/png": "[encoded data removed]",
      "text/plain": [
       "<Figure size 432x288 with 1 Axes>"
      ]
     },
     "metadata": {
      "needs_background": "light"
     },
     "output_type": "display_data"
    },
    {
     "data": {
      "image/png": "[encoded data removed]",
      "text/plain": [
       "<Figure size 432x288 with 1 Axes>"
      ]
     },
     "metadata": {
      "needs_background": "light"
     },
     "output_type": "display_data"
    },
    {
     "data": {
      "image/png": "[encoded data removed]",
      "text/plain": [
       "<Figure size 432x288 with 1 Axes>"
      ]
     },
     "metadata": {
      "needs_background": "light"
     },
     "output_type": "display_data"
    },
    {
     "data": {
      "image/png": "[encoded data removed]",
      "text/plain": [
       "<Figure size 432x288 with 1 Axes>"
      ]
     },
     "metadata": {
      "needs_background": "light"
     },
     "output_type": "display_data"
    },
    {
     "data": {
      "image/png": "[encoded data removed]",
      "text/plain": [
       "<Figure size 432x288 with 1 Axes>"
      ]
     },
     "metadata": {
      "needs_background": "light"
     },
     "output_type": "display_data"
    },
    {
     "data": {
      "image/png": "[encoded data removed]",
      "text/plain": [
       "<Figure size 432x288 with 1 Axes>"
      ]
     },
     "metadata": {
      "needs_background": "light"
     },
     "output_type": "display_data"
    },
    {
     "data": {
      "image/png": "[encoded data removed]",
      "text/plain": [
       "<Figure size 432x288 with 1 Axes>"
      ]
     },
     "metadata": {
      "needs_background": "light"
     },
     "output_type": "display_data"
    }
   ],
   "source": [
    "#Create plot\n",
    "\n",
    "fig_params=plt.figure()\n",
    "#Xaxis=np.arange(0,210,10)\n",
    "#print(Xaxis)\n",
    "\n",
    "# boucle pour céer les figures:\n",
    "i=0\n",
    "p=1\n",
    "while i < 21:\n",
    "#    ax = fig_params.add_subplot(21,1,p)\n",
    "    param=param_names[i]\n",
    "#    ax.set_title(param, fontsize=18, fontweight='bold')\n",
    "#    inputdata.plot(kind='bar',y=param, ax=ax, fontsize=18, sharex=True)\n",
    "#    ax.xaxis.set_major_locator(ticker.LinearLocator(numticks=20))\n",
    "    plt.hist(inputdata.iloc[:,i], bins='auto', rwidth=0.5, color = \"gray\")\n",
    "    plt.ticklabel_format(axis='x',useOffset=True,style='scientific')\n",
    "    plt.ylim(ymin=18)\n",
    "    plt.title(param)\n",
    "    plt.show()\n",
    "    i = i+1\n",
    "    p = p+1\n",
    "\n",
    "fig_params.suptitle('Perturbed parameters', fontsize=25, fontweight = 'bold')\n",
    "fig_params.tight_layout()\n",
    "fig_params.subplots_adjust(top=0.97,hspace = 0.2)"
   ]
  },
  {
   "cell_type": "markdown",
   "metadata": {},
   "source": [
    "## Read /PRE623TUN*.nc and create outputdata array"
   ]
  },
  {
   "cell_type": "code",
   "execution_count": 5,
   "metadata": {
    "scrolled": false
   },
   "outputs": [
    {
     "name": "stderr",
     "output_type": "stream",
     "text": [
      "/scratch/globc/peatier/conda/lib/python3.7/site-packages/dask/array/numpy_compat.py:40: RuntimeWarning: divide by zero encountered in true_divide\n",
      "  x = np.divide(x1, x2, out)\n",
      "/scratch/globc/peatier/conda/lib/python3.7/site-packages/dask/array/numpy_compat.py:40: RuntimeWarning: invalid value encountered in true_divide\n",
      "  x = np.divide(x1, x2, out)\n"
     ]
    }
   ],
   "source": [
    "# -------------------------------------  Simulations :  -----------------------------------------------------\n",
    "path_simul = \"/scratch/globc/dcom/ARPEGE6_TUNE\"\n",
    "filename_simul = \"/PRE623TUN*.nc\"\n",
    "file_simul = xr.open_mfdataset(path_simul+filename_simul,concat_dim='ensemble',combine='nested')\n",
    "#file_simul\n",
    "\n",
    "# TOA fluxes\n",
    "var = ['tall']\n",
    "nc_simul = file_simul[var]\n",
    "# compute global mean... WARNING : no scale factors used here !\n",
    "xarray_simul = nc_simul.mean('lat').mean('lon')\n",
    "simul = xarray_simul.to_dataframe()\n",
    "#simul"
   ]
  },
  {
   "cell_type": "code",
   "execution_count": 6,
   "metadata": {},
   "outputs": [
    {
     "data": {
      "text/html": [
       "<div>\n",
       "<style scoped>\n",
       "    .dataframe tbody tr th:only-of-type {\n",
       "        vertical-align: middle;\n",
       "    }\n",
       "\n",
       "    .dataframe tbody tr th {\n",
       "        vertical-align: top;\n",
       "    }\n",
       "\n",
       "    .dataframe thead th {\n",
       "        text-align: right;\n",
       "    }\n",
       "</style>\n",
       "<table border=\"1\" class=\"dataframe\">\n",
       "  <thead>\n",
       "    <tr style=\"text-align: right;\">\n",
       "      <th></th>\n",
       "      <th>tall</th>\n",
       "    </tr>\n",
       "    <tr>\n",
       "      <th>ensemble</th>\n",
       "      <th></th>\n",
       "    </tr>\n",
       "  </thead>\n",
       "  <tbody>\n",
       "    <tr>\n",
       "      <th>0</th>\n",
       "      <td>278.329529</td>\n",
       "    </tr>\n",
       "    <tr>\n",
       "      <th>1</th>\n",
       "      <td>278.863800</td>\n",
       "    </tr>\n",
       "    <tr>\n",
       "      <th>2</th>\n",
       "      <td>278.860443</td>\n",
       "    </tr>\n",
       "    <tr>\n",
       "      <th>3</th>\n",
       "      <td>278.845612</td>\n",
       "    </tr>\n",
       "    <tr>\n",
       "      <th>4</th>\n",
       "      <td>278.193878</td>\n",
       "    </tr>\n",
       "    <tr>\n",
       "      <th>...</th>\n",
       "      <td>...</td>\n",
       "    </tr>\n",
       "    <tr>\n",
       "      <th>191</th>\n",
       "      <td>279.226562</td>\n",
       "    </tr>\n",
       "    <tr>\n",
       "      <th>192</th>\n",
       "      <td>279.050110</td>\n",
       "    </tr>\n",
       "    <tr>\n",
       "      <th>193</th>\n",
       "      <td>278.700287</td>\n",
       "    </tr>\n",
       "    <tr>\n",
       "      <th>194</th>\n",
       "      <td>278.948364</td>\n",
       "    </tr>\n",
       "    <tr>\n",
       "      <th>195</th>\n",
       "      <td>279.191162</td>\n",
       "    </tr>\n",
       "  </tbody>\n",
       "</table>\n",
       "<p>196 rows × 1 columns</p>\n",
       "</div>"
      ],
      "text/plain": [
       "                tall\n",
       "ensemble            \n",
       "0         278.329529\n",
       "1         278.863800\n",
       "2         278.860443\n",
       "3         278.845612\n",
       "4         278.193878\n",
       "...              ...\n",
       "191       279.226562\n",
       "192       279.050110\n",
       "193       278.700287\n",
       "194       278.948364\n",
       "195       279.191162\n",
       "\n",
       "[196 rows x 1 columns]"
      ]
     },
     "execution_count": 6,
     "metadata": {},
     "output_type": "execute_result"
    }
   ],
   "source": [
    "# Compute climatology\n",
    "sim = simul.reset_index(level=['time'])\n",
    "sim['month'] = pd.DatetimeIndex(sim['time']).month\n",
    "outputdata=sim.groupby(['ensemble','month']).mean()\n",
    "output=sim.groupby(['ensemble','month']).mean()\n",
    "outputdata=output.groupby(['ensemble']).mean()\n",
    "outputdata"
   ]
  },
  {
   "cell_type": "code",
   "execution_count": 7,
   "metadata": {},
   "outputs": [],
   "source": [
    "# Save the numpy array in a file   \n",
    "out=outputdata.values\n",
    "np.save('/data/home/globc/peatier/CNRMppe/outputdata_file.npy', out)"
   ]
  },
  {
   "cell_type": "code",
   "execution_count": 8,
   "metadata": {},
   "outputs": [
    {
     "data": {
      "image/png": "[encoded data removed]",
      "text/plain": [
       "<Figure size 432x288 with 1 Axes>"
      ]
     },
     "metadata": {
      "needs_background": "light"
     },
     "output_type": "display_data"
    }
   ],
   "source": [
    "#Create plot \n",
    "plt.hist(outputdata['tall'], bins='auto', rwidth=0.5)\n",
    "#plt.title('rlut')\n",
    "plt.xlabel('tall [K]')\n",
    "plt.ylabel('Ensemble')\n",
    "plt.show()"
   ]
  },
  {
   "cell_type": "markdown",
   "metadata": {},
   "source": [
    "## Create Emulator"
   ]
  },
  {
   "cell_type": "code",
   "execution_count": 9,
   "metadata": {
    "scrolled": false
   },
   "outputs": [
    {
     "name": "stdout",
     "output_type": "stream",
     "text": [
      "WARNING:tensorflow:From /scratch/globc/peatier/conda/lib/python3.7/site-packages/keras/backend/tensorflow_backend.py:74: The name tf.get_default_graph is deprecated. Please use tf.compat.v1.get_default_graph instead.\n",
      "\n",
      "WARNING:tensorflow:From /scratch/globc/peatier/conda/lib/python3.7/site-packages/keras/backend/tensorflow_backend.py:517: The name tf.placeholder is deprecated. Please use tf.compat.v1.placeholder instead.\n",
      "\n",
      "WARNING:tensorflow:From /scratch/globc/peatier/conda/lib/python3.7/site-packages/keras/backend/tensorflow_backend.py:4138: The name tf.random_uniform is deprecated. Please use tf.random.uniform instead.\n",
      "\n",
      "WARNING:tensorflow:From /scratch/globc/peatier/conda/lib/python3.7/site-packages/keras/optimizers.py:790: The name tf.train.Optimizer is deprecated. Please use tf.compat.v1.train.Optimizer instead.\n",
      "\n",
      "_________________________________________________________________\n",
      "Layer (type)                 Output Shape              Param #   \n",
      "=================================================================\n",
      "dense_1 (Dense)              (None, 20)                440       \n",
      "_________________________________________________________________\n",
      "dense_2 (Dense)              (None, 1)                 21        \n",
      "=================================================================\n",
      "Total params: 461\n",
      "Trainable params: 461\n",
      "Non-trainable params: 0\n",
      "_________________________________________________________________\n",
      "WARNING:tensorflow:From /scratch/globc/peatier/conda/lib/python3.7/site-packages/keras/backend/tensorflow_backend.py:986: The name tf.assign_add is deprecated. Please use tf.compat.v1.assign_add instead.\n",
      "\n",
      "WARNING:tensorflow:From /scratch/globc/peatier/conda/lib/python3.7/site-packages/keras/backend/tensorflow_backend.py:973: The name tf.assign is deprecated. Please use tf.compat.v1.assign instead.\n",
      "\n",
      "WARNING:tensorflow:From /scratch/globc/peatier/conda/lib/python3.7/site-packages/keras/backend/tensorflow_backend.py:2741: The name tf.Session is deprecated. Please use tf.compat.v1.Session instead.\n",
      "\n",
      "Train on 60 samples, validate on 136 samples\n",
      "Epoch 1/50\n",
      "WARNING:tensorflow:From /scratch/globc/peatier/conda/lib/python3.7/site-packages/keras/backend/tensorflow_backend.py:174: The name tf.get_default_session is deprecated. Please use tf.compat.v1.get_default_session instead.\n",
      "\n",
      "WARNING:tensorflow:From /scratch/globc/peatier/conda/lib/python3.7/site-packages/keras/backend/tensorflow_backend.py:181: The name tf.ConfigProto is deprecated. Please use tf.compat.v1.ConfigProto instead.\n",
      "\n",
      "WARNING:tensorflow:From /scratch/globc/peatier/conda/lib/python3.7/site-packages/keras/backend/tensorflow_backend.py:190: The name tf.global_variables is deprecated. Please use tf.compat.v1.global_variables instead.\n",
      "\n",
      "WARNING:tensorflow:From /scratch/globc/peatier/conda/lib/python3.7/site-packages/keras/backend/tensorflow_backend.py:199: The name tf.is_variable_initialized is deprecated. Please use tf.compat.v1.is_variable_initialized instead.\n",
      "\n",
      "WARNING:tensorflow:From /scratch/globc/peatier/conda/lib/python3.7/site-packages/keras/backend/tensorflow_backend.py:206: The name tf.variables_initializer is deprecated. Please use tf.compat.v1.variables_initializer instead.\n",
      "\n",
      "60/60 [==============================] - 1s 15ms/step - loss: 99158203386.2734 - mean_error: 87430991748.6029 - val_loss: 46123593908.7059 - val_mean_error: 72241208.7059\n",
      "Epoch 2/50\n",
      "60/60 [==============================] - 0s 466us/step - loss: 93337223850.6667 - mean_error: 137644694.6667 - val_loss: 173822151740.2353 - val_mean_error: 242014182.5882\n",
      "Epoch 3/50\n",
      "60/60 [==============================] - 0s 355us/step - loss: 250099056640.0000 - mean_error: 325964976.0000 - val_loss: 368659693568.0000 - val_mean_error: 442796148.2353\n",
      "Epoch 4/50\n",
      "60/60 [==============================] - 0s 415us/step - loss: 468635992064.0000 - mean_error: 517270378.6667 - val_loss: 618113119412.7059 - val_mean_error: 609455661.1765\n",
      "Epoch 5/50\n",
      "60/60 [==============================] - 0s 327us/step - loss: 737149463210.6666 - mean_error: 652953045.3333 - val_loss: 911358951424.0000 - val_mean_error: 695212883.7647\n",
      "Epoch 6/50\n",
      "60/60 [==============================] - 0s 325us/step - loss: 1045457469440.0000 - mean_error: 697504746.6667 - val_loss: 1239077093376.0000 - val_mean_error: 681398487.5294\n",
      "Epoch 7/50\n",
      "60/60 [==============================] - 0s 338us/step - loss: 1384806307157.3333 - mean_error: 644667018.6667 - val_loss: 1593272565760.0000 - val_mean_error: 578503083.2941\n",
      "Epoch 8/50\n",
      "60/60 [==============================] - 0s 354us/step - loss: 1747696331434.6667 - mean_error: 515068992.0000 - val_loss: 1967108653056.0000 - val_mean_error: 419428616.0000\n",
      "Epoch 9/50\n",
      "60/60 [==============================] - 0s 347us/step - loss: 2127721966250.6665 - mean_error: 347127914.6667 - val_loss: 2354755403776.0000 - val_mean_error: 247781921.1765\n",
      "Epoch 10/50\n",
      "60/60 [==============================] - 0s 363us/step - loss: 2519425220608.0000 - mean_error: 184528384.0000 - val_loss: 2751249252352.0000 - val_mean_error: 104960133.0588\n",
      "Epoch 11/50\n",
      "60/60 [==============================] - 0s 350us/step - loss: 2918163939328.0000 - mean_error: 64028837.3333 - val_loss: 3152377282560.0000 - val_mean_error: 19576757.7059\n",
      "Epoch 12/50\n",
      "60/60 [==============================] - 0s 343us/step - loss: 3320001418581.3335 - mean_error: 6746652.3516 - val_loss: 3554572238848.0000 - val_mean_error: 1678629.2316\n",
      "Epoch 13/50\n",
      "60/60 [==============================] - 0s 350us/step - loss: 3721609434453.3335 - mean_error: 14727493.2292 - val_loss: 3954823135232.0000 - val_mean_error: 42613464.4118\n",
      "Epoch 14/50\n",
      "60/60 [==============================] - 0s 349us/step - loss: 4120188551168.0000 - mean_error: 72976091.3333 - val_loss: 4350616797184.0000 - val_mean_error: 119809026.7059\n",
      "Epoch 15/50\n",
      "60/60 [==============================] - 0s 359us/step - loss: 4513407085226.6670 - mean_error: 155668921.3333 - val_loss: 4739864461312.0000 - val_mean_error: 204542611.7647\n",
      "Epoch 16/50\n",
      "60/60 [==============================] - 0s 356us/step - loss: 4899341860864.0000 - mean_error: 234352504.0000 - val_loss: 5120861929472.0000 - val_mean_error: 270260840.0000\n",
      "Epoch 17/50\n",
      "60/60 [==============================] - 0s 374us/step - loss: 5276431548416.0000 - mean_error: 285713946.6667 - val_loss: 5492245004288.0000 - val_mean_error: 299199750.5882\n",
      "Epoch 18/50\n",
      "60/60 [==============================] - 0s 355us/step - loss: 5643437604864.0000 - mean_error: 296950053.3333 - val_loss: 5852941516800.0000 - val_mean_error: 285810210.8235\n",
      "Epoch 19/50\n",
      "60/60 [==============================] - 0s 363us/step - loss: 5999397961728.0000 - mean_error: 267668584.0000 - val_loss: 6202136199168.0000 - val_mean_error: 236538736.4706\n",
      "Epoch 20/50\n",
      "60/60 [==============================] - 0s 362us/step - loss: 6343591460864.0000 - mean_error: 208293890.6667 - val_loss: 6539232411648.0000 - val_mean_error: 166502216.9412\n",
      "Epoch 21/50\n",
      "60/60 [==============================] - 0s 364us/step - loss: 6675503338837.3330 - mean_error: 135867221.3333 - val_loss: 6863819112448.0000 - val_mean_error: 94360764.5882\n",
      "Epoch 22/50\n",
      "60/60 [==============================] - 0s 358us/step - loss: 6994783371264.0000 - mean_error: 68698651.3333 - val_loss: 7175633633280.0000 - val_mean_error: 36965515.8235\n",
      "Epoch 23/50\n",
      "60/60 [==============================] - 0s 363us/step - loss: 7301225338197.3330 - mean_error: 21414937.6667 - val_loss: 7474535989248.0000 - val_mean_error: 5207489.8309\n",
      "Epoch 24/50\n",
      "60/60 [==============================] - 0s 354us/step - loss: 7594731110400.0000 - mean_error: 1643102.9557 - val_loss: 7760488955904.0000 - val_mean_error: 1982363.5607\n",
      "Epoch 25/50\n",
      "60/60 [==============================] - 0s 355us/step - loss: 7875303746218.6670 - mean_error: 8967186.5625 - val_loss: 8033542864896.0000 - val_mean_error: 22512040.8529\n",
      "Epoch 26/50\n",
      "60/60 [==============================] - 0s 380us/step - loss: 8143018218837.3340 - mean_error: 36114332.0000 - val_loss: 8293811486720.0000 - val_mean_error: 56617255.1765\n",
      "Epoch 27/50\n",
      "60/60 [==============================] - 0s 353us/step - loss: 8398019056981.3340 - mean_error: 71767062.6667 - val_loss: 8541477797888.0000 - val_mean_error: 92084235.4118\n",
      "Epoch 28/50\n"
     ]
    },
    {
     "name": "stdout",
     "output_type": "stream",
     "text": [
      "60/60 [==============================] - 0s 356us/step - loss: 8640509946538.6660 - mean_error: 104039938.6667 - val_loss: 8776773533696.0000 - val_mean_error: 118102038.2353\n",
      "Epoch 29/50\n",
      "60/60 [==============================] - 0s 349us/step - loss: 8870742807893.3340 - mean_error: 123632546.6667 - val_loss: 8999979188224.0000 - val_mean_error: 127868795.7647\n",
      "Epoch 30/50\n",
      "60/60 [==============================] - 0s 352us/step - loss: 9089013077333.3340 - mean_error: 125883402.6667 - val_loss: 9211404615680.0000 - val_mean_error: 119804493.6471\n",
      "Epoch 31/50\n",
      "60/60 [==============================] - 0s 353us/step - loss: 9295648260096.0000 - mean_error: 111342733.3333 - val_loss: 9411402661888.0000 - val_mean_error: 97246204.2353\n",
      "Epoch 32/50\n",
      "60/60 [==============================] - 0s 351us/step - loss: 9491003736064.0000 - mean_error: 84917498.6667 - val_loss: 9600332988416.0000 - val_mean_error: 66911832.8235\n",
      "Epoch 33/50\n",
      "60/60 [==============================] - 0s 355us/step - loss: 9675452973056.0000 - mean_error: 54005131.3333 - val_loss: 9778584616960.0000 - val_mean_error: 36698227.5294\n",
      "Epoch 34/50\n",
      "60/60 [==============================] - 0s 367us/step - loss: 9849388837546.6660 - mean_error: 26237026.5000 - val_loss: 9946554957824.0000 - val_mean_error: 13474050.3088\n",
      "Epoch 35/50\n",
      "60/60 [==============================] - 0s 352us/step - loss: 10013204196010.6660 - mean_error: 7468932.9583 - val_loss: 10104626741248.0000 - val_mean_error: 1438924.1801\n",
      "Epoch 36/50\n",
      "60/60 [==============================] - 0s 354us/step - loss: 10167286846805.3340 - mean_error: 503317.7431 - val_loss: 10253198426112.0000 - val_mean_error: 1395749.7996\n",
      "Epoch 37/50\n",
      "60/60 [==============================] - 0s 355us/step - loss: 10312030005930.6660 - mean_error: 4774898.8333 - val_loss: 10392656936960.0000 - val_mean_error: 10999281.5588\n",
      "Epoch 38/50\n",
      "60/60 [==============================] - 0s 388us/step - loss: 10447818151253.3340 - mean_error: 16949272.3333 - val_loss: 10523382906880.0000 - val_mean_error: 25783827.6176\n",
      "Epoch 39/50\n",
      "60/60 [==============================] - 0s 353us/step - loss: 10575029643946.6660 - mean_error: 32153214.3333 - val_loss: 10645748580352.0000 - val_mean_error: 40598439.8235\n",
      "Epoch 40/50\n",
      "60/60 [==============================] - 0s 348us/step - loss: 10694037951829.3340 - mean_error: 45436730.0000 - val_loss: 10760126201856.0000 - val_mean_error: 51023865.8235\n",
      "Epoch 41/50\n",
      "60/60 [==============================] - 0s 351us/step - loss: 10805211474602.6660 - mean_error: 53055628.6667 - val_loss: 10866880675840.0000 - val_mean_error: 54408797.4706\n",
      "Epoch 42/50\n",
      "60/60 [==============================] - 0s 356us/step - loss: 10908906902869.3340 - mean_error: 53269388.0000 - val_loss: 10966363275264.0000 - val_mean_error: 50310226.7059\n",
      "Epoch 43/50\n",
      "60/60 [==============================] - 0s 353us/step - loss: 11005475684352.0000 - mean_error: 46515130.0000 - val_loss: 11058920030208.0000 - val_mean_error: 40305765.2353\n",
      "Epoch 44/50\n",
      "60/60 [==============================] - 0s 351us/step - loss: 11095262101504.0000 - mean_error: 34997848.6667 - val_loss: 11144892776448.0000 - val_mean_error: 27312010.7353\n",
      "Epoch 45/50\n",
      "60/60 [==============================] - 0s 352us/step - loss: 11178601349120.0000 - mean_error: 21881918.1667 - val_loss: 11224608669696.0000 - val_mean_error: 14651341.7500\n",
      "Epoch 46/50\n",
      "60/60 [==============================] - 0s 351us/step - loss: 11255816039082.6660 - mean_error: 10345827.5000 - val_loss: 11298380185600.0000 - val_mean_error: 5141538.9338\n",
      "Epoch 47/50\n",
      "60/60 [==============================] - 0s 356us/step - loss: 11327213404160.0000 - mean_error: 2761920.4375 - val_loss: 11366510362624.0000 - val_mean_error: 438684.5381\n",
      "Epoch 48/50\n",
      "60/60 [==============================] - 0s 367us/step - loss: 11393091589461.3340 - mean_error: 194806.4347 - val_loss: 11429290704896.0000 - val_mean_error: 767571.3713\n",
      "Epoch 49/50\n",
      "60/60 [==============================] - 0s 351us/step - loss: 11453732137642.6660 - mean_error: 2303184.1875 - val_loss: 11486991745024.0000 - val_mean_error: 5055975.4559\n",
      "Epoch 50/50\n",
      "60/60 [==============================] - 0s 352us/step - loss: 11509408027989.3340 - mean_error: 7615993.4167 - val_loss: 11539880869888.0000 - val_mean_error: 11383290.7941\n",
      "Training Mean Error: 7615993.416666667\n",
      "Validation Mean Error: 11383290.794117646\n"
     ]
    },
    {
     "data": {
      "image/png": "[encoded data removed]",
      "text/plain": [
       "<Figure size 432x288 with 1 Axes>"
      ]
     },
     "metadata": {
      "needs_background": "light"
     },
     "output_type": "display_data"
    },
    {
     "data": {
      "image/png": "[encoded data removed]",
      "text/plain": [
       "<Figure size 432x288 with 1 Axes>"
      ]
     },
     "metadata": {
      "needs_background": "light"
     },
     "output_type": "display_data"
    },
    {
     "data": {
      "image/png": "[encoded data removed]",
      "text/plain": [
       "<Figure size 432x288 with 1 Axes>"
      ]
     },
     "metadata": {
      "needs_background": "light"
     },
     "output_type": "display_data"
    },
    {
     "data": {
      "image/png": "[encoded data removed]",
      "text/plain": [
       "<Figure size 432x288 with 1 Axes>"
      ]
     },
     "metadata": {
      "needs_background": "light"
     },
     "output_type": "display_data"
    }
   ],
   "source": [
    "# Read in input array\n",
    "inputdata = np.load(file=\"inputdata_file.npy\")\n",
    "\n",
    "# List of input variables\n",
    "in_vars = param_names\n",
    "\n",
    "# Read in outputdata array\n",
    "outputdata = np.load(\"outputdata_file.npy\")\n",
    "\n",
    "# Create 2-layer simple model\n",
    "model = Sequential()\n",
    "# first layer with 20 nodes and rectified linear activation\n",
    "# specify input_dim as number of parameters, not number of simulations\n",
    "# l2 norm regularizer\n",
    "model.add(Dense(20, input_dim=inputdata.shape[1], activation='relu',\n",
    "    kernel_regularizer=l2(.001)))\n",
    "# output layer with linear activation\n",
    "model.add(Dense(1))\n",
    "\n",
    "# Define model metrics\n",
    "def mean_error(y_true,y_pred):\n",
    "    return K.mean((y_true-y_pred)**2)\n",
    "\n",
    "# Compile model\n",
    "#model.compile(optimizer='adam',loss='mse',metrics=[mean_error])\n",
    "#model.compile(optimizer='adam',loss='mse',metrics=[mean_pred])\n",
    "\n",
    "# using a stochastic gradient descent optimizer\n",
    "opt_dense = SGD(lr=0.001, momentum=0.99, decay=1e-4, nesterov=True)\n",
    "model.compile(opt_dense, \"mse\", metrics=[mean_error])\n",
    "model.summary()\n",
    "\n",
    "# Separate training/test data: 60/40 split\n",
    "# how does test split into validation/verification? try 20/20\n",
    "x_train = inputdata[0:60,:]\n",
    "x_test = inputdata[60:,:]\n",
    "#x_val = inputdata[80:,:]\n",
    "y_train = outputdata[0:60]\n",
    "y_test = outputdata[60:]\n",
    "#y_val = outputdata[80:]\n",
    "\n",
    "# Fit the model\n",
    "#model.fit(x_train, y_train, epochs=20, batch_size=10)\n",
    "#model.fit(x_train, y_train, epochs=40, batch_size=10)\n",
    "#print(model)\n",
    "results = model.fit(x_train, y_train, epochs=50, batch_size=10,\n",
    "        validation_data=(x_test,y_test))\n",
    "\n",
    "#print(results.history)\n",
    "print(\"Training Mean Error:\", results.history['mean_error'][-1])\n",
    "print(\"Validation Mean Error:\", results.history['val_mean_error'][-1])\n",
    "\n",
    "# Plot histogram of model mean error\n",
    "plt.hist(results.history['mean_error'], bins=20, rwidth=0.5)\n",
    "plt.xlabel('Training Mean Error')\n",
    "plt.ylabel('Counts')\n",
    "#plt.savefig(\"dist_train_me.eps\")\n",
    "plt.show()\n",
    "\n",
    "# Plot histogram of validation mean error\n",
    "plt.hist(results.history['val_mean_error'], bins=20, rwidth=0.5)\n",
    "plt.xlabel('Validation Mean Error')\n",
    "plt.ylabel('Counts')\n",
    "#plt.savefig(\"dist_val_me.eps\")\n",
    "plt.show()\n",
    "\n",
    "\n",
    "# Plot training history by epoch\n",
    "plt.plot(results.epoch, results.history['val_mean_error'], label='validation')\n",
    "plt.plot(results.epoch, results.history['mean_error'], label='train')\n",
    "#plt.xticks(results.epoch)\n",
    "plt.legend()\n",
    "plt.hlines(y=0,xmin=0,xmax=50)\n",
    "plt.ylabel('Mean Error')\n",
    "plt.xlabel('Epoch')\n",
    "plt.title('Neural Network Training History')\n",
    "#plt.savefig(\"train_history.eps\")\n",
    "plt.show()\n",
    "\n",
    "\n",
    "# Plot the loss function\n",
    "loss = results.history['loss']\n",
    "val_loss = results.history['val_loss']\n",
    "epochs = range(1, len(loss) + 1)\n",
    "plt.figure()\n",
    "plt.plot(epochs, loss, 'bo', label='Training loss')\n",
    "plt.plot(epochs, val_loss, 'b', label='Validation loss')\n",
    "plt.title('Training and validation loss')\n",
    "plt.legend()\n",
    "plt.show()"
   ]
  },
  {
   "cell_type": "code",
   "execution_count": 39,
   "metadata": {},
   "outputs": [],
   "source": [
    "# Evaluate the model using test data\n",
    "#score = model.evaluate(x_test, y_test, batch_size=10)\n",
    "#print(\"\\n%s: %.2f%%\" % (model.metrics_names[1], score[1]*100))\n",
    "#print(score)\n",
    "\n",
    "# Make predictions - using validation subsection?\n",
    "#predictions = model.predict(inputdata)\n",
    "#predictions = model.predict(x_val)\n",
    "#print(predictions)\n",
    "#model_preds = model.predict(x_test)[:,0]\n",
    "\n",
    "# model metric for predictions\n",
    "#def model_error_preds(y_true,y_pred):\n",
    "#    return np.mean(y_true-y_pred)\n",
    "\n",
    "# calculate model mean error with predictions\n",
    "#model_me = model_error_preds(y_test, model_preds)\n",
    "#print(\"Prediction Mean Error: \", model_me)\n",
    "\n",
    "# plot histogram of prediction error\n",
    "#plt.hist(y_test-model_preds, bins=10)\n",
    "#plt.xlabel('Prediction Error')\n",
    "#plt.ylabel('Counts')\n",
    "#plt.savefig(\"dist_preds.eps\")\n",
    "#plt.show()\n",
    "\n",
    "# scatterplot actual versus predicted (validation set)\n",
    "#plt.scatter(y_test, model_preds)\n",
    "#plt.xlabel('Model Output GPP')\n",
    "#plt.ylabel('Predicted GPP')\n",
    "#plt.xlim(1.7,2.7)\n",
    "#plt.ylim(1.7,2.7)\n",
    "# trying to get a 1:1 line to show up (doesn't work)\n",
    "#ax.plot(ax.get_xlim(), ax.get_ylim(), ls=\"--\", c=\".3\")\n",
    "#plt.savefig(\"validation_scatter.eps\")\n",
    "#plt.show()\n",
    "\n",
    "# linear regression of actual vs predicted\n",
    "#slope, intercept, r_value, p_value, std_err = stats.linregress(y_test,\n",
    "#                model_preds)\n",
    "#print(\"r-squared:\", r_value**2)\n",
    "\n",
    "# Model interpretation by permutation variable importance\n",
    "#def variable_importance(model, data, labels, input_vars, score_func, num_iters=10):\n",
    "#    preds = model.predict(data)[:, 0]\n",
    "#    score_val = score_func(labels, preds)\n",
    "#    indices = np.arange(data.shape[0])\n",
    "#    imp_scores = np.zeros((len(input_vars), num_iters))\n",
    "#    shuf_data = np.copy(data)\n",
    "#    for n in range(num_iters):\n",
    "#        print(n)\n",
    "#        np.random.shuffle(indices)\n",
    "#        for v, var in enumerate(input_vars):\n",
    "#            print(var)\n",
    "#            shuf_data[:, v] = shuf_data[indices, v]\n",
    "#            shuf_preds = model.predict(shuf_data)[:, 0]\n",
    "#            imp_scores[v, n] = score_func(labels, shuf_preds)\n",
    "#            shuf_data[:, v] = data[:, v]\n",
    "#    return score_val - imp_scores\n",
    "\n",
    "#model_imp_scores = variable_importance(model, x_test, y_test, in_vars,\n",
    "#        model_error_preds, num_iters=3)\n",
    "#model_mean_scores = model_imp_scores.mean(axis=1)\n",
    "#for v, var in enumerate(in_vars):\n",
    "#    print(var, model_mean_scores[v])\n",
    "\n",
    "# Visualize what input most activates the output layer through feature\n",
    "# optimization\n",
    "#out_diff = K.mean((model.layers[-1].output - 1) ** 2)\n",
    "#grad = K.gradients(out_diff, [model.input])[0]\n",
    "#grad /= K.maximum(K.sqrt(K.mean(grad ** 2)), K.epsilon())\n",
    "#iterate = K.function([model.input, K.learning_phase()],\n",
    "#        [out_diff, grad])\n",
    "#input_img_data = np.zeros(shape=(1, len(in_vars)))\n",
    "#print(input_img_data.shape)\n",
    "\n",
    "#for i in range(20):\n",
    "#    out_loss, out_grad = iterate([input_img_data, 0])\n",
    "#    input_img_data -= out_grad * 0.1\n",
    "#    print(out_loss, out_grad.max())\n",
    "\n",
    "# Plot the output layer feature optimization\n",
    "#not working right now - input data is wrong size \n",
    "#plt.pcolormesh(input_img_data[0,0] * scaling_values.loc[0,\"std\"] +\n",
    "#        scaling_values.loc[0,\"mean\"], vmin=-10, vmax=80,\n",
    "#        cmap=\"gist_ncar\")\n",
    "#plt.colorbar()\n",
    "#plt.quiver(input_img_data[0,-2]*scaling_values.loc[1,\"std\"] + \n",
    "#        scaling_values.loc[1,\"mean\"], \n",
    "#        input_img_data[0,-1]*scaling_values.loc[2,\"std\"] + \n",
    "#        scaling_values.loc[2,\"mean\"], scale=500)\n",
    "#plt.title(\"Neural Net Output Layer Feature Optimization\")\n",
    "#plt.show()\n",
    "\n",
    "#plt.pcolormesh(input_img_data[0,0], vmin=-5, vmax=5, cmap=\"RdBu_r\")\n",
    "#plt.quiver(input_img_data[0,1], input_img_data[0,2], scale=100)\n",
    "#plt.show()\n",
    "\n",
    "# Visualize the distribution of model weights in the output layer\n",
    "#plt.hist(model.layers[-2].get_weights()[0], bins=50)\n",
    "#plt.xlabel(\"Neural Net Output Layer Weights\")\n",
    "#plt.ylabel(\"Counts\")\n",
    "#plt.show()"
   ]
  },
  {
   "cell_type": "code",
   "execution_count": null,
   "metadata": {},
   "outputs": [],
   "source": []
  }
 ],
 "metadata": {
  "kernelspec": {
   "display_name": "Python 3",
   "language": "python",
   "name": "python3"
  }
 },
 "nbformat": 4,
 "nbformat_minor": 2
}
