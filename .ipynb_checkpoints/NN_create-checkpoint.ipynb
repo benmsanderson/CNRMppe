{
 "cells": [
  {
   "cell_type": "markdown",
   "metadata": {},
   "source": [
    "# Create emulator (neural network) "
   ]
  },
  {
   "cell_type": "markdown",
   "metadata": {},
   "source": [
    "## Import modules"
   ]
  },
  {
   "cell_type": "code",
   "execution_count": 26,
   "metadata": {},
   "outputs": [],
   "source": [
    "# Computational modules \n",
    "%matplotlib inline\n",
    "import xarray as xr\n",
    "import glob\n",
    "import os\n",
    "import numpy as np\n",
    "import netCDF4\n",
    "from netCDF4 import Dataset\n",
    "import pandas as pd\n",
    "import re\n",
    "from array import array\n",
    "from pylab import *\n",
    "\n",
    "# Plotting modules \n",
    "import matplotlib.pyplot as plt\n",
    "from mpl_toolkits.basemap import Basemap\n",
    "import pandas.plotting\n",
    "import matplotlib.ticker as ticker\n",
    "\n",
    "# Keras modules \n",
    "from keras.models import Sequential\n",
    "from keras.layers import Dense\n",
    "from keras.optimizers import SGD, Adam\n",
    "from keras.regularizers import l2\n",
    "import keras.backend as K\n",
    "from scipy import stats\n",
    "from keras import layers\n",
    "from keras.optimizers import RMSprop"
   ]
  },
  {
   "cell_type": "markdown",
   "metadata": {},
   "source": [
    "## Read the simulations.csv file and create inputdata array"
   ]
  },
  {
   "cell_type": "code",
   "execution_count": 2,
   "metadata": {
    "scrolled": false
   },
   "outputs": [
    {
     "data": {
      "text/html": [
       "<div>\n",
       "<style scoped>\n",
       "    .dataframe tbody tr th:only-of-type {\n",
       "        vertical-align: middle;\n",
       "    }\n",
       "\n",
       "    .dataframe tbody tr th {\n",
       "        vertical-align: top;\n",
       "    }\n",
       "\n",
       "    .dataframe thead th {\n",
       "        text-align: right;\n",
       "    }\n",
       "</style>\n",
       "<table border=\"1\" class=\"dataframe\">\n",
       "  <thead>\n",
       "    <tr style=\"text-align: right;\">\n",
       "      <th></th>\n",
       "      <th>RKDN</th>\n",
       "      <th>RKDX</th>\n",
       "      <th>TENTR</th>\n",
       "      <th>TENTRX</th>\n",
       "      <th>VVX</th>\n",
       "      <th>RAUTEFR</th>\n",
       "      <th>RAUTEFS</th>\n",
       "      <th>RQICRMIN</th>\n",
       "      <th>RQICRMAX</th>\n",
       "      <th>RQLCR</th>\n",
       "      <th>...</th>\n",
       "      <th>TFVL</th>\n",
       "      <th>RACCEF</th>\n",
       "      <th>RRIMEF</th>\n",
       "      <th>RAGGEF</th>\n",
       "      <th>REVASX</th>\n",
       "      <th>RREVASXCS</th>\n",
       "      <th>RSWINHF_LIQ</th>\n",
       "      <th>RSWINHF_ICE</th>\n",
       "      <th>RLWINHF_LIQ</th>\n",
       "      <th>RLWINHF_ICE</th>\n",
       "    </tr>\n",
       "    <tr>\n",
       "      <th>ensemble</th>\n",
       "      <th></th>\n",
       "      <th></th>\n",
       "      <th></th>\n",
       "      <th></th>\n",
       "      <th></th>\n",
       "      <th></th>\n",
       "      <th></th>\n",
       "      <th></th>\n",
       "      <th></th>\n",
       "      <th></th>\n",
       "      <th></th>\n",
       "      <th></th>\n",
       "      <th></th>\n",
       "      <th></th>\n",
       "      <th></th>\n",
       "      <th></th>\n",
       "      <th></th>\n",
       "      <th></th>\n",
       "      <th></th>\n",
       "      <th></th>\n",
       "      <th></th>\n",
       "    </tr>\n",
       "  </thead>\n",
       "  <tbody>\n",
       "    <tr>\n",
       "      <th>0</th>\n",
       "      <td>0.000050</td>\n",
       "      <td>0.000587</td>\n",
       "      <td>0.000010</td>\n",
       "      <td>0.000058</td>\n",
       "      <td>-32.5</td>\n",
       "      <td>0.00206</td>\n",
       "      <td>0.00350</td>\n",
       "      <td>1.100000e-07</td>\n",
       "      <td>0.000011</td>\n",
       "      <td>0.000147</td>\n",
       "      <td>...</td>\n",
       "      <td>0.07010</td>\n",
       "      <td>1.130</td>\n",
       "      <td>0.991</td>\n",
       "      <td>0.288</td>\n",
       "      <td>1.050000e-07</td>\n",
       "      <td>0.5950</td>\n",
       "      <td>0.646</td>\n",
       "      <td>0.864</td>\n",
       "      <td>0.584</td>\n",
       "      <td>0.603</td>\n",
       "    </tr>\n",
       "    <tr>\n",
       "      <th>1</th>\n",
       "      <td>0.000020</td>\n",
       "      <td>0.000180</td>\n",
       "      <td>0.000019</td>\n",
       "      <td>0.000108</td>\n",
       "      <td>-47.1</td>\n",
       "      <td>0.00170</td>\n",
       "      <td>0.00152</td>\n",
       "      <td>1.030000e-07</td>\n",
       "      <td>0.000031</td>\n",
       "      <td>0.000779</td>\n",
       "      <td>...</td>\n",
       "      <td>0.19300</td>\n",
       "      <td>1.300</td>\n",
       "      <td>0.752</td>\n",
       "      <td>0.343</td>\n",
       "      <td>8.130000e-08</td>\n",
       "      <td>0.0236</td>\n",
       "      <td>0.655</td>\n",
       "      <td>0.792</td>\n",
       "      <td>0.502</td>\n",
       "      <td>0.781</td>\n",
       "    </tr>\n",
       "    <tr>\n",
       "      <th>2</th>\n",
       "      <td>0.000028</td>\n",
       "      <td>0.000138</td>\n",
       "      <td>0.000018</td>\n",
       "      <td>0.000071</td>\n",
       "      <td>-48.9</td>\n",
       "      <td>0.00384</td>\n",
       "      <td>0.00379</td>\n",
       "      <td>2.010000e-07</td>\n",
       "      <td>0.000023</td>\n",
       "      <td>0.000839</td>\n",
       "      <td>...</td>\n",
       "      <td>0.15300</td>\n",
       "      <td>0.570</td>\n",
       "      <td>1.230</td>\n",
       "      <td>0.168</td>\n",
       "      <td>5.810000e-07</td>\n",
       "      <td>0.8230</td>\n",
       "      <td>0.697</td>\n",
       "      <td>0.802</td>\n",
       "      <td>0.940</td>\n",
       "      <td>0.953</td>\n",
       "    </tr>\n",
       "    <tr>\n",
       "      <th>3</th>\n",
       "      <td>0.000038</td>\n",
       "      <td>0.000163</td>\n",
       "      <td>0.000017</td>\n",
       "      <td>0.000110</td>\n",
       "      <td>-44.5</td>\n",
       "      <td>0.00481</td>\n",
       "      <td>0.00221</td>\n",
       "      <td>9.700000e-08</td>\n",
       "      <td>0.000020</td>\n",
       "      <td>0.000057</td>\n",
       "      <td>...</td>\n",
       "      <td>0.00959</td>\n",
       "      <td>1.460</td>\n",
       "      <td>0.612</td>\n",
       "      <td>0.808</td>\n",
       "      <td>3.370000e-07</td>\n",
       "      <td>0.2230</td>\n",
       "      <td>0.745</td>\n",
       "      <td>0.633</td>\n",
       "      <td>0.927</td>\n",
       "      <td>0.672</td>\n",
       "    </tr>\n",
       "    <tr>\n",
       "      <th>4</th>\n",
       "      <td>0.000036</td>\n",
       "      <td>0.000787</td>\n",
       "      <td>0.000005</td>\n",
       "      <td>0.000056</td>\n",
       "      <td>-38.1</td>\n",
       "      <td>0.00195</td>\n",
       "      <td>0.00494</td>\n",
       "      <td>6.850000e-08</td>\n",
       "      <td>0.000029</td>\n",
       "      <td>0.000736</td>\n",
       "      <td>...</td>\n",
       "      <td>0.17000</td>\n",
       "      <td>1.410</td>\n",
       "      <td>1.580</td>\n",
       "      <td>0.596</td>\n",
       "      <td>4.370000e-07</td>\n",
       "      <td>0.8390</td>\n",
       "      <td>0.807</td>\n",
       "      <td>0.783</td>\n",
       "      <td>0.719</td>\n",
       "      <td>0.530</td>\n",
       "    </tr>\n",
       "    <tr>\n",
       "      <th>...</th>\n",
       "      <td>...</td>\n",
       "      <td>...</td>\n",
       "      <td>...</td>\n",
       "      <td>...</td>\n",
       "      <td>...</td>\n",
       "      <td>...</td>\n",
       "      <td>...</td>\n",
       "      <td>...</td>\n",
       "      <td>...</td>\n",
       "      <td>...</td>\n",
       "      <td>...</td>\n",
       "      <td>...</td>\n",
       "      <td>...</td>\n",
       "      <td>...</td>\n",
       "      <td>...</td>\n",
       "      <td>...</td>\n",
       "      <td>...</td>\n",
       "      <td>...</td>\n",
       "      <td>...</td>\n",
       "      <td>...</td>\n",
       "      <td>...</td>\n",
       "    </tr>\n",
       "    <tr>\n",
       "      <th>191</th>\n",
       "      <td>0.000048</td>\n",
       "      <td>0.000261</td>\n",
       "      <td>0.000017</td>\n",
       "      <td>0.000066</td>\n",
       "      <td>-25.9</td>\n",
       "      <td>0.00281</td>\n",
       "      <td>0.00358</td>\n",
       "      <td>2.500000e-07</td>\n",
       "      <td>0.000043</td>\n",
       "      <td>0.000239</td>\n",
       "      <td>...</td>\n",
       "      <td>0.16800</td>\n",
       "      <td>0.852</td>\n",
       "      <td>1.070</td>\n",
       "      <td>0.318</td>\n",
       "      <td>2.340000e-07</td>\n",
       "      <td>0.1230</td>\n",
       "      <td>0.703</td>\n",
       "      <td>0.663</td>\n",
       "      <td>0.765</td>\n",
       "      <td>0.857</td>\n",
       "    </tr>\n",
       "    <tr>\n",
       "      <th>192</th>\n",
       "      <td>0.000047</td>\n",
       "      <td>0.000530</td>\n",
       "      <td>0.000008</td>\n",
       "      <td>0.000049</td>\n",
       "      <td>-44.0</td>\n",
       "      <td>0.00361</td>\n",
       "      <td>0.00474</td>\n",
       "      <td>9.120000e-08</td>\n",
       "      <td>0.000041</td>\n",
       "      <td>0.000587</td>\n",
       "      <td>...</td>\n",
       "      <td>0.00176</td>\n",
       "      <td>0.592</td>\n",
       "      <td>1.640</td>\n",
       "      <td>1.120</td>\n",
       "      <td>9.050000e-07</td>\n",
       "      <td>0.5420</td>\n",
       "      <td>0.898</td>\n",
       "      <td>0.992</td>\n",
       "      <td>0.914</td>\n",
       "      <td>0.748</td>\n",
       "    </tr>\n",
       "    <tr>\n",
       "      <th>193</th>\n",
       "      <td>0.000021</td>\n",
       "      <td>0.000831</td>\n",
       "      <td>0.000010</td>\n",
       "      <td>0.000064</td>\n",
       "      <td>-20.1</td>\n",
       "      <td>0.00331</td>\n",
       "      <td>0.00445</td>\n",
       "      <td>1.630000e-07</td>\n",
       "      <td>0.000038</td>\n",
       "      <td>0.000748</td>\n",
       "      <td>...</td>\n",
       "      <td>0.08220</td>\n",
       "      <td>1.470</td>\n",
       "      <td>1.370</td>\n",
       "      <td>1.280</td>\n",
       "      <td>6.980000e-07</td>\n",
       "      <td>0.8420</td>\n",
       "      <td>0.549</td>\n",
       "      <td>0.941</td>\n",
       "      <td>0.531</td>\n",
       "      <td>0.754</td>\n",
       "    </tr>\n",
       "    <tr>\n",
       "      <th>194</th>\n",
       "      <td>0.000046</td>\n",
       "      <td>0.000482</td>\n",
       "      <td>0.000006</td>\n",
       "      <td>0.000099</td>\n",
       "      <td>-34.7</td>\n",
       "      <td>0.00271</td>\n",
       "      <td>0.00488</td>\n",
       "      <td>2.820000e-08</td>\n",
       "      <td>0.000041</td>\n",
       "      <td>0.000627</td>\n",
       "      <td>...</td>\n",
       "      <td>0.03220</td>\n",
       "      <td>1.460</td>\n",
       "      <td>1.580</td>\n",
       "      <td>0.327</td>\n",
       "      <td>8.730000e-07</td>\n",
       "      <td>0.9420</td>\n",
       "      <td>0.939</td>\n",
       "      <td>0.675</td>\n",
       "      <td>0.685</td>\n",
       "      <td>0.870</td>\n",
       "    </tr>\n",
       "    <tr>\n",
       "      <th>195</th>\n",
       "      <td>0.000040</td>\n",
       "      <td>0.000329</td>\n",
       "      <td>0.000013</td>\n",
       "      <td>0.000112</td>\n",
       "      <td>-42.0</td>\n",
       "      <td>0.00435</td>\n",
       "      <td>0.00324</td>\n",
       "      <td>2.600000e-07</td>\n",
       "      <td>0.000049</td>\n",
       "      <td>0.000382</td>\n",
       "      <td>...</td>\n",
       "      <td>0.17400</td>\n",
       "      <td>0.889</td>\n",
       "      <td>0.899</td>\n",
       "      <td>1.370</td>\n",
       "      <td>8.010000e-07</td>\n",
       "      <td>0.5070</td>\n",
       "      <td>0.761</td>\n",
       "      <td>0.527</td>\n",
       "      <td>0.892</td>\n",
       "      <td>0.927</td>\n",
       "    </tr>\n",
       "  </tbody>\n",
       "</table>\n",
       "<p>196 rows × 21 columns</p>\n",
       "</div>"
      ],
      "text/plain": [
       "              RKDN      RKDX     TENTR     TENTRX     VVX     RAUTEFR  \\\n",
       "ensemble                                                                \n",
       "0         0.000050  0.000587  0.000010   0.000058   -32.5     0.00206   \n",
       "1         0.000020  0.000180  0.000019   0.000108   -47.1     0.00170   \n",
       "2         0.000028  0.000138  0.000018   0.000071   -48.9     0.00384   \n",
       "3         0.000038  0.000163  0.000017   0.000110   -44.5     0.00481   \n",
       "4         0.000036  0.000787  0.000005   0.000056   -38.1     0.00195   \n",
       "...            ...       ...       ...        ...     ...         ...   \n",
       "191       0.000048  0.000261  0.000017   0.000066   -25.9     0.00281   \n",
       "192       0.000047  0.000530  0.000008   0.000049   -44.0     0.00361   \n",
       "193       0.000021  0.000831  0.000010   0.000064   -20.1     0.00331   \n",
       "194       0.000046  0.000482  0.000006   0.000099   -34.7     0.00271   \n",
       "195       0.000040  0.000329  0.000013   0.000112   -42.0     0.00435   \n",
       "\n",
       "             RAUTEFS      RQICRMIN     RQICRMAX     RQLCR  ...     TFVL  \\\n",
       "ensemble                                                   ...            \n",
       "0            0.00350  1.100000e-07     0.000011  0.000147  ...  0.07010   \n",
       "1            0.00152  1.030000e-07     0.000031  0.000779  ...  0.19300   \n",
       "2            0.00379  2.010000e-07     0.000023  0.000839  ...  0.15300   \n",
       "3            0.00221  9.700000e-08     0.000020  0.000057  ...  0.00959   \n",
       "4            0.00494  6.850000e-08     0.000029  0.000736  ...  0.17000   \n",
       "...              ...           ...          ...       ...  ...      ...   \n",
       "191          0.00358  2.500000e-07     0.000043  0.000239  ...  0.16800   \n",
       "192          0.00474  9.120000e-08     0.000041  0.000587  ...  0.00176   \n",
       "193          0.00445  1.630000e-07     0.000038  0.000748  ...  0.08220   \n",
       "194          0.00488  2.820000e-08     0.000041  0.000627  ...  0.03220   \n",
       "195          0.00324  2.600000e-07     0.000049  0.000382  ...  0.17400   \n",
       "\n",
       "             RACCEF     RRIMEF     RAGGEF        REVASX     RREVASXCS  \\\n",
       "ensemble                                                                \n",
       "0             1.130      0.991      0.288  1.050000e-07        0.5950   \n",
       "1             1.300      0.752      0.343  8.130000e-08        0.0236   \n",
       "2             0.570      1.230      0.168  5.810000e-07        0.8230   \n",
       "3             1.460      0.612      0.808  3.370000e-07        0.2230   \n",
       "4             1.410      1.580      0.596  4.370000e-07        0.8390   \n",
       "...             ...        ...        ...           ...           ...   \n",
       "191           0.852      1.070      0.318  2.340000e-07        0.1230   \n",
       "192           0.592      1.640      1.120  9.050000e-07        0.5420   \n",
       "193           1.470      1.370      1.280  6.980000e-07        0.8420   \n",
       "194           1.460      1.580      0.327  8.730000e-07        0.9420   \n",
       "195           0.889      0.899      1.370  8.010000e-07        0.5070   \n",
       "\n",
       "             RSWINHF_LIQ     RSWINHF_ICE     RLWINHF_LIQ     RLWINHF_ICE  \n",
       "ensemble                                                                  \n",
       "0                  0.646           0.864           0.584           0.603  \n",
       "1                  0.655           0.792           0.502           0.781  \n",
       "2                  0.697           0.802           0.940           0.953  \n",
       "3                  0.745           0.633           0.927           0.672  \n",
       "4                  0.807           0.783           0.719           0.530  \n",
       "...                  ...             ...             ...             ...  \n",
       "191                0.703           0.663           0.765           0.857  \n",
       "192                0.898           0.992           0.914           0.748  \n",
       "193                0.549           0.941           0.531           0.754  \n",
       "194                0.939           0.675           0.685           0.870  \n",
       "195                0.761           0.527           0.892           0.927  \n",
       "\n",
       "[196 rows x 21 columns]"
      ]
     },
     "execution_count": 2,
     "metadata": {},
     "output_type": "execute_result"
    }
   ],
   "source": [
    "# Read data from file 'simulations.csv' \n",
    "# Then arrange ncely the data in dataframe and change data type of the values\n",
    "data = pd.read_csv(\"./simulations.csv\", header=None)\n",
    "#d=data.reset_index()\n",
    "\n",
    "line0 = data.iloc[0,0]\n",
    "\n",
    "param_names=[21]\n",
    "\n",
    "param_names[0] = 'RKDN'\n",
    "param_names[1:] = re.findall( r'( .*?)=', line0)\n",
    "param_values = re.findall( r'=(.*?\\d.*?e.*?0\\d)', line0)\n",
    "[float(param_values[k]) for k in range(len(param_values)-1)]\n",
    "\n",
    "df_params = pd.DataFrame(param_values, index=param_names)\n",
    "df_params[0] = df_params[0].astype(float)\n",
    "\n",
    "L=len(data)\n",
    "i=1\n",
    "while i<L:\n",
    "    line = data.iloc[i,0]\n",
    "    param_values2 = re.findall( r'=(.*?\\d.*?e.*?0\\d)', line)\n",
    "    [float(param_values2[l]) for l in range(len(param_values2)-1)]\n",
    "    df_params[str(i)]=(param_values2)\n",
    "    df_params[str(i)] = df_params[str(i)].astype(float)\n",
    "    i = i+1\n",
    "\n",
    "tmp_inputdata = df_params \n",
    "\n",
    "#Delete lines corresponding to the missing simulations \n",
    "missing_lines=pd.read_csv('missing_lines_simulations.txt', sep=\" \", header = None)\n",
    "length=missing_lines.count(axis='columns').values\n",
    "l=length[0]\n",
    "list_line=[l]\n",
    "\n",
    "j=0\n",
    "while j<l:\n",
    "    line=missing_lines[j]-1\n",
    "    list_line[j:]=line.astype(str)   \n",
    "    j = j+1\n",
    "\n",
    "tmp=tmp_inputdata.drop(list_line,axis=1).transpose() \n",
    "\n",
    "# Add index 'ensemble' as in the output data\n",
    "a=len(tmp)\n",
    "ensemble = [k for k in range(a)]\n",
    "[str(ensemble[m]) for m in range(len(ensemble)-1)]\n",
    "tmp['ensemble']=ensemble\n",
    "inputdata=tmp.set_index('ensemble')\n",
    "inputdata"
   ]
  },
  {
   "cell_type": "code",
   "execution_count": 3,
   "metadata": {},
   "outputs": [],
   "source": [
    "# Save the numpy array in a file   \n",
    "inp=inputdata.values\n",
    "np.save('/data/home/globc/peatier/CNRMppe/inputdata_file.npy', inp)"
   ]
  },
  {
   "cell_type": "code",
   "execution_count": 5,
   "metadata": {
    "scrolled": true
   },
   "outputs": [
    {
     "data": {
      "image/png": "[encoded data removed]",
      "text/plain": [
       "<Figure size 432x288 with 1 Axes>"
      ]
     },
     "metadata": {
      "needs_background": "light"
     },
     "output_type": "display_data"
    },
    {
     "data": {
      "image/png": "[encoded data removed]",
      "text/plain": [
       "<Figure size 432x288 with 1 Axes>"
      ]
     },
     "metadata": {
      "needs_background": "light"
     },
     "output_type": "display_data"
    },
    {
     "data": {
      "image/png": "[encoded data removed]",
      "text/plain": [
       "<Figure size 432x288 with 1 Axes>"
      ]
     },
     "metadata": {
      "needs_background": "light"
     },
     "output_type": "display_data"
    },
    {
     "data": {
      "image/png": "[encoded data removed]",
      "text/plain": [
       "<Figure size 432x288 with 1 Axes>"
      ]
     },
     "metadata": {
      "needs_background": "light"
     },
     "output_type": "display_data"
    },
    {
     "data": {
      "image/png": "[encoded data removed]",
      "text/plain": [
       "<Figure size 432x288 with 1 Axes>"
      ]
     },
     "metadata": {
      "needs_background": "light"
     },
     "output_type": "display_data"
    },
    {
     "data": {
      "image/png": "[encoded data removed]",
      "text/plain": [
       "<Figure size 432x288 with 1 Axes>"
      ]
     },
     "metadata": {
      "needs_background": "light"
     },
     "output_type": "display_data"
    },
    {
     "data": {
      "image/png": "[encoded data removed]",
      "text/plain": [
       "<Figure size 432x288 with 1 Axes>"
      ]
     },
     "metadata": {
      "needs_background": "light"
     },
     "output_type": "display_data"
    },
    {
     "data": {
      "image/png": "[encoded data removed]",
      "text/plain": [
       "<Figure size 432x288 with 1 Axes>"
      ]
     },
     "metadata": {
      "needs_background": "light"
     },
     "output_type": "display_data"
    },
    {
     "data": {
      "image/png": "[encoded data removed]",
      "text/plain": [
       "<Figure size 432x288 with 1 Axes>"
      ]
     },
     "metadata": {
      "needs_background": "light"
     },
     "output_type": "display_data"
    },
    {
     "data": {
      "image/png": "[encoded data removed]",
      "text/plain": [
       "<Figure size 432x288 with 1 Axes>"
      ]
     },
     "metadata": {
      "needs_background": "light"
     },
     "output_type": "display_data"
    },
    {
     "data": {
      "image/png": "[encoded data removed]",
      "text/plain": [
       "<Figure size 432x288 with 1 Axes>"
      ]
     },
     "metadata": {
      "needs_background": "light"
     },
     "output_type": "display_data"
    },
    {
     "data": {
      "image/png": "[encoded data removed]",
      "text/plain": [
       "<Figure size 432x288 with 1 Axes>"
      ]
     },
     "metadata": {
      "needs_background": "light"
     },
     "output_type": "display_data"
    },
    {
     "data": {
      "image/png": "[encoded data removed]",
      "text/plain": [
       "<Figure size 432x288 with 1 Axes>"
      ]
     },
     "metadata": {
      "needs_background": "light"
     },
     "output_type": "display_data"
    },
    {
     "data": {
      "image/png": "[encoded data removed]",
      "text/plain": [
       "<Figure size 432x288 with 1 Axes>"
      ]
     },
     "metadata": {
      "needs_background": "light"
     },
     "output_type": "display_data"
    },
    {
     "data": {
      "image/png": "[encoded data removed]",
      "text/plain": [
       "<Figure size 432x288 with 1 Axes>"
      ]
     },
     "metadata": {
      "needs_background": "light"
     },
     "output_type": "display_data"
    },
    {
     "data": {
      "image/png": "[encoded data removed]",
      "text/plain": [
       "<Figure size 432x288 with 1 Axes>"
      ]
     },
     "metadata": {
      "needs_background": "light"
     },
     "output_type": "display_data"
    },
    {
     "data": {
      "image/png": "[encoded data removed]",
      "text/plain": [
       "<Figure size 432x288 with 1 Axes>"
      ]
     },
     "metadata": {
      "needs_background": "light"
     },
     "output_type": "display_data"
    },
    {
     "data": {
      "image/png": "[encoded data removed]",
      "text/plain": [
       "<Figure size 432x288 with 1 Axes>"
      ]
     },
     "metadata": {
      "needs_background": "light"
     },
     "output_type": "display_data"
    },
    {
     "data": {
      "image/png": "[encoded data removed]",
      "text/plain": [
       "<Figure size 432x288 with 1 Axes>"
      ]
     },
     "metadata": {
      "needs_background": "light"
     },
     "output_type": "display_data"
    },
    {
     "data": {
      "image/png": "[encoded data removed]",
      "text/plain": [
       "<Figure size 432x288 with 1 Axes>"
      ]
     },
     "metadata": {
      "needs_background": "light"
     },
     "output_type": "display_data"
    },
    {
     "data": {
      "image/png": "[encoded data removed]",
      "text/plain": [
       "<Figure size 432x288 with 1 Axes>"
      ]
     },
     "metadata": {
      "needs_background": "light"
     },
     "output_type": "display_data"
    }
   ],
   "source": [
    "#Create plot\n",
    "\n",
    "fig_params=plt.figure()\n",
    "#Xaxis=np.arange(0,210,10)\n",
    "#print(Xaxis)\n",
    "\n",
    "# boucle pour céer les figures:\n",
    "i=0\n",
    "p=1\n",
    "while i < 21:\n",
    "#    ax = fig_params.add_subplot(21,1,p)\n",
    "    param=param_names[i]\n",
    "#    ax.set_title(param, fontsize=18, fontweight='bold')\n",
    "#    inputdata.plot(kind='bar',y=param, ax=ax, fontsize=18, sharex=True)\n",
    "#    ax.xaxis.set_major_locator(ticker.LinearLocator(numticks=20))\n",
    "    plt.hist(inputdata.iloc[:,i], bins='auto', rwidth=0.5, color = \"gray\")\n",
    "    plt.ticklabel_format(axis='x',useOffset=True,style='scientific')\n",
    "    plt.ylim(ymin=18)\n",
    "    plt.title(param)\n",
    "    plt.show()\n",
    "    i = i+1\n",
    "    p = p+1\n",
    "\n",
    "fig_params.suptitle('Perturbed parameters', fontsize=25, fontweight = 'bold')\n",
    "fig_params.tight_layout()\n",
    "fig_params.subplots_adjust(top=0.97,hspace = 0.2)"
   ]
  },
  {
   "cell_type": "markdown",
   "metadata": {},
   "source": [
    "## Read /PRE623TUN*.nc and create outputdata array"
   ]
  },
  {
   "cell_type": "code",
   "execution_count": 4,
   "metadata": {
    "scrolled": false
   },
   "outputs": [
    {
     "name": "stderr",
     "output_type": "stream",
     "text": [
      "/scratch/globc/peatier/conda/lib/python3.7/site-packages/dask/array/numpy_compat.py:40: RuntimeWarning: divide by zero encountered in true_divide\n",
      "  x = np.divide(x1, x2, out)\n",
      "/scratch/globc/peatier/conda/lib/python3.7/site-packages/dask/array/numpy_compat.py:40: RuntimeWarning: invalid value encountered in true_divide\n",
      "  x = np.divide(x1, x2, out)\n"
     ]
    }
   ],
   "source": [
    "# -------------------------------------  Simulations :  -----------------------------------------------------\n",
    "path_simul = \"/scratch/globc/dcom/ARPEGE6_TUNE\"\n",
    "filename_simul = \"/PRE623TUN*.nc\"\n",
    "file_simul = xr.open_mfdataset(path_simul+filename_simul,concat_dim='ensemble',combine='nested')\n",
    "\n",
    "# TOA fluxes\n",
    "var = ['rlut']\n",
    "nc_simul = file_simul[var]\n",
    "# compute global mean... WARNING : no scale factors used here !\n",
    "xarray_simul = nc_simul.mean('lat').mean('lon')\n",
    "simul = xarray_simul.to_dataframe()\n",
    "#simul"
   ]
  },
  {
   "cell_type": "code",
   "execution_count": 5,
   "metadata": {},
   "outputs": [
    {
     "data": {
      "text/html": [
       "<div>\n",
       "<style scoped>\n",
       "    .dataframe tbody tr th:only-of-type {\n",
       "        vertical-align: middle;\n",
       "    }\n",
       "\n",
       "    .dataframe tbody tr th {\n",
       "        vertical-align: top;\n",
       "    }\n",
       "\n",
       "    .dataframe thead th {\n",
       "        text-align: right;\n",
       "    }\n",
       "</style>\n",
       "<table border=\"1\" class=\"dataframe\">\n",
       "  <thead>\n",
       "    <tr style=\"text-align: right;\">\n",
       "      <th></th>\n",
       "      <th>rlut</th>\n",
       "    </tr>\n",
       "    <tr>\n",
       "      <th>ensemble</th>\n",
       "      <th></th>\n",
       "    </tr>\n",
       "  </thead>\n",
       "  <tbody>\n",
       "    <tr>\n",
       "      <th>0</th>\n",
       "      <td>228.311859</td>\n",
       "    </tr>\n",
       "    <tr>\n",
       "      <th>1</th>\n",
       "      <td>222.054871</td>\n",
       "    </tr>\n",
       "    <tr>\n",
       "      <th>2</th>\n",
       "      <td>223.350296</td>\n",
       "    </tr>\n",
       "    <tr>\n",
       "      <th>3</th>\n",
       "      <td>226.556885</td>\n",
       "    </tr>\n",
       "    <tr>\n",
       "      <th>4</th>\n",
       "      <td>225.910217</td>\n",
       "    </tr>\n",
       "    <tr>\n",
       "      <th>...</th>\n",
       "      <td>...</td>\n",
       "    </tr>\n",
       "    <tr>\n",
       "      <th>191</th>\n",
       "      <td>222.314301</td>\n",
       "    </tr>\n",
       "    <tr>\n",
       "      <th>192</th>\n",
       "      <td>223.451294</td>\n",
       "    </tr>\n",
       "    <tr>\n",
       "      <th>193</th>\n",
       "      <td>222.339432</td>\n",
       "    </tr>\n",
       "    <tr>\n",
       "      <th>194</th>\n",
       "      <td>223.514648</td>\n",
       "    </tr>\n",
       "    <tr>\n",
       "      <th>195</th>\n",
       "      <td>222.014938</td>\n",
       "    </tr>\n",
       "  </tbody>\n",
       "</table>\n",
       "<p>196 rows × 1 columns</p>\n",
       "</div>"
      ],
      "text/plain": [
       "                rlut\n",
       "ensemble            \n",
       "0         228.311859\n",
       "1         222.054871\n",
       "2         223.350296\n",
       "3         226.556885\n",
       "4         225.910217\n",
       "...              ...\n",
       "191       222.314301\n",
       "192       223.451294\n",
       "193       222.339432\n",
       "194       223.514648\n",
       "195       222.014938\n",
       "\n",
       "[196 rows x 1 columns]"
      ]
     },
     "execution_count": 5,
     "metadata": {},
     "output_type": "execute_result"
    }
   ],
   "source": [
    "# Compute climatology\n",
    "sim = simul.reset_index(level=['time'])\n",
    "sim['month'] = pd.DatetimeIndex(sim['time']).month\n",
    "outputdata=sim.groupby(['ensemble','month']).mean()\n",
    "output=sim.groupby(['ensemble','month']).mean()\n",
    "outputdata=output.groupby(['ensemble']).mean()\n",
    "outputdata"
   ]
  },
  {
   "cell_type": "code",
   "execution_count": 6,
   "metadata": {},
   "outputs": [],
   "source": [
    "# Save the numpy array in a file   \n",
    "out=outputdata.values\n",
    "np.save('/data/home/globc/peatier/CNRMppe/outputdata_file.npy', out)"
   ]
  },
  {
   "cell_type": "code",
   "execution_count": 28,
   "metadata": {},
   "outputs": [
    {
     "data": {
      "image/png": "[encoded data removed]",
      "text/plain": [
       "<Figure size 432x288 with 1 Axes>"
      ]
     },
     "metadata": {
      "needs_background": "light"
     },
     "output_type": "display_data"
    }
   ],
   "source": [
    "#Create plot \n",
    "plt.hist(outputdata['rlut'], bins='auto', rwidth=0.5)\n",
    "#plt.title('rlut')\n",
    "plt.xlabel('rlut [W.m^2]')\n",
    "plt.ylabel('Ensemble')\n",
    "plt.show()"
   ]
  },
  {
   "cell_type": "markdown",
   "metadata": {},
   "source": [
    "## Create Emulator"
   ]
  },
  {
   "cell_type": "code",
   "execution_count": 53,
   "metadata": {
    "scrolled": false
   },
   "outputs": [
    {
     "name": "stdout",
     "output_type": "stream",
     "text": [
      "Train on 60 samples, validate on 136 samples\n",
      "Epoch 1/100\n",
      "60/60 [==============================] - 2s 27ms/step - loss: 7102021.7793 - mean_error: -795.3463 - val_loss: 2653474.3419 - val_mean_error: 284.2935\n",
      "Epoch 2/100\n",
      "60/60 [==============================] - 0s 420us/step - loss: 5297499.1250 - mean_error: 301.1895 - val_loss: 9800250.8971 - val_mean_error: 320.8974\n",
      "Epoch 3/100\n",
      "60/60 [==============================] - 0s 448us/step - loss: 14061211.5000 - mean_error: 327.4639 - val_loss: 20681788.0000 - val_mean_error: 332.7133\n",
      "Epoch 4/100\n",
      "60/60 [==============================] - 0s 448us/step - loss: 26260719.3333 - mean_error: 329.1858 - val_loss: 34600919.8235 - val_mean_error: 320.6520\n",
      "Epoch 5/100\n",
      "60/60 [==============================] - 0s 455us/step - loss: 41240856.6667 - mean_error: 307.9651 - val_loss: 50958715.9412 - val_mean_error: 287.2382\n",
      "Epoch 6/100\n",
      "60/60 [==============================] - 0s 475us/step - loss: 58439266.6667 - mean_error: 266.8971 - val_loss: 69241620.3529 - val_mean_error: 236.2929\n",
      "Epoch 7/100\n",
      "60/60 [==============================] - 0s 480us/step - loss: 77373900.0000 - mean_error: 210.2020 - val_loss: 89009361.5294 - val_mean_error: 172.5555\n",
      "Epoch 8/100\n",
      "60/60 [==============================] - 0s 492us/step - loss: 97631273.3333 - mean_error: 142.9124 - val_loss: 109884104.3529 - val_mean_error: 101.3490\n",
      "Epoch 9/100\n",
      "60/60 [==============================] - 0s 502us/step - loss: 118856320.0000 - mean_error: 70.4372 - val_loss: 131541056.9412 - val_mean_error: 28.1399\n",
      "Epoch 10/100\n",
      "60/60 [==============================] - 0s 499us/step - loss: 140743961.3333 - mean_error: -1.8559 - val_loss: 153701220.2353 - val_mean_error: -41.8973\n",
      "Epoch 11/100\n",
      "60/60 [==============================] - 0s 625us/step - loss: 163031976.0000 - mean_error: -68.9816 - val_loss: 176125188.0000 - val_mean_error: -104.1302\n",
      "Epoch 12/100\n",
      "60/60 [==============================] - 0s 503us/step - loss: 185496066.6667 - mean_error: -126.6634 - val_loss: 198608936.4706 - val_mean_error: -154.8124\n",
      "Epoch 13/100\n",
      "60/60 [==============================] - 0s 496us/step - loss: 207945834.6667 - mean_error: -171.5916 - val_loss: 220980464.7059 - val_mean_error: -191.2690\n",
      "Epoch 14/100\n",
      "60/60 [==============================] - 0s 492us/step - loss: 230221426.6667 - mean_error: -201.5605 - val_loss: 243096527.2941 - val_mean_error: -211.9761\n",
      "Epoch 15/100\n",
      "60/60 [==============================] - 0s 508us/step - loss: 252190786.6667 - mean_error: -215.5504 - val_loss: 264840148.7059 - val_mean_error: -216.6117\n",
      "Epoch 16/100\n",
      "60/60 [==============================] - 0s 505us/step - loss: 273746848.0000 - mean_error: -213.7154 - val_loss: 286117445.6471 - val_mean_error: -205.9823\n",
      "Epoch 17/100\n",
      "60/60 [==============================] - 0s 517us/step - loss: 294804400.0000 - mean_error: -197.3023 - val_loss: 306854728.9412 - val_mean_error: -181.9059\n",
      "Epoch 18/100\n",
      "60/60 [==============================] - 0s 526us/step - loss: 315297029.3333 - mean_error: -168.4607 - val_loss: 326995273.4118 - val_mean_error: -146.9662\n",
      "Epoch 19/100\n",
      "60/60 [==============================] - 0s 523us/step - loss: 335173898.6667 - mean_error: -130.0460 - val_loss: 346496013.6471 - val_mean_error: -104.3349\n",
      "Epoch 20/100\n",
      "60/60 [==============================] - 0s 521us/step - loss: 354396997.3333 - mean_error: -85.3671 - val_loss: 365325167.0588 - val_mean_error: -57.4831\n",
      "Epoch 21/100\n",
      "60/60 [==============================] - 0s 521us/step - loss: 372938298.6667 - mean_error: -37.9458 - val_loss: 383459882.8235 - val_mean_error: -9.9291\n",
      "Epoch 22/100\n",
      "60/60 [==============================] - 0s 516us/step - loss: 390778122.6667 - mean_error: 8.7873 - val_loss: 400884436.7059 - val_mean_error: 35.0308\n",
      "Epoch 23/100\n",
      "60/60 [==============================] - 0s 514us/step - loss: 407903461.3333 - mean_error: 51.6603 - val_loss: 417589621.1765 - val_mean_error: 74.4767\n",
      "Epoch 24/100\n",
      "60/60 [==============================] - 0s 527us/step - loss: 424307168.0000 - mean_error: 88.0029 - val_loss: 433571070.1176 - val_mean_error: 106.0954\n",
      "Epoch 25/100\n",
      "60/60 [==============================] - 0s 523us/step - loss: 439987280.0000 - mean_error: 115.7906 - val_loss: 448830031.5294 - val_mean_error: 128.2744\n",
      "Epoch 26/100\n",
      "60/60 [==============================] - 0s 524us/step - loss: 454946800.0000 - mean_error: 133.7142 - val_loss: 463371975.0588 - val_mean_error: 140.1498\n",
      "Epoch 27/100\n",
      "60/60 [==============================] - 0s 519us/step - loss: 469193274.6667 - mean_error: 141.2454 - val_loss: 477207118.1176 - val_mean_error: 141.6503\n",
      "Epoch 28/100\n",
      "60/60 [==============================] - 0s 514us/step - loss: 482738352.0000 - mean_error: 138.6074 - val_loss: 490349002.8235 - val_mean_error: 133.3946\n",
      "Epoch 29/100\n",
      "60/60 [==============================] - 0s 515us/step - loss: 495596757.3333 - mean_error: 126.6760 - val_loss: 502813991.5294 - val_mean_error: 116.6184\n",
      "Epoch 30/100\n",
      "60/60 [==============================] - 0s 523us/step - loss: 507786176.0000 - mean_error: 106.9258 - val_loss: 514621405.1765 - val_mean_error: 93.0756\n",
      "Epoch 31/100\n",
      "60/60 [==============================] - 0s 521us/step - loss: 519326378.6667 - mean_error: 81.2407 - val_loss: 525791510.5882 - val_mean_error: 64.8293\n",
      "Epoch 32/100\n",
      "60/60 [==============================] - 0s 522us/step - loss: 530238026.6667 - mean_error: 51.7887 - val_loss: 536345495.0588 - val_mean_error: 34.1394\n",
      "Epoch 33/100\n",
      "60/60 [==============================] - 0s 517us/step - loss: 540542474.6667 - mean_error: 20.8489 - val_loss: 546304576.0000 - val_mean_error: 3.2821\n",
      "Epoch 34/100\n",
      "60/60 [==============================] - 0s 513us/step - loss: 550261066.6667 - mean_error: -9.3466 - val_loss: 555690645.6471 - val_mean_error: -25.6130\n",
      "Epoch 35/100\n",
      "60/60 [==============================] - 0s 511us/step - loss: 559415338.6667 - mean_error: -36.8090 - val_loss: 564524504.4706 - val_mean_error: -50.7392\n",
      "Epoch 36/100\n",
      "60/60 [==============================] - 0s 512us/step - loss: 568026154.6667 - mean_error: -59.8575 - val_loss: 572827215.0588 - val_mean_error: -70.6430\n",
      "Epoch 37/100\n",
      "60/60 [==============================] - 0s 517us/step - loss: 576114688.0000 - mean_error: -77.2372 - val_loss: 580619857.8824 - val_mean_error: -84.3361\n",
      "Epoch 38/100\n",
      "60/60 [==============================] - 0s 525us/step - loss: 583701952.0000 - mean_error: -88.1544 - val_loss: 587923614.1176 - val_mean_error: -91.3188\n",
      "Epoch 39/100\n",
      "60/60 [==============================] - 0s 521us/step - loss: 590808992.0000 - mean_error: -92.3070 - val_loss: 594759377.8824 - val_mean_error: -91.5719\n",
      "Epoch 40/100\n",
      "60/60 [==============================] - 0s 515us/step - loss: 597456725.3333 - mean_error: -89.9145 - val_loss: 601147808.0000 - val_mean_error: -85.5850\n",
      "Epoch 41/100\n",
      "60/60 [==============================] - 0s 513us/step - loss: 603665813.3333 - mean_error: -81.5800 - val_loss: 607109905.8824 - val_mean_error: -74.1724\n",
      "Epoch 42/100\n",
      "60/60 [==============================] - 0s 513us/step - loss: 609456928.0000 - mean_error: -68.2927 - val_loss: 612665705.4118 - val_mean_error: -58.5049\n",
      "Epoch 43/100\n",
      "60/60 [==============================] - 0s 513us/step - loss: 614850368.0000 - mean_error: -51.3119 - val_loss: 617835586.8235 - val_mean_error: -39.9542\n",
      "Epoch 44/100\n",
      "60/60 [==============================] - 0s 511us/step - loss: 619865738.6667 - mean_error: -32.0281 - val_loss: 622638288.9412 - val_mean_error: -19.9434\n",
      "Epoch 45/100\n",
      "60/60 [==============================] - 0s 514us/step - loss: 624521621.3333 - mean_error: -11.9208 - val_loss: 627092224.0000 - val_mean_error: 0.0355\n",
      "Epoch 46/100\n",
      "60/60 [==============================] - 0s 510us/step - loss: 628836053.3333 - mean_error: 7.6023 - val_loss: 631214634.3529 - val_mean_error: 18.6617\n",
      "Epoch 47/100\n",
      "60/60 [==============================] - 0s 511us/step - loss: 632825920.0000 - mean_error: 25.2560 - val_loss: 635022141.1765 - val_mean_error: 34.7551\n",
      "Epoch 48/100\n",
      "60/60 [==============================] - 0s 514us/step - loss: 636507552.0000 - mean_error: 39.9740 - val_loss: 638530509.1765 - val_mean_error: 47.3996\n",
      "Epoch 49/100\n",
      "60/60 [==============================] - 0s 514us/step - loss: 639896426.6667 - mean_error: 50.9715 - val_loss: 641755085.1765 - val_mean_error: 55.9994\n"
     ]
    },
    {
     "name": "stdout",
     "output_type": "stream",
     "text": [
      "Epoch 50/100\n",
      "60/60 [==============================] - 0s 518us/step - loss: 643007530.6667 - mean_error: 57.7645 - val_loss: 644710060.2353 - val_mean_error: 60.2385\n",
      "Epoch 51/100\n",
      "60/60 [==============================] - 0s 517us/step - loss: 645855125.3333 - mean_error: 60.1831 - val_loss: 647409956.7059 - val_mean_error: 60.1433\n",
      "Epoch 52/100\n",
      "60/60 [==============================] - 0s 516us/step - loss: 648453130.6667 - mean_error: 58.3828 - val_loss: 649867981.1765 - val_mean_error: 56.0317\n",
      "Epoch 53/100\n",
      "60/60 [==============================] - 0s 520us/step - loss: 650814880.0000 - mean_error: 52.7655 - val_loss: 652097333.6471 - val_mean_error: 48.4464\n",
      "Epoch 54/100\n",
      "60/60 [==============================] - 0s 516us/step - loss: 652953258.6667 - mean_error: 43.9905 - val_loss: 654110783.0588 - val_mean_error: 38.1599\n",
      "Epoch 55/100\n",
      "60/60 [==============================] - 0s 521us/step - loss: 654880661.3333 - mean_error: 32.8671 - val_loss: 655920051.7647 - val_mean_error: 26.0432\n",
      "Epoch 56/100\n",
      "60/60 [==============================] - 0s 606us/step - loss: 656608789.3333 - mean_error: 20.3042 - val_loss: 657536691.7647 - val_mean_error: 13.0429\n",
      "Epoch 57/100\n",
      "60/60 [==============================] - 0s 525us/step - loss: 658148778.6667 - mean_error: 7.2542 - val_loss: 658971264.0000 - val_mean_error: 0.0951\n",
      "Epoch 58/100\n",
      "60/60 [==============================] - 0s 511us/step - loss: 659511050.6667 - mean_error: -5.3887 - val_loss: 660234261.6471 - val_mean_error: -11.9520\n",
      "Epoch 59/100\n",
      "60/60 [==============================] - 0s 513us/step - loss: 660705610.6667 - mean_error: -16.7987 - val_loss: 661334910.1176 - val_mean_error: -22.3402\n",
      "Epoch 60/100\n",
      "60/60 [==============================] - 0s 511us/step - loss: 661741674.6667 - mean_error: -26.2868 - val_loss: 662282160.0000 - val_mean_error: -30.4775\n",
      "Epoch 61/100\n",
      "60/60 [==============================] - 0s 514us/step - loss: 662628117.3333 - mean_error: -33.3495 - val_loss: 663084952.4706 - val_mean_error: -35.9787\n",
      "Epoch 62/100\n",
      "60/60 [==============================] - 0s 527us/step - loss: 663373301.3333 - mean_error: -37.6890 - val_loss: 663751137.8824 - val_mean_error: -38.6716\n",
      "Epoch 63/100\n",
      "60/60 [==============================] - 0s 514us/step - loss: 663985184.0000 - mean_error: -39.2046 - val_loss: 664288467.7647 - val_mean_error: -38.5626\n",
      "Epoch 64/100\n",
      "60/60 [==============================] - 0s 592us/step - loss: 664471424.0000 - mean_error: -37.9881 - val_loss: 664704519.5294 - val_mean_error: -35.8548\n",
      "Epoch 65/100\n",
      "60/60 [==============================] - 0s 517us/step - loss: 664839232.0000 - mean_error: -34.3106 - val_loss: 665006151.5294 - val_mean_error: -30.9081\n",
      "Epoch 66/100\n",
      "60/60 [==============================] - 0s 514us/step - loss: 665095573.3333 - mean_error: -28.6005 - val_loss: 665200396.2353 - val_mean_error: -24.2245\n",
      "Epoch 67/100\n",
      "60/60 [==============================] - 0s 518us/step - loss: 665247157.3333 - mean_error: -21.3774 - val_loss: 665293461.6471 - val_mean_error: -16.3589\n",
      "Epoch 68/100\n",
      "60/60 [==============================] - 0s 513us/step - loss: 665300010.6667 - mean_error: -13.2250 - val_loss: 665291204.7059 - val_mean_error: -7.9248\n",
      "Epoch 69/100\n",
      "60/60 [==============================] - 0s 514us/step - loss: 665260074.6667 - mean_error: -4.7474 - val_loss: 665199552.0000 - val_mean_error: 0.4931\n",
      "Epoch 70/100\n",
      "60/60 [==============================] - 0s 520us/step - loss: 665132960.0000 - mean_error: 3.4682 - val_loss: 665023822.1176 - val_mean_error: 8.3210\n",
      "Epoch 71/100\n",
      "60/60 [==============================] - 0s 512us/step - loss: 664923882.6667 - mean_error: 10.8808 - val_loss: 664769007.0588 - val_mean_error: 15.0718\n",
      "Epoch 72/100\n",
      "60/60 [==============================] - 0s 519us/step - loss: 664637642.6667 - mean_error: 17.0609 - val_loss: 664439722.3529 - val_mean_error: 20.3817\n",
      "Epoch 73/100\n",
      "60/60 [==============================] - 0s 511us/step - loss: 664278784.0000 - mean_error: 21.6777 - val_loss: 664040198.5882 - val_mean_error: 23.9933\n",
      "Epoch 74/100\n",
      "60/60 [==============================] - 0s 515us/step - loss: 663851413.3333 - mean_error: 24.5249 - val_loss: 663574826.3529 - val_mean_error: 25.7674\n",
      "Epoch 75/100\n",
      "60/60 [==============================] - 0s 514us/step - loss: 663359914.6667 - mean_error: 25.5312 - val_loss: 663047458.8235 - val_mean_error: 25.7180\n",
      "Epoch 76/100\n",
      "60/60 [==============================] - 0s 515us/step - loss: 662808181.3333 - mean_error: 24.7678 - val_loss: 662462150.5882 - val_mean_error: 23.9899\n",
      "Epoch 77/100\n",
      "60/60 [==============================] - 0s 511us/step - loss: 662199829.3333 - mean_error: 22.4231 - val_loss: 661822392.4706 - val_mean_error: 20.8244\n",
      "Epoch 78/100\n",
      "60/60 [==============================] - 0s 506us/step - loss: 661538485.3333 - mean_error: 18.7490 - val_loss: 661131410.8235 - val_mean_error: 16.5088\n",
      "Epoch 79/100\n",
      "60/60 [==============================] - 0s 506us/step - loss: 660827338.6667 - mean_error: 14.0730 - val_loss: 660392585.4118 - val_mean_error: 11.4088\n",
      "Epoch 80/100\n",
      "60/60 [==============================] - 0s 511us/step - loss: 660069642.6667 - mean_error: 8.7843 - val_loss: 659609016.4706 - val_mean_error: 5.9345\n",
      "Epoch 81/100\n",
      "60/60 [==============================] - 0s 509us/step - loss: 659268266.6667 - mean_error: 3.2835 - val_loss: 658783360.0000 - val_mean_error: 0.4698\n",
      "Epoch 82/100\n",
      "60/60 [==============================] - 0s 507us/step - loss: 658426069.3333 - mean_error: -2.0537 - val_loss: 657918485.6471 - val_mean_error: -4.6250\n",
      "Epoch 83/100\n",
      "60/60 [==============================] - 0s 513us/step - loss: 657545685.3333 - mean_error: -6.8878 - val_loss: 657016794.3529 - val_mean_error: -9.0363\n",
      "Epoch 84/100\n",
      "60/60 [==============================] - 0s 509us/step - loss: 656629472.0000 - mean_error: -10.9252 - val_loss: 656080753.8824 - val_mean_error: -12.5137\n",
      "Epoch 85/100\n",
      "60/60 [==============================] - 0s 509us/step - loss: 655679733.3333 - mean_error: -13.9539 - val_loss: 655112305.8824 - val_mean_error: -14.8953\n",
      "Epoch 86/100\n",
      "60/60 [==============================] - 0s 514us/step - loss: 654698570.6667 - mean_error: -15.8568 - val_loss: 654113671.5294 - val_mean_error: -16.1140\n",
      "Epoch 87/100\n",
      "60/60 [==============================] - 0s 505us/step - loss: 653688117.3333 - mean_error: -16.5765 - val_loss: 653086988.2353 - val_mean_error: -16.1486\n",
      "Epoch 88/100\n",
      "60/60 [==============================] - 0s 506us/step - loss: 652650272.0000 - mean_error: -16.1453 - val_loss: 652033905.8824 - val_mean_error: -15.0898\n",
      "Epoch 89/100\n",
      "60/60 [==============================] - 0s 609us/step - loss: 651586805.3333 - mean_error: -14.6813 - val_loss: 650956337.8824 - val_mean_error: -13.0891\n",
      "Epoch 90/100\n",
      "60/60 [==============================] - 0s 513us/step - loss: 650499552.0000 - mean_error: -12.3533 - val_loss: 649855857.8824 - val_mean_error: -10.3418\n",
      "Epoch 91/100\n",
      "60/60 [==============================] - 0s 505us/step - loss: 649390112.0000 - mean_error: -9.3725 - val_loss: 648734148.7059 - val_mean_error: -7.0824\n",
      "Epoch 92/100\n",
      "60/60 [==============================] - 0s 506us/step - loss: 648260074.6667 - mean_error: -5.9769 - val_loss: 647592580.7059 - val_mean_error: -3.5517\n",
      "Epoch 93/100\n",
      "60/60 [==============================] - 0s 508us/step - loss: 647110741.3333 - mean_error: -2.4298 - val_loss: 646432704.0000 - val_mean_error: -0.0173\n",
      "Epoch 94/100\n",
      "60/60 [==============================] - 0s 514us/step - loss: 645943637.3333 - mean_error: 1.0381 - val_loss: 645255680.0000 - val_mean_error: 3.3080\n",
      "Epoch 95/100\n",
      "60/60 [==============================] - 0s 504us/step - loss: 644760010.6667 - mean_error: 4.1993 - val_loss: 644063032.4706 - val_mean_error: 6.2033\n",
      "Epoch 96/100\n",
      "60/60 [==============================] - 0s 514us/step - loss: 643561056.0000 - mean_error: 6.8700 - val_loss: 642855502.1176 - val_mean_error: 8.5262\n",
      "Epoch 97/100\n",
      "60/60 [==============================] - 0s 508us/step - loss: 642347840.0000 - mean_error: 8.8970 - val_loss: 641634611.7647 - val_mean_error: 10.1328\n",
      "Epoch 98/100\n",
      "60/60 [==============================] - 0s 509us/step - loss: 641121653.3333 - mean_error: 10.2019 - val_loss: 640401152.0000 - val_mean_error: 11.0012\n",
      "Epoch 99/100\n"
     ]
    },
    {
     "name": "stdout",
     "output_type": "stream",
     "text": [
      "60/60 [==============================] - 0s 521us/step - loss: 639883253.3333 - mean_error: 10.7439 - val_loss: 639156100.7059 - val_mean_error: 11.0988\n",
      "Epoch 100/100\n",
      "60/60 [==============================] - 0s 510us/step - loss: 638633834.6667 - mean_error: 10.5468 - val_loss: 637900600.4706 - val_mean_error: 10.4967\n"
     ]
    },
    {
     "data": {
      "image/png": "[encoded data removed]",
      "text/plain": [
       "<Figure size 432x288 with 1 Axes>"
      ]
     },
     "metadata": {
      "needs_background": "light"
     },
     "output_type": "display_data"
    },
    {
     "data": {
      "image/png": "[encoded data removed]",
      "text/plain": [
       "<Figure size 432x288 with 1 Axes>"
      ]
     },
     "metadata": {
      "needs_background": "light"
     },
     "output_type": "display_data"
    },
    {
     "data": {
      "image/png": "[encoded data removed]",
      "text/plain": [
       "<Figure size 432x288 with 1 Axes>"
      ]
     },
     "metadata": {
      "needs_background": "light"
     },
     "output_type": "display_data"
    }
   ],
   "source": [
    "# Read in input array\n",
    "inputdata = np.load(file=\"inputdata_file.npy\")\n",
    "\n",
    "# List of input variables\n",
    "in_vars = param_names\n",
    "\n",
    "# Read in outputdata array\n",
    "outputdata = np.load(\"outputdata_file.npy\")\n",
    "\n",
    "# Create 2-layer simple model\n",
    "model = Sequential()\n",
    "# first layer with 20 nodes and rectified linear activation\n",
    "# specify input_dim as number of parameters, not number of simulations\n",
    "# l2 norm regularizer\n",
    "model.add(Dense(20, input_dim=inputdata.shape[1], activation='relu',\n",
    "    kernel_regularizer=l2(.001)))\n",
    "# output layer with linear activation\n",
    "model.add(Dense(1))\n",
    "\n",
    "# Define model metrics\n",
    "def mean_error(y_true,y_pred):\n",
    "    return K.mean(y_true-y_pred)\n",
    "\n",
    "# Compile model\n",
    "#model.compile(optimizer='adam',loss='mse',metrics=[mean_error])\n",
    "#model.compile(optimizer='adam',loss='mse',metrics=[mean_pred])\n",
    "\n",
    "# using a stochastic gradient descent optimizer\n",
    "opt_dense = SGD(lr=0.001, momentum=0.99, decay=1e-4, nesterov=True)\n",
    "model.compile(opt_dense, \"mse\", metrics=[mean_error])\n",
    "#model.summary()\n",
    "\n",
    "# Separate training/test data: 60/40 split\n",
    "# how does test split into validation/verification? try 20/20\n",
    "x_train = inputdata[0:60,:]\n",
    "x_test = inputdata[60:,:]\n",
    "#x_val = inputdata[80:,:]\n",
    "y_train = outputdata[0:60]\n",
    "y_test = outputdata[60:]\n",
    "#y_val = outputdata[80:]\n",
    "\n",
    "# Fit the model\n",
    "#model.fit(x_train, y_train, epochs=20, batch_size=10)\n",
    "#model.fit(x_train, y_train, epochs=40, batch_size=10)\n",
    "#print(model)\n",
    "results = model.fit(x_train, y_train, epochs=100, batch_size=10,\n",
    "        validation_data=(x_test,y_test))\n",
    "\n",
    "#print(results.history)\n",
    "#print(\"Training Mean Error:\", results.history['mean_error'][-1])\n",
    "#print(\"Validation Mean Error:\", results.history['val_mean_error'][-1])\n",
    "\n",
    "\n",
    "loss = results.history['loss']\n",
    "val_loss = results.history['val_loss']\n",
    "epochs = range(1, len(loss) + 1)\n",
    "plt.figure()\n",
    "plt.plot(epochs, loss, 'bo', label='Training loss')\n",
    "plt.plot(epochs, val_loss, 'b', label='Validation loss')\n",
    "plt.title('Training and validation loss')\n",
    "plt.legend()\n",
    "plt.show()\n",
    "\n",
    "\n",
    "# Plot training history by epoch\n",
    "#plt.plot(results.epoch, results.history['val_mean_error'], label='validation')\n",
    "#plt.plot(results.epoch, results.history['mean_error'], label='train')\n",
    "#plt.xticks(results.epoch)\n",
    "#lt.legend()\n",
    "#plt.hlines(y=0,xmin=0,xmax=150)\n",
    "#plt.ylabel('Mean Error')\n",
    "#plt.xlabel('Epoch')\n",
    "#plt.title('Neural Network Training History')\n",
    "#plt.savefig(\"train_history.eps\")\n",
    "#plt.show()\n",
    "\n",
    "# Plot histogram of model mean error\n",
    "plt.hist(results.history['mean_error'], bins=10, rwidth=0.5)\n",
    "plt.xlabel('Training Mean Error')\n",
    "plt.ylabel('Counts')\n",
    "#plt.savefig(\"dist_train_me.eps\")\n",
    "plt.show()\n",
    "\n",
    "# Plot histogram of validation mean error\n",
    "plt.hist(results.history['val_mean_error'], bins=20, rwidth=0.5)\n",
    "plt.xlabel('Validation Mean Error')\n",
    "plt.ylabel('Counts')\n",
    "#plt.savefig(\"dist_val_me.eps\")\n",
    "plt.show()"
   ]
  },
  {
   "cell_type": "code",
   "execution_count": 39,
   "metadata": {},
   "outputs": [],
   "source": [
    "\n",
    "\n",
    "# Evaluate the model using test data\n",
    "#score = model.evaluate(x_test, y_test, batch_size=10)\n",
    "#print(\"\\n%s: %.2f%%\" % (model.metrics_names[1], score[1]*100))\n",
    "#print(score)\n",
    "\n",
    "# Make predictions - using validation subsection?\n",
    "#predictions = model.predict(inputdata)\n",
    "#predictions = model.predict(x_val)\n",
    "#print(predictions)\n",
    "#model_preds = model.predict(x_test)[:,0]\n",
    "\n",
    "# model metric for predictions\n",
    "#def model_error_preds(y_true,y_pred):\n",
    "#    return np.mean(y_true-y_pred)\n",
    "\n",
    "# calculate model mean error with predictions\n",
    "#model_me = model_error_preds(y_test, model_preds)\n",
    "#print(\"Prediction Mean Error: \", model_me)\n",
    "\n",
    "# plot histogram of prediction error\n",
    "#plt.hist(y_test-model_preds, bins=10)\n",
    "#plt.xlabel('Prediction Error')\n",
    "#plt.ylabel('Counts')\n",
    "#plt.savefig(\"dist_preds.eps\")\n",
    "#plt.show()\n",
    "\n",
    "# scatterplot actual versus predicted (validation set)\n",
    "#plt.scatter(y_test, model_preds)\n",
    "#plt.xlabel('Model Output GPP')\n",
    "#plt.ylabel('Predicted GPP')\n",
    "#plt.xlim(1.7,2.7)\n",
    "#plt.ylim(1.7,2.7)\n",
    "# trying to get a 1:1 line to show up (doesn't work)\n",
    "#ax.plot(ax.get_xlim(), ax.get_ylim(), ls=\"--\", c=\".3\")\n",
    "#plt.savefig(\"validation_scatter.eps\")\n",
    "#plt.show()\n",
    "\n",
    "# linear regression of actual vs predicted\n",
    "#slope, intercept, r_value, p_value, std_err = stats.linregress(y_test,\n",
    "#                model_preds)\n",
    "#print(\"r-squared:\", r_value**2)\n",
    "\n",
    "# Model interpretation by permutation variable importance\n",
    "#def variable_importance(model, data, labels, input_vars, score_func, num_iters=10):\n",
    "#    preds = model.predict(data)[:, 0]\n",
    "#    score_val = score_func(labels, preds)\n",
    "#    indices = np.arange(data.shape[0])\n",
    "#    imp_scores = np.zeros((len(input_vars), num_iters))\n",
    "#    shuf_data = np.copy(data)\n",
    "#    for n in range(num_iters):\n",
    "#        print(n)\n",
    "#        np.random.shuffle(indices)\n",
    "#        for v, var in enumerate(input_vars):\n",
    "#            print(var)\n",
    "#            shuf_data[:, v] = shuf_data[indices, v]\n",
    "#            shuf_preds = model.predict(shuf_data)[:, 0]\n",
    "#            imp_scores[v, n] = score_func(labels, shuf_preds)\n",
    "#            shuf_data[:, v] = data[:, v]\n",
    "#    return score_val - imp_scores\n",
    "\n",
    "#model_imp_scores = variable_importance(model, x_test, y_test, in_vars,\n",
    "#        model_error_preds, num_iters=3)\n",
    "#model_mean_scores = model_imp_scores.mean(axis=1)\n",
    "#for v, var in enumerate(in_vars):\n",
    "#    print(var, model_mean_scores[v])\n",
    "\n",
    "# Visualize what input most activates the output layer through feature\n",
    "# optimization\n",
    "#out_diff = K.mean((model.layers[-1].output - 1) ** 2)\n",
    "#grad = K.gradients(out_diff, [model.input])[0]\n",
    "#grad /= K.maximum(K.sqrt(K.mean(grad ** 2)), K.epsilon())\n",
    "#iterate = K.function([model.input, K.learning_phase()],\n",
    "#        [out_diff, grad])\n",
    "#input_img_data = np.zeros(shape=(1, len(in_vars)))\n",
    "#print(input_img_data.shape)\n",
    "\n",
    "#for i in range(20):\n",
    "#    out_loss, out_grad = iterate([input_img_data, 0])\n",
    "#    input_img_data -= out_grad * 0.1\n",
    "#    print(out_loss, out_grad.max())\n",
    "\n",
    "# Plot the output layer feature optimization\n",
    "#not working right now - input data is wrong size \n",
    "#plt.pcolormesh(input_img_data[0,0] * scaling_values.loc[0,\"std\"] +\n",
    "#        scaling_values.loc[0,\"mean\"], vmin=-10, vmax=80,\n",
    "#        cmap=\"gist_ncar\")\n",
    "#plt.colorbar()\n",
    "#plt.quiver(input_img_data[0,-2]*scaling_values.loc[1,\"std\"] + \n",
    "#        scaling_values.loc[1,\"mean\"], \n",
    "#        input_img_data[0,-1]*scaling_values.loc[2,\"std\"] + \n",
    "#        scaling_values.loc[2,\"mean\"], scale=500)\n",
    "#plt.title(\"Neural Net Output Layer Feature Optimization\")\n",
    "#plt.show()\n",
    "\n",
    "#plt.pcolormesh(input_img_data[0,0], vmin=-5, vmax=5, cmap=\"RdBu_r\")\n",
    "#plt.quiver(input_img_data[0,1], input_img_data[0,2], scale=100)\n",
    "#plt.show()\n",
    "\n",
    "# Visualize the distribution of model weights in the output layer\n",
    "#plt.hist(model.layers[-2].get_weights()[0], bins=50)\n",
    "#plt.xlabel(\"Neural Net Output Layer Weights\")\n",
    "#plt.ylabel(\"Counts\")\n",
    "#plt.show()"
   ]
  },
  {
   "cell_type": "code",
   "execution_count": null,
   "metadata": {},
   "outputs": [],
   "source": []
  }
 ],
 "metadata": {
  "kernelspec": {
   "display_name": "Python 3",
   "language": "python",
   "name": "python3"
  },
  "language_info": {
   "codemirror_mode": {
    "name": "ipython",
    "version": 3
   },
   "file_extension": ".py",
   "mimetype": "text/x-python",
   "name": "python",
   "nbconvert_exporter": "python",
   "pygments_lexer": "ipython3",
   "version": "3.7.0"
  }
 },
 "nbformat": 4,
 "nbformat_minor": 2
}
