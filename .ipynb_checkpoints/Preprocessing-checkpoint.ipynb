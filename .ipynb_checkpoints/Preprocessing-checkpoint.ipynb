{
 "cells": [
  {
   "cell_type": "markdown",
   "metadata": {},
   "source": [
    "# Workflow for pre-processing data for machine learning"
   ]
  },
  {
   "cell_type": "markdown",
   "metadata": {},
   "source": [
    "### Import modules"
   ]
  },
  {
   "cell_type": "code",
   "execution_count": 50,
   "metadata": {},
   "outputs": [],
   "source": [
    "%matplotlib inline\n",
    "import xarray as xr\n",
    "import glob\n",
    "import os"
   ]
  },
  {
   "cell_type": "markdown",
   "metadata": {},
   "source": [
    "### Process CLM output from PPE for SVD"
   ]
  },
  {
   "cell_type": "markdown",
   "metadata": {},
   "source": [
    "Set number of ensemble members"
   ]
  },
  {
   "cell_type": "markdown",
   "metadata": {},
   "source": [
    "Set output path and PPE specification"
   ]
  },
  {
   "cell_type": "code",
   "execution_count": 51,
   "metadata": {},
   "outputs": [],
   "source": [
    "path = \"/scratch/globc/dcom/ARPEGE6_TUNE\""
   ]
  },
  {
   "cell_type": "code",
   "execution_count": 52,
   "metadata": {},
   "outputs": [],
   "source": [
    "niter = 100"
   ]
  },
  {
   "cell_type": "code",
   "execution_count": 55,
   "metadata": {
    "scrolled": true
   },
   "outputs": [
    {
     "data": {
      "text/plain": [
       "<xarray.Dataset>\n",
       "Dimensions:  (ensemble: 9, lat: 128, lon: 256, plev: 28, time: 120)\n",
       "Coordinates:\n",
       "  * lon      (lon) float32 0.0 1.40625 2.8125 4.21875 5.625 7.03125 8.4375 ...\n",
       "  * lat      (lat) float32 -88.927734 -87.538704 -86.14147 -84.742386 ...\n",
       "  * plev     (plev) float32 100000.0 92500.0 85000.0 70000.0 60000.0 50000.0 ...\n",
       "  * time     (time) datetime64[ns] 2005-01-16T00:01:38.826059776 ...\n",
       "Dimensions without coordinates: ensemble\n",
       "Data variables:\n",
       "    prlic    (ensemble, time, lat, lon) float32 dask.array<shape=(9, 120, 128, 256), chunksize=(1, 120, 128, 256)>\n",
       "    prsnc    (ensemble, time, lat, lon) float32 dask.array<shape=(9, 120, 128, 256), chunksize=(1, 120, 128, 256)>\n",
       "    prlils   (ensemble, time, lat, lon) float32 dask.array<shape=(9, 120, 128, 256), chunksize=(1, 120, 128, 256)>\n",
       "    prsnls   (ensemble, time, lat, lon) float32 dask.array<shape=(9, 120, 128, 256), chunksize=(1, 120, 128, 256)>\n",
       "    prli     (ensemble, time, lat, lon) float32 dask.array<shape=(9, 120, 128, 256), chunksize=(1, 120, 128, 256)>\n",
       "    prsn     (ensemble, time, lat, lon) float32 dask.array<shape=(9, 120, 128, 256), chunksize=(1, 120, 128, 256)>\n",
       "    prc      (ensemble, time, lat, lon) float32 dask.array<shape=(9, 120, 128, 256), chunksize=(1, 120, 128, 256)>\n",
       "    prls     (ensemble, time, lat, lon) float32 dask.array<shape=(9, 120, 128, 256), chunksize=(1, 120, 128, 256)>\n",
       "    pr       (ensemble, time, lat, lon) float32 dask.array<shape=(9, 120, 128, 256), chunksize=(1, 120, 128, 256)>\n",
       "    clt      (ensemble, time, lat, lon) float32 dask.array<shape=(9, 120, 128, 256), chunksize=(1, 120, 128, 256)>\n",
       "    cltc     (ensemble, time, lat, lon) float32 dask.array<shape=(9, 120, 128, 256), chunksize=(1, 120, 128, 256)>\n",
       "    clth     (ensemble, time, lat, lon) float32 dask.array<shape=(9, 120, 128, 256), chunksize=(1, 120, 128, 256)>\n",
       "    cltm     (ensemble, time, lat, lon) float32 dask.array<shape=(9, 120, 128, 256), chunksize=(1, 120, 128, 256)>\n",
       "    cltl     (ensemble, time, lat, lon) float32 dask.array<shape=(9, 120, 128, 256), chunksize=(1, 120, 128, 256)>\n",
       "    prw      (ensemble, time, lat, lon) float32 dask.array<shape=(9, 120, 128, 256), chunksize=(1, 120, 128, 256)>\n",
       "    clwc     (ensemble, time, lat, lon) float32 dask.array<shape=(9, 120, 128, 256), chunksize=(1, 120, 128, 256)>\n",
       "    clivi    (ensemble, time, lat, lon) float32 dask.array<shape=(9, 120, 128, 256), chunksize=(1, 120, 128, 256)>\n",
       "    clwvi    (ensemble, time, lat, lon) float32 dask.array<shape=(9, 120, 128, 256), chunksize=(1, 120, 128, 256)>\n",
       "    rst      (ensemble, time, lat, lon) float32 dask.array<shape=(9, 120, 128, 256), chunksize=(1, 120, 128, 256)>\n",
       "    rlut     (ensemble, time, lat, lon) float32 dask.array<shape=(9, 120, 128, 256), chunksize=(1, 120, 128, 256)>\n",
       "    rstcs    (ensemble, time, lat, lon) float32 dask.array<shape=(9, 120, 128, 256), chunksize=(1, 120, 128, 256)>\n",
       "    rlutcs   (ensemble, time, lat, lon) float32 dask.array<shape=(9, 120, 128, 256), chunksize=(1, 120, 128, 256)>\n",
       "    rlscs    (ensemble, time, lat, lon) float32 dask.array<shape=(9, 120, 128, 256), chunksize=(1, 120, 128, 256)>\n",
       "    rsscs    (ensemble, time, lat, lon) float32 dask.array<shape=(9, 120, 128, 256), chunksize=(1, 120, 128, 256)>\n",
       "    rsdsdir  (ensemble, time, lat, lon) float32 dask.array<shape=(9, 120, 128, 256), chunksize=(1, 120, 128, 256)>\n",
       "    rsdt     (ensemble, time, lat, lon) float32 dask.array<shape=(9, 120, 128, 256), chunksize=(1, 120, 128, 256)>\n",
       "    rsdscs   (ensemble, time, lat, lon) float32 dask.array<shape=(9, 120, 128, 256), chunksize=(1, 120, 128, 256)>\n",
       "    rldscs   (ensemble, time, lat, lon) float32 dask.array<shape=(9, 120, 128, 256), chunksize=(1, 120, 128, 256)>\n",
       "    zbudso   (ensemble, time, lat, lon) float32 dask.array<shape=(9, 120, 128, 256), chunksize=(1, 120, 128, 256)>\n",
       "    zbudth   (ensemble, time, lat, lon) float32 dask.array<shape=(9, 120, 128, 256), chunksize=(1, 120, 128, 256)>\n",
       "    rsut     (ensemble, time, lat, lon) float32 dask.array<shape=(9, 120, 128, 256), chunksize=(1, 120, 128, 256)>\n",
       "    rsutcs   (ensemble, time, lat, lon) float32 dask.array<shape=(9, 120, 128, 256), chunksize=(1, 120, 128, 256)>\n",
       "    rluscs   (ensemble, time, lat, lon) float32 dask.array<shape=(9, 120, 128, 256), chunksize=(1, 120, 128, 256)>\n",
       "    rsuscs   (ensemble, time, lat, lon) float32 dask.array<shape=(9, 120, 128, 256), chunksize=(1, 120, 128, 256)>\n",
       "    rtmt     (ensemble, time, lat, lon) float32 dask.array<shape=(9, 120, 128, 256), chunksize=(1, 120, 128, 256)>\n",
       "    ozont    (ensemble, time, lat, lon) float32 dask.array<shape=(9, 120, 128, 256), chunksize=(1, 120, 128, 256)>\n",
       "    zgll     (ensemble, time, lat, lon) float32 dask.array<shape=(9, 120, 128, 256), chunksize=(1, 120, 128, 256)>\n",
       "    tall     (ensemble, time, lat, lon) float32 dask.array<shape=(9, 120, 128, 256), chunksize=(1, 120, 128, 256)>\n",
       "    husll    (ensemble, time, lat, lon) float32 dask.array<shape=(9, 120, 128, 256), chunksize=(1, 120, 128, 256)>\n",
       "    hurll    (ensemble, time, lat, lon) float32 dask.array<shape=(9, 120, 128, 256), chunksize=(1, 120, 128, 256)>\n",
       "    uall     (ensemble, time, lat, lon) float32 dask.array<shape=(9, 120, 128, 256), chunksize=(1, 120, 128, 256)>\n",
       "    vall     (ensemble, time, lat, lon) float32 dask.array<shape=(9, 120, 128, 256), chunksize=(1, 120, 128, 256)>\n",
       "    ps       (ensemble, time, lat, lon) float32 dask.array<shape=(9, 120, 128, 256), chunksize=(1, 120, 128, 256)>\n",
       "    psl      (ensemble, time, lat, lon) float32 dask.array<shape=(9, 120, 128, 256), chunksize=(1, 120, 128, 256)>\n",
       "    ua       (ensemble, time, plev, lat, lon) float32 dask.array<shape=(9, 120, 28, 128, 256), chunksize=(1, 120, 28, 128, 256)>\n",
       "    va       (ensemble, time, plev, lat, lon) float32 dask.array<shape=(9, 120, 28, 128, 256), chunksize=(1, 120, 28, 128, 256)>\n",
       "    ta       (ensemble, time, plev, lat, lon) float32 dask.array<shape=(9, 120, 28, 128, 256), chunksize=(1, 120, 28, 128, 256)>\n",
       "    hus      (ensemble, time, plev, lat, lon) float32 dask.array<shape=(9, 120, 28, 128, 256), chunksize=(1, 120, 28, 128, 256)>\n",
       "    hur      (ensemble, time, plev, lat, lon) float32 dask.array<shape=(9, 120, 28, 128, 256), chunksize=(1, 120, 28, 128, 256)>\n",
       "    zg       (ensemble, time, plev, lat, lon) float32 dask.array<shape=(9, 120, 28, 128, 256), chunksize=(1, 120, 28, 128, 256)>\n",
       "    wap      (ensemble, time, plev, lat, lon) float32 dask.array<shape=(9, 120, 28, 128, 256), chunksize=(1, 120, 28, 128, 256)>\n",
       "    ozon     (ensemble, time, plev, lat, lon) float32 dask.array<shape=(9, 120, 28, 128, 256), chunksize=(1, 120, 28, 128, 256)>\n",
       "Attributes:\n",
       "    title:                     PRE 623 Tuning\n",
       "    Conventions:               CF-1.0\n",
       "    institution:               CNRM (Centre National de Recherches Meteorolog...\n",
       "    references:                arpege version 6.23 (PRE_AR6)\n",
       "    source:                    arpege-climat\n",
       "    history:                   Mon Sep 12 11:12:19 2016: ncrcat -n 12,2,1 PRE...\n",
       "    comment:                   Monthly mean\n",
       "    nco_openmp_thread_number:  1"
      ]
     },
     "execution_count": 55,
     "metadata": {},
     "output_type": "execute_result"
    }
   ],
   "source": [
    "xr.open_mfdataset(path+'/PRE623TUN010*.nc',concat_dim='ensemble')"
   ]
  },
  {
   "cell_type": "code",
   "execution_count": 25,
   "metadata": {},
   "outputs": [
    {
     "ename": "NameError",
     "evalue": "name 'da_obs' is not defined",
     "output_type": "error",
     "traceback": [
      "\u001b[0;31m---------------------------------------------------------------------------\u001b[0m",
      "\u001b[0;31mNameError\u001b[0m                                 Traceback (most recent call last)",
      "\u001b[0;32m<ipython-input-25-193aad719804>\u001b[0m in \u001b[0;36m<module>\u001b[0;34m()\u001b[0m\n\u001b[0;32m----> 1\u001b[0;31m \u001b[0mdm_obs\u001b[0m \u001b[0;34m=\u001b[0m \u001b[0mda_obs\u001b[0m\u001b[0;34m.\u001b[0m\u001b[0mdatamask\u001b[0m\u001b[0;34m\u001b[0m\u001b[0m\n\u001b[0m",
      "\u001b[0;31mNameError\u001b[0m: name 'da_obs' is not defined"
     ]
    }
   ],
   "source": [
    "dm_obs = da_obs.datamask"
   ]
  },
  {
   "cell_type": "code",
   "execution_count": 7,
   "metadata": {},
   "outputs": [],
   "source": [
    "#dm_obs.plot()"
   ]
  },
  {
   "cell_type": "markdown",
   "metadata": {},
   "source": [
    "Set output variables of interest"
   ]
  },
  {
   "cell_type": "markdown",
   "metadata": {},
   "source": [
    "Read in datamask from regridded observations file\\\n",
    "(Currently obs sampling and regridding is done in NCL files)"
   ]
  },
  {
   "cell_type": "code",
   "execution_count": 15,
   "metadata": {},
   "outputs": [
    {
     "name": "stdout",
     "output_type": "stream",
     "text": [
      "['/scratch/globc/dcom/ARPEGE6_TUNE/*.nc']\n"
     ]
    }
   ],
   "source": [
    "print([path+'/*.nc'])\n"
   ]
  },
  {
   "cell_type": "markdown",
   "metadata": {},
   "source": [
    "Read in CLM PPE output"
   ]
  },
  {
   "cell_type": "code",
   "execution_count": 15,
   "metadata": {},
   "outputs": [],
   "source": []
  },
  {
   "cell_type": "code",
   "execution_count": 30,
   "metadata": {},
   "outputs": [
    {
     "name": "stdout",
     "output_type": "stream",
     "text": [
      "/bin/sh: -c: line 0: syntax error near unexpected token `('\r\n",
      "/bin/sh: -c: line 0: `ls -F --color (\"/scratch/globc/dcom/ARPEGE6_TUNE/*.nc\")'\r\n"
     ]
    }
   ],
   "source": [
    "ls(\"/scratch/globc/dcom/ARPEGE6_TUNE/*.nc\")"
   ]
  },
  {
   "cell_type": "code",
   "execution_count": 32,
   "metadata": {},
   "outputs": [
    {
     "name": "stdout",
     "output_type": "stream",
     "text": [
      "[1, 2, 3, 4, 5, 6, 7, 8, 9, 10, 11, 12, 13, 14, 15, 16, 17, 18, 19, 20, 21, 22, 23, 24, 25, 26, 27, 28, 29, 30, 31, 32, 33, 34, 35, 36, 37, 38, 39, 40, 41, 42, 43, 44, 45, 46, 47, 48, 49, 50, 51, 52, 53, 54, 55, 56, 57, 58, 59, 60, 61, 62, 63, 64, 65, 66, 67, 68, 69, 70, 71, 72, 73, 74, 75, 76, 77, 78, 79, 80, 81, 82, 83, 84, 85, 86, 87, 88, 89, 90, 91, 92, 93, 94, 95, 96, 97, 98, 99, 100]\n"
     ]
    }
   ],
   "source": [
    "#em = [i+1 for i in range(niter)]\n",
    "#print(em)"
   ]
  },
  {
   "cell_type": "code",
   "execution_count": 22,
   "metadata": {},
   "outputs": [
    {
     "data": {
      "text/plain": [
       "['/glade/scratch/kdagon/archive/hydro_ensemble_LHC_1/lnd/hist/*',\n",
       " '/glade/scratch/kdagon/archive/hydro_ensemble_LHC_2/lnd/hist/*',\n",
       " '/glade/scratch/kdagon/archive/hydro_ensemble_LHC_3/lnd/hist/*',\n",
       " '/glade/scratch/kdagon/archive/hydro_ensemble_LHC_4/lnd/hist/*',\n",
       " '/glade/scratch/kdagon/archive/hydro_ensemble_LHC_5/lnd/hist/*',\n",
       " '/glade/scratch/kdagon/archive/hydro_ensemble_LHC_6/lnd/hist/*',\n",
       " '/glade/scratch/kdagon/archive/hydro_ensemble_LHC_7/lnd/hist/*',\n",
       " '/glade/scratch/kdagon/archive/hydro_ensemble_LHC_8/lnd/hist/*',\n",
       " '/glade/scratch/kdagon/archive/hydro_ensemble_LHC_9/lnd/hist/*',\n",
       " '/glade/scratch/kdagon/archive/hydro_ensemble_LHC_10/lnd/hist/*']"
      ]
     },
     "execution_count": 22,
     "metadata": {},
     "output_type": "execute_result"
    }
   ],
   "source": [
    "#full_paths = [path+PPE+str(i+1)+\"/lnd/hist/*{001[6-9],20-}*\" for i in range(niter)]\n",
    "full_paths = [path+PPE+str(i+1)+\"/lnd/hist/*\" for i in range(niter)]\n",
    "full_paths[:10]"
   ]
  },
  {
   "cell_type": "code",
   "execution_count": 44,
   "metadata": {},
   "outputs": [
    {
     "data": {
      "text/plain": [
       "'/glade/scratch/kdagon/archive/hydro_ensemble_LHC_1/lnd/hist/*'"
      ]
     },
     "execution_count": 44,
     "metadata": {},
     "output_type": "execute_result"
    }
   ],
   "source": [
    "import glob\n",
    "#full_paths[0]\n",
    "#glob.glob(full_paths[0])\n",
    "#exlist = glob.glob('/glade/scratch/kdagon/archive/hydro_ensemble_LHC_1/lnd/hist/*')\n",
    "#sorted(exlist)\n",
    "# glob doesn't like curly brackets or square brackets or dashes?\n",
    "# glob with a second filtering step\n",
    "# OR for loop over specific years and months with * only?\n",
    "import os\n",
    "#os.path.expanduser(full_paths[0]) # just for home dir ~?\n",
    "#full_paths[0]\n",
    "#full_list = [glob.glob(full_paths[i]) for i in range(niter)]\n",
    "#full_list"
   ]
  },
  {
   "cell_type": "code",
   "execution_count": 30,
   "metadata": {},
   "outputs": [],
   "source": [
    "# also want to concatenate along ensemble member so that dimension is preserved\n",
    "# run this for each ensemble member\n",
    "# each ens mem as a dataset\n",
    "# xr.concat for list of datasets (along ensemble member dim, a new dim)\n",
    "def preprocess(ds):\n",
    "    return ds[var]\n",
    "da_model = xr.open_mfdataset(full_paths[0], combine='by_coords', preprocess=preprocess)\n",
    "#da_model = xr.open_mfdataset(full_paths[0], data_vars=var, combine='by_coords')"
   ]
  },
  {
   "cell_type": "code",
   "execution_count": 32,
   "metadata": {},
   "outputs": [],
   "source": [
    "da_model = [xr.open_mfdataset(p, combine='by_coords', preprocess=preprocess) for p in full_paths[:10]]"
   ]
  },
  {
   "cell_type": "code",
   "execution_count": 41,
   "metadata": {},
   "outputs": [
    {
     "data": {
      "text/plain": [
       "<xarray.DataArray 'ens' (ens: 10)>\n",
       "array([ 1,  2,  3,  4,  5,  6,  7,  8,  9, 10])\n",
       "Dimensions without coordinates: ens"
      ]
     },
     "execution_count": 41,
     "metadata": {},
     "output_type": "execute_result"
    }
   ],
   "source": [
    "ensdim = xr.DataArray(list(range(1,11)), dims='ens', name='ens') # or np.arange\n",
    "ensdim"
   ]
  },
  {
   "cell_type": "code",
   "execution_count": 42,
   "metadata": {},
   "outputs": [],
   "source": [
    "#da_model_concat = xr.concat(da_model, dim='ens')\n",
    "da_model_concat = xr.concat(da_model, dim=ensdim)"
   ]
  },
  {
   "cell_type": "code",
   "execution_count": 43,
   "metadata": {},
   "outputs": [
    {
     "data": {
      "text/plain": [
       "<xarray.Dataset>\n",
       "Dimensions:      (ens: 10, lat: 46, lon: 72, time: 60)\n",
       "Coordinates:\n",
       "  * lon          (lon) float32 0.0 5.0 10.0 15.0 ... 340.0 345.0 350.0 355.0\n",
       "  * lat          (lat) float32 -90.0 -86.0 -82.0 -78.0 ... 78.0 82.0 86.0 90.0\n",
       "  * time         (time) object 0016-02-01 00:00:00 ... 0021-01-01 00:00:00\n",
       "  * ens          (ens) int64 1 2 3 4 5 6 7 8 9 10\n",
       "Data variables:\n",
       "    FPSN         (ens, time, lat, lon) float32 dask.array<shape=(10, 60, 46, 72), chunksize=(1, 1, 46, 72)>\n",
       "    EFLX_LH_TOT  (ens, time, lat, lon) float32 dask.array<shape=(10, 60, 46, 72), chunksize=(1, 1, 46, 72)>\n",
       "Attributes:\n",
       "    title:                                     CLM History file information\n",
       "    comment:                                   NOTE: None of the variables ar...\n",
       "    Conventions:                               CF-1.0\n",
       "    history:                                   created on 05/28/18 20:36:54\n",
       "    source:                                    Community Land Model CLM4.0\n",
       "    hostname:                                  cheyenne\n",
       "    username:                                  kdagon\n",
       "    version:                                   unknown\n",
       "    revision_id:                               $Id: histFileMod.F90 42903 201...\n",
       "    case_title:                                UNSET\n",
       "    case_id:                                   hydro_ensemble_LHC_1\n",
       "    Surface_dataset:                           surfdata_4x5_16pfts_Irrig_CMIP...\n",
       "    Initial_conditions_dataset:                finidat_interp_dest.nc\n",
       "    PFT_physiological_constants_dataset:       hydro_ensemble_LHC_1.nc\n",
       "    ltype_vegetated_or_bare_soil:              1\n",
       "    ltype_crop:                                2\n",
       "    ltype_UNUSED:                              3\n",
       "    ltype_landice_multiple_elevation_classes:  4\n",
       "    ltype_deep_lake:                           5\n",
       "    ltype_wetland:                             6\n",
       "    ltype_urban_tbd:                           7\n",
       "    ltype_urban_hd:                            8\n",
       "    ltype_urban_md:                            9\n",
       "    ctype_vegetated_or_bare_soil:              1\n",
       "    ctype_crop:                                2\n",
       "    ctype_crop_noncompete:                     2*100+m, m=cft_lb,cft_ub\n",
       "    ctype_landice:                             3\n",
       "    ctype_landice_multiple_elevation_classes:  4*100+m, m=1,glcnec\n",
       "    ctype_deep_lake:                           5\n",
       "    ctype_wetland:                             6\n",
       "    ctype_urban_roof:                          71\n",
       "    ctype_urban_sunwall:                       72\n",
       "    ctype_urban_shadewall:                     73\n",
       "    ctype_urban_impervious_road:               74\n",
       "    ctype_urban_pervious_road:                 75\n",
       "    cft_c3_crop:                               1\n",
       "    cft_c3_irrigated:                          2\n",
       "    time_period_freq:                          month_1\n",
       "    Time_constant_3Dvars_filename:             ./hydro_ensemble_LHC_1.clm2.h0...\n",
       "    Time_constant_3Dvars:                      ZSOI:DZSOI:WATSAT:SUCSAT:BSW:H..."
      ]
     },
     "execution_count": 43,
     "metadata": {},
     "output_type": "execute_result"
    }
   ],
   "source": [
    "da_model_concat"
   ]
  },
  {
   "cell_type": "code",
   "execution_count": 11,
   "metadata": {},
   "outputs": [
    {
     "name": "stdout",
     "output_type": "stream",
     "text": [
      "/glade/scratch/kdagon/archive/hydro_ensemble_LHC_1/lnd/hist/hydro_ensemble_LHC_1.clm2.h0.0016-01.nc\n",
      "/glade/scratch/kdagon/archive/hydro_ensemble_LHC_1/lnd/hist/hydro_ensemble_LHC_1.clm2.h0.0016-02.nc\n",
      "/glade/scratch/kdagon/archive/hydro_ensemble_LHC_1/lnd/hist/hydro_ensemble_LHC_1.clm2.h0.0016-03.nc\n",
      "/glade/scratch/kdagon/archive/hydro_ensemble_LHC_1/lnd/hist/hydro_ensemble_LHC_1.clm2.h0.0016-04.nc\n",
      "/glade/scratch/kdagon/archive/hydro_ensemble_LHC_1/lnd/hist/hydro_ensemble_LHC_1.clm2.h0.0016-05.nc\n",
      "/glade/scratch/kdagon/archive/hydro_ensemble_LHC_1/lnd/hist/hydro_ensemble_LHC_1.clm2.h0.0016-06.nc\n",
      "/glade/scratch/kdagon/archive/hydro_ensemble_LHC_1/lnd/hist/hydro_ensemble_LHC_1.clm2.h0.0016-07.nc\n",
      "/glade/scratch/kdagon/archive/hydro_ensemble_LHC_1/lnd/hist/hydro_ensemble_LHC_1.clm2.h0.0016-08.nc\n",
      "/glade/scratch/kdagon/archive/hydro_ensemble_LHC_1/lnd/hist/hydro_ensemble_LHC_1.clm2.h0.0016-09.nc\n",
      "/glade/scratch/kdagon/archive/hydro_ensemble_LHC_1/lnd/hist/hydro_ensemble_LHC_1.clm2.h0.0016-10.nc\n",
      "/glade/scratch/kdagon/archive/hydro_ensemble_LHC_1/lnd/hist/hydro_ensemble_LHC_1.clm2.h0.0016-11.nc\n",
      "/glade/scratch/kdagon/archive/hydro_ensemble_LHC_1/lnd/hist/hydro_ensemble_LHC_1.clm2.h0.0016-12.nc\n",
      "/glade/scratch/kdagon/archive/hydro_ensemble_LHC_1/lnd/hist/hydro_ensemble_LHC_1.clm2.h0.0017-01.nc\n",
      "/glade/scratch/kdagon/archive/hydro_ensemble_LHC_1/lnd/hist/hydro_ensemble_LHC_1.clm2.h0.0017-02.nc\n",
      "/glade/scratch/kdagon/archive/hydro_ensemble_LHC_1/lnd/hist/hydro_ensemble_LHC_1.clm2.h0.0017-03.nc\n",
      "/glade/scratch/kdagon/archive/hydro_ensemble_LHC_1/lnd/hist/hydro_ensemble_LHC_1.clm2.h0.0017-04.nc\n",
      "/glade/scratch/kdagon/archive/hydro_ensemble_LHC_1/lnd/hist/hydro_ensemble_LHC_1.clm2.h0.0017-05.nc\n",
      "/glade/scratch/kdagon/archive/hydro_ensemble_LHC_1/lnd/hist/hydro_ensemble_LHC_1.clm2.h0.0017-06.nc\n",
      "/glade/scratch/kdagon/archive/hydro_ensemble_LHC_1/lnd/hist/hydro_ensemble_LHC_1.clm2.h0.0017-07.nc\n",
      "/glade/scratch/kdagon/archive/hydro_ensemble_LHC_1/lnd/hist/hydro_ensemble_LHC_1.clm2.h0.0017-08.nc\n",
      "/glade/scratch/kdagon/archive/hydro_ensemble_LHC_1/lnd/hist/hydro_ensemble_LHC_1.clm2.h0.0017-09.nc\n",
      "/glade/scratch/kdagon/archive/hydro_ensemble_LHC_1/lnd/hist/hydro_ensemble_LHC_1.clm2.h0.0017-10.nc\n",
      "/glade/scratch/kdagon/archive/hydro_ensemble_LHC_1/lnd/hist/hydro_ensemble_LHC_1.clm2.h0.0017-11.nc\n",
      "/glade/scratch/kdagon/archive/hydro_ensemble_LHC_1/lnd/hist/hydro_ensemble_LHC_1.clm2.h0.0017-12.nc\n",
      "/glade/scratch/kdagon/archive/hydro_ensemble_LHC_1/lnd/hist/hydro_ensemble_LHC_1.clm2.h0.0018-01.nc\n",
      "/glade/scratch/kdagon/archive/hydro_ensemble_LHC_1/lnd/hist/hydro_ensemble_LHC_1.clm2.h0.0018-02.nc\n",
      "/glade/scratch/kdagon/archive/hydro_ensemble_LHC_1/lnd/hist/hydro_ensemble_LHC_1.clm2.h0.0018-03.nc\n",
      "/glade/scratch/kdagon/archive/hydro_ensemble_LHC_1/lnd/hist/hydro_ensemble_LHC_1.clm2.h0.0018-04.nc\n",
      "/glade/scratch/kdagon/archive/hydro_ensemble_LHC_1/lnd/hist/hydro_ensemble_LHC_1.clm2.h0.0018-05.nc\n",
      "/glade/scratch/kdagon/archive/hydro_ensemble_LHC_1/lnd/hist/hydro_ensemble_LHC_1.clm2.h0.0018-06.nc\n",
      "/glade/scratch/kdagon/archive/hydro_ensemble_LHC_1/lnd/hist/hydro_ensemble_LHC_1.clm2.h0.0018-07.nc\n",
      "/glade/scratch/kdagon/archive/hydro_ensemble_LHC_1/lnd/hist/hydro_ensemble_LHC_1.clm2.h0.0018-08.nc\n",
      "/glade/scratch/kdagon/archive/hydro_ensemble_LHC_1/lnd/hist/hydro_ensemble_LHC_1.clm2.h0.0018-09.nc\n",
      "/glade/scratch/kdagon/archive/hydro_ensemble_LHC_1/lnd/hist/hydro_ensemble_LHC_1.clm2.h0.0018-10.nc\n",
      "/glade/scratch/kdagon/archive/hydro_ensemble_LHC_1/lnd/hist/hydro_ensemble_LHC_1.clm2.h0.0018-11.nc\n",
      "/glade/scratch/kdagon/archive/hydro_ensemble_LHC_1/lnd/hist/hydro_ensemble_LHC_1.clm2.h0.0018-12.nc\n",
      "/glade/scratch/kdagon/archive/hydro_ensemble_LHC_1/lnd/hist/hydro_ensemble_LHC_1.clm2.h0.0019-01.nc\n",
      "/glade/scratch/kdagon/archive/hydro_ensemble_LHC_1/lnd/hist/hydro_ensemble_LHC_1.clm2.h0.0019-02.nc\n",
      "/glade/scratch/kdagon/archive/hydro_ensemble_LHC_1/lnd/hist/hydro_ensemble_LHC_1.clm2.h0.0019-03.nc\n",
      "/glade/scratch/kdagon/archive/hydro_ensemble_LHC_1/lnd/hist/hydro_ensemble_LHC_1.clm2.h0.0019-04.nc\n",
      "/glade/scratch/kdagon/archive/hydro_ensemble_LHC_1/lnd/hist/hydro_ensemble_LHC_1.clm2.h0.0019-05.nc\n",
      "/glade/scratch/kdagon/archive/hydro_ensemble_LHC_1/lnd/hist/hydro_ensemble_LHC_1.clm2.h0.0019-06.nc\n",
      "/glade/scratch/kdagon/archive/hydro_ensemble_LHC_1/lnd/hist/hydro_ensemble_LHC_1.clm2.h0.0019-07.nc\n",
      "/glade/scratch/kdagon/archive/hydro_ensemble_LHC_1/lnd/hist/hydro_ensemble_LHC_1.clm2.h0.0019-08.nc\n",
      "/glade/scratch/kdagon/archive/hydro_ensemble_LHC_1/lnd/hist/hydro_ensemble_LHC_1.clm2.h0.0019-09.nc\n",
      "/glade/scratch/kdagon/archive/hydro_ensemble_LHC_1/lnd/hist/hydro_ensemble_LHC_1.clm2.h0.0019-10.nc\n",
      "/glade/scratch/kdagon/archive/hydro_ensemble_LHC_1/lnd/hist/hydro_ensemble_LHC_1.clm2.h0.0019-11.nc\n",
      "/glade/scratch/kdagon/archive/hydro_ensemble_LHC_1/lnd/hist/hydro_ensemble_LHC_1.clm2.h0.0019-12.nc\n",
      "/glade/scratch/kdagon/archive/hydro_ensemble_LHC_1/lnd/hist/hydro_ensemble_LHC_1.clm2.h0.0020-01.nc\n",
      "/glade/scratch/kdagon/archive/hydro_ensemble_LHC_1/lnd/hist/hydro_ensemble_LHC_1.clm2.h0.0020-02.nc\n",
      "/glade/scratch/kdagon/archive/hydro_ensemble_LHC_1/lnd/hist/hydro_ensemble_LHC_1.clm2.h0.0020-03.nc\n",
      "/glade/scratch/kdagon/archive/hydro_ensemble_LHC_1/lnd/hist/hydro_ensemble_LHC_1.clm2.h0.0020-04.nc\n",
      "/glade/scratch/kdagon/archive/hydro_ensemble_LHC_1/lnd/hist/hydro_ensemble_LHC_1.clm2.h0.0020-05.nc\n",
      "/glade/scratch/kdagon/archive/hydro_ensemble_LHC_1/lnd/hist/hydro_ensemble_LHC_1.clm2.h0.0020-06.nc\n",
      "/glade/scratch/kdagon/archive/hydro_ensemble_LHC_1/lnd/hist/hydro_ensemble_LHC_1.clm2.h0.0020-07.nc\n",
      "/glade/scratch/kdagon/archive/hydro_ensemble_LHC_1/lnd/hist/hydro_ensemble_LHC_1.clm2.h0.0020-08.nc\n",
      "/glade/scratch/kdagon/archive/hydro_ensemble_LHC_1/lnd/hist/hydro_ensemble_LHC_1.clm2.h0.0020-09.nc\n",
      "/glade/scratch/kdagon/archive/hydro_ensemble_LHC_1/lnd/hist/hydro_ensemble_LHC_1.clm2.h0.0020-10.nc\n",
      "/glade/scratch/kdagon/archive/hydro_ensemble_LHC_1/lnd/hist/hydro_ensemble_LHC_1.clm2.h0.0020-11.nc\n",
      "/glade/scratch/kdagon/archive/hydro_ensemble_LHC_1/lnd/hist/hydro_ensemble_LHC_1.clm2.h0.0020-12.nc\n"
     ]
    }
   ],
   "source": [
    "!ls /glade/scratch/kdagon/archive/hydro_ensemble_LHC_1/lnd/hist/*{001[6-9],20-}*"
   ]
  },
  {
   "cell_type": "code",
   "execution_count": null,
   "metadata": {},
   "outputs": [],
   "source": []
  }
 ],
 "metadata": {
  "kernelspec": {
   "display_name": "Python 3",
   "language": "python",
   "name": "python3"
  },
  "language_info": {
   "codemirror_mode": {
    "name": "ipython",
    "version": 3
   },
   "file_extension": ".py",
   "mimetype": "text/x-python",
   "name": "python",
   "nbconvert_exporter": "python",
   "pygments_lexer": "ipython3",
   "version": "3.6.4"
  }
 },
 "nbformat": 4,
 "nbformat_minor": 4
}
