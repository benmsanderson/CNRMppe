{
 "cells": [
  {
   "cell_type": "markdown",
   "metadata": {},
   "source": [
    "# Workflow for pre-processing data for machine learning"
   ]
  },
  {
   "cell_type": "markdown",
   "metadata": {},
   "source": [
    "### Import modules"
   ]
  },
  {
   "cell_type": "code",
   "execution_count": 3,
   "metadata": {},
   "outputs": [],
   "source": [
    "%matplotlib inline\n",
    "import xarray as xr\n",
    "import glob\n",
    "import os"
   ]
  },
  {
   "cell_type": "markdown",
   "metadata": {},
   "source": [
    "### Process CLM output from PPE for SVD"
   ]
  },
  {
   "cell_type": "markdown",
   "metadata": {},
   "source": [
    "Set number of ensemble members"
   ]
  },
  {
   "cell_type": "markdown",
   "metadata": {},
   "source": [
    "Set output path and PPE specification"
   ]
  },
  {
   "cell_type": "code",
   "execution_count": 5,
   "metadata": {},
   "outputs": [],
   "source": [
    "path = \"/scratch/globc/dcom/ARPEGE6_TUNE\""
   ]
  },
  {
   "cell_type": "code",
   "execution_count": 6,
   "metadata": {
    "scrolled": true
   },
   "outputs": [],
   "source": [
    "da_model=xr.open_mfdataset(path+'/PRE623TUN010*.nc',concat_dim='ensemble')"
   ]
  },
  {
   "cell_type": "markdown",
   "metadata": {},
   "source": [
    "List dimensions"
   ]
  },
  {
   "cell_type": "code",
   "execution_count": 8,
   "metadata": {},
   "outputs": [
    {
     "data": {
      "text/plain": [
       "Frozen(SortedKeysDict({'lon': 256, 'lat': 128, 'plev': 28, 'time': 120, 'ensemble': 9}))"
      ]
     },
     "execution_count": 8,
     "metadata": {},
     "output_type": "execute_result"
    }
   ],
   "source": [
    "da_model.dims"
   ]
  },
  {
   "cell_type": "code",
   "execution_count": null,
   "metadata": {},
   "outputs": [],
   "source": [
    "And coordinates"
   ]
  },
  {
   "cell_type": "code",
   "execution_count": 9,
   "metadata": {},
   "outputs": [
    {
     "data": {
      "text/plain": [
       "Coordinates:\n",
       "  * lon      (lon) float32 0.0 1.40625 2.8125 4.21875 5.625 7.03125 8.4375 ...\n",
       "  * lat      (lat) float32 -88.927734 -87.538704 -86.14147 -84.742386 ...\n",
       "  * plev     (plev) float32 100000.0 92500.0 85000.0 70000.0 60000.0 50000.0 ...\n",
       "  * time     (time) datetime64[ns] 2005-01-16T00:01:38.826059776 ..."
      ]
     },
     "execution_count": 9,
     "metadata": {},
     "output_type": "execute_result"
    }
   ],
   "source": [
    "da_model.coords"
   ]
  },
  {
   "cell_type": "markdown",
   "metadata": {},
   "source": [
    "List output variables"
   ]
  },
  {
   "cell_type": "code",
   "execution_count": 14,
   "metadata": {},
   "outputs": [],
   "source": [
    "a=da_model.values"
   ]
  },
  {
   "cell_type": "code",
   "execution_count": 15,
   "metadata": {},
   "outputs": [
    {
     "data": {
      "text/plain": [
       "<bound method Mapping.values of <xarray.Dataset>\n",
       "Dimensions:  (ensemble: 9, lat: 128, lon: 256, plev: 28, time: 120)\n",
       "Coordinates:\n",
       "  * lon      (lon) float32 0.0 1.40625 2.8125 4.21875 5.625 7.03125 8.4375 ...\n",
       "  * lat      (lat) float32 -88.927734 -87.538704 -86.14147 -84.742386 ...\n",
       "  * plev     (plev) float32 100000.0 92500.0 85000.0 70000.0 60000.0 50000.0 ...\n",
       "  * time     (time) datetime64[ns] 2005-01-16T00:01:38.826059776 ...\n",
       "Dimensions without coordinates: ensemble\n",
       "Data variables:\n",
       "    prlic    (ensemble, time, lat, lon) float32 dask.array<shape=(9, 120, 128, 256), chunksize=(1, 120, 128, 256)>\n",
       "    prsnc    (ensemble, time, lat, lon) float32 dask.array<shape=(9, 120, 128, 256), chunksize=(1, 120, 128, 256)>\n",
       "    prlils   (ensemble, time, lat, lon) float32 dask.array<shape=(9, 120, 128, 256), chunksize=(1, 120, 128, 256)>\n",
       "    prsnls   (ensemble, time, lat, lon) float32 dask.array<shape=(9, 120, 128, 256), chunksize=(1, 120, 128, 256)>\n",
       "    prli     (ensemble, time, lat, lon) float32 dask.array<shape=(9, 120, 128, 256), chunksize=(1, 120, 128, 256)>\n",
       "    prsn     (ensemble, time, lat, lon) float32 dask.array<shape=(9, 120, 128, 256), chunksize=(1, 120, 128, 256)>\n",
       "    prc      (ensemble, time, lat, lon) float32 dask.array<shape=(9, 120, 128, 256), chunksize=(1, 120, 128, 256)>\n",
       "    prls     (ensemble, time, lat, lon) float32 dask.array<shape=(9, 120, 128, 256), chunksize=(1, 120, 128, 256)>\n",
       "    pr       (ensemble, time, lat, lon) float32 dask.array<shape=(9, 120, 128, 256), chunksize=(1, 120, 128, 256)>\n",
       "    clt      (ensemble, time, lat, lon) float32 dask.array<shape=(9, 120, 128, 256), chunksize=(1, 120, 128, 256)>\n",
       "    cltc     (ensemble, time, lat, lon) float32 dask.array<shape=(9, 120, 128, 256), chunksize=(1, 120, 128, 256)>\n",
       "    clth     (ensemble, time, lat, lon) float32 dask.array<shape=(9, 120, 128, 256), chunksize=(1, 120, 128, 256)>\n",
       "    cltm     (ensemble, time, lat, lon) float32 dask.array<shape=(9, 120, 128, 256), chunksize=(1, 120, 128, 256)>\n",
       "    cltl     (ensemble, time, lat, lon) float32 dask.array<shape=(9, 120, 128, 256), chunksize=(1, 120, 128, 256)>\n",
       "    prw      (ensemble, time, lat, lon) float32 dask.array<shape=(9, 120, 128, 256), chunksize=(1, 120, 128, 256)>\n",
       "    clwc     (ensemble, time, lat, lon) float32 dask.array<shape=(9, 120, 128, 256), chunksize=(1, 120, 128, 256)>\n",
       "    clivi    (ensemble, time, lat, lon) float32 dask.array<shape=(9, 120, 128, 256), chunksize=(1, 120, 128, 256)>\n",
       "    clwvi    (ensemble, time, lat, lon) float32 dask.array<shape=(9, 120, 128, 256), chunksize=(1, 120, 128, 256)>\n",
       "    rst      (ensemble, time, lat, lon) float32 dask.array<shape=(9, 120, 128, 256), chunksize=(1, 120, 128, 256)>\n",
       "    rlut     (ensemble, time, lat, lon) float32 dask.array<shape=(9, 120, 128, 256), chunksize=(1, 120, 128, 256)>\n",
       "    rstcs    (ensemble, time, lat, lon) float32 dask.array<shape=(9, 120, 128, 256), chunksize=(1, 120, 128, 256)>\n",
       "    rlutcs   (ensemble, time, lat, lon) float32 dask.array<shape=(9, 120, 128, 256), chunksize=(1, 120, 128, 256)>\n",
       "    rlscs    (ensemble, time, lat, lon) float32 dask.array<shape=(9, 120, 128, 256), chunksize=(1, 120, 128, 256)>\n",
       "    rsscs    (ensemble, time, lat, lon) float32 dask.array<shape=(9, 120, 128, 256), chunksize=(1, 120, 128, 256)>\n",
       "    rsdsdir  (ensemble, time, lat, lon) float32 dask.array<shape=(9, 120, 128, 256), chunksize=(1, 120, 128, 256)>\n",
       "    rsdt     (ensemble, time, lat, lon) float32 dask.array<shape=(9, 120, 128, 256), chunksize=(1, 120, 128, 256)>\n",
       "    rsdscs   (ensemble, time, lat, lon) float32 dask.array<shape=(9, 120, 128, 256), chunksize=(1, 120, 128, 256)>\n",
       "    rldscs   (ensemble, time, lat, lon) float32 dask.array<shape=(9, 120, 128, 256), chunksize=(1, 120, 128, 256)>\n",
       "    zbudso   (ensemble, time, lat, lon) float32 dask.array<shape=(9, 120, 128, 256), chunksize=(1, 120, 128, 256)>\n",
       "    zbudth   (ensemble, time, lat, lon) float32 dask.array<shape=(9, 120, 128, 256), chunksize=(1, 120, 128, 256)>\n",
       "    rsut     (ensemble, time, lat, lon) float32 dask.array<shape=(9, 120, 128, 256), chunksize=(1, 120, 128, 256)>\n",
       "    rsutcs   (ensemble, time, lat, lon) float32 dask.array<shape=(9, 120, 128, 256), chunksize=(1, 120, 128, 256)>\n",
       "    rluscs   (ensemble, time, lat, lon) float32 dask.array<shape=(9, 120, 128, 256), chunksize=(1, 120, 128, 256)>\n",
       "    rsuscs   (ensemble, time, lat, lon) float32 dask.array<shape=(9, 120, 128, 256), chunksize=(1, 120, 128, 256)>\n",
       "    rtmt     (ensemble, time, lat, lon) float32 dask.array<shape=(9, 120, 128, 256), chunksize=(1, 120, 128, 256)>\n",
       "    ozont    (ensemble, time, lat, lon) float32 dask.array<shape=(9, 120, 128, 256), chunksize=(1, 120, 128, 256)>\n",
       "    zgll     (ensemble, time, lat, lon) float32 dask.array<shape=(9, 120, 128, 256), chunksize=(1, 120, 128, 256)>\n",
       "    tall     (ensemble, time, lat, lon) float32 dask.array<shape=(9, 120, 128, 256), chunksize=(1, 120, 128, 256)>\n",
       "    husll    (ensemble, time, lat, lon) float32 dask.array<shape=(9, 120, 128, 256), chunksize=(1, 120, 128, 256)>\n",
       "    hurll    (ensemble, time, lat, lon) float32 dask.array<shape=(9, 120, 128, 256), chunksize=(1, 120, 128, 256)>\n",
       "    uall     (ensemble, time, lat, lon) float32 dask.array<shape=(9, 120, 128, 256), chunksize=(1, 120, 128, 256)>\n",
       "    vall     (ensemble, time, lat, lon) float32 dask.array<shape=(9, 120, 128, 256), chunksize=(1, 120, 128, 256)>\n",
       "    ps       (ensemble, time, lat, lon) float32 dask.array<shape=(9, 120, 128, 256), chunksize=(1, 120, 128, 256)>\n",
       "    psl      (ensemble, time, lat, lon) float32 dask.array<shape=(9, 120, 128, 256), chunksize=(1, 120, 128, 256)>\n",
       "    ua       (ensemble, time, plev, lat, lon) float32 dask.array<shape=(9, 120, 28, 128, 256), chunksize=(1, 120, 28, 128, 256)>\n",
       "    va       (ensemble, time, plev, lat, lon) float32 dask.array<shape=(9, 120, 28, 128, 256), chunksize=(1, 120, 28, 128, 256)>\n",
       "    ta       (ensemble, time, plev, lat, lon) float32 dask.array<shape=(9, 120, 28, 128, 256), chunksize=(1, 120, 28, 128, 256)>\n",
       "    hus      (ensemble, time, plev, lat, lon) float32 dask.array<shape=(9, 120, 28, 128, 256), chunksize=(1, 120, 28, 128, 256)>\n",
       "    hur      (ensemble, time, plev, lat, lon) float32 dask.array<shape=(9, 120, 28, 128, 256), chunksize=(1, 120, 28, 128, 256)>\n",
       "    zg       (ensemble, time, plev, lat, lon) float32 dask.array<shape=(9, 120, 28, 128, 256), chunksize=(1, 120, 28, 128, 256)>\n",
       "    wap      (ensemble, time, plev, lat, lon) float32 dask.array<shape=(9, 120, 28, 128, 256), chunksize=(1, 120, 28, 128, 256)>\n",
       "    ozon     (ensemble, time, plev, lat, lon) float32 dask.array<shape=(9, 120, 28, 128, 256), chunksize=(1, 120, 28, 128, 256)>\n",
       "Attributes:\n",
       "    title:                     PRE 623 Tuning\n",
       "    Conventions:               CF-1.0\n",
       "    institution:               CNRM (Centre National de Recherches Meteorolog...\n",
       "    references:                arpege version 6.23 (PRE_AR6)\n",
       "    source:                    arpege-climat\n",
       "    history:                   Mon Sep 12 11:12:19 2016: ncrcat -n 12,2,1 PRE...\n",
       "    comment:                   Monthly mean\n",
       "    nco_openmp_thread_number:  1>"
      ]
     },
     "execution_count": 15,
     "metadata": {},
     "output_type": "execute_result"
    }
   ],
   "source": [
    "a\n"
   ]
  }
 ],
 "metadata": {
  "kernelspec": {
   "display_name": "Python 3",
   "language": "python",
   "name": "python3"
  }
 },
 "nbformat": 4,
 "nbformat_minor": 4
}
